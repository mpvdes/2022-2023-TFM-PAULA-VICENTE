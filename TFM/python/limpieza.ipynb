{
 "cells": [
  {
   "cell_type": "code",
   "execution_count": 108,
   "id": "30427ba2",
   "metadata": {},
   "outputs": [],
   "source": [
    "import pandas as pd\n",
    "import matplotlib.pyplot as plt\n",
    "import seaborn as sns #importo la libreria \n",
    "import plotly"
   ]
  },
  {
   "cell_type": "code",
   "execution_count": 125,
   "id": "396961b1",
   "metadata": {},
   "outputs": [
    {
     "name": "stdout",
     "output_type": "stream",
     "text": [
      "<class 'pandas.core.frame.DataFrame'>\n",
      "RangeIndex: 10101 entries, 0 to 10100\n",
      "Data columns (total 27 columns):\n",
      " #   Column        Non-Null Count  Dtype  \n",
      "---  ------        --------------  -----  \n",
      " 0   autor         10101 non-null  object \n",
      " 1   etiqueta      10101 non-null  object \n",
      " 2   descripcion   9342 non-null   object \n",
      " 3   ocupacion     9432 non-null   object \n",
      " 4   genero        10101 non-null  object \n",
      " 5   nacAño        9617 non-null   float64\n",
      " 6   nacLugar      6847 non-null   object \n",
      " 7   nacLat        6826 non-null   float64\n",
      " 8   nacLon        6826 non-null   float64\n",
      " 9   nacPais       6837 non-null   object \n",
      " 10  morAño        3036 non-null   float64\n",
      " 11  morLugar      2330 non-null   object \n",
      " 12  morLat        2322 non-null   float64\n",
      " 13  morLon        2322 non-null   float64\n",
      " 14  morPais       2325 non-null   object \n",
      " 15  mncarsBib     10101 non-null  object \n",
      " 16  qid           10101 non-null  object \n",
      " 17  wikidataURL   10101 non-null  object \n",
      " 18  viaf          9974 non-null   object \n",
      " 19  viafURL       9974 non-null   object \n",
      " 20  bne           2893 non-null   object \n",
      " 21  bneURL        2893 non-null   object \n",
      " 22  mncars        219 non-null    object \n",
      " 23  mncarsCatWeb  219 non-null    object \n",
      " 24  wikipedias    6858 non-null   object \n",
      " 25  wk_ES         2790 non-null   object \n",
      " 26  wkPREF        6858 non-null   object \n",
      "dtypes: float64(6), object(21)\n",
      "memory usage: 2.1+ MB\n"
     ]
    }
   ],
   "source": [
    "empleos.info()"
   ]
  },
  {
   "cell_type": "markdown",
   "id": "a2ee60ec",
   "metadata": {},
   "source": [
    "Hay muchas entradas en las que no aparece el país. Solo 6837 entradas tienen valor en el campo nacPais"
   ]
  },
  {
   "cell_type": "markdown",
   "id": "8b3cef44",
   "metadata": {},
   "source": [
    "# PIB"
   ]
  },
  {
   "cell_type": "code",
   "execution_count": 109,
   "id": "87832665",
   "metadata": {},
   "outputs": [
    {
     "ename": "ImportError",
     "evalue": "lxml not found, please install it",
     "output_type": "error",
     "traceback": [
      "\u001b[1;31m---------------------------------------------------------------------------\u001b[0m",
      "\u001b[1;31mImportError\u001b[0m                               Traceback (most recent call last)",
      "Cell \u001b[1;32mIn[109], line 2\u001b[0m\n\u001b[0;32m      1\u001b[0m url \u001b[38;5;241m=\u001b[39m \u001b[38;5;124m'\u001b[39m\u001b[38;5;124mhttps://es.wikipedia.org/wiki/Anexo:Pa\u001b[39m\u001b[38;5;124m%\u001b[39m\u001b[38;5;124mC3\u001b[39m\u001b[38;5;124m%\u001b[39m\u001b[38;5;124mADses_por_PIB_(nominal)\u001b[39m\u001b[38;5;124m'\u001b[39m\n\u001b[1;32m----> 2\u001b[0m t \u001b[38;5;241m=\u001b[39m \u001b[43mpd\u001b[49m\u001b[38;5;241;43m.\u001b[39;49m\u001b[43mread_html\u001b[49m\u001b[43m(\u001b[49m\u001b[43murl\u001b[49m\u001b[43m)\u001b[49m\n\u001b[0;32m      3\u001b[0m \u001b[38;5;28mlen\u001b[39m(t)\n",
      "File \u001b[1;32m~\\AppData\\Local\\Programs\\Python\\Python311\\Lib\\site-packages\\pandas\\util\\_decorators.py:331\u001b[0m, in \u001b[0;36mdeprecate_nonkeyword_arguments.<locals>.decorate.<locals>.wrapper\u001b[1;34m(*args, **kwargs)\u001b[0m\n\u001b[0;32m    325\u001b[0m \u001b[38;5;28;01mif\u001b[39;00m \u001b[38;5;28mlen\u001b[39m(args) \u001b[38;5;241m>\u001b[39m num_allow_args:\n\u001b[0;32m    326\u001b[0m     warnings\u001b[38;5;241m.\u001b[39mwarn(\n\u001b[0;32m    327\u001b[0m         msg\u001b[38;5;241m.\u001b[39mformat(arguments\u001b[38;5;241m=\u001b[39m_format_argument_list(allow_args)),\n\u001b[0;32m    328\u001b[0m         \u001b[38;5;167;01mFutureWarning\u001b[39;00m,\n\u001b[0;32m    329\u001b[0m         stacklevel\u001b[38;5;241m=\u001b[39mfind_stack_level(),\n\u001b[0;32m    330\u001b[0m     )\n\u001b[1;32m--> 331\u001b[0m \u001b[38;5;28;01mreturn\u001b[39;00m \u001b[43mfunc\u001b[49m\u001b[43m(\u001b[49m\u001b[38;5;241;43m*\u001b[39;49m\u001b[43margs\u001b[49m\u001b[43m,\u001b[49m\u001b[43m \u001b[49m\u001b[38;5;241;43m*\u001b[39;49m\u001b[38;5;241;43m*\u001b[39;49m\u001b[43mkwargs\u001b[49m\u001b[43m)\u001b[49m\n",
      "File \u001b[1;32m~\\AppData\\Local\\Programs\\Python\\Python311\\Lib\\site-packages\\pandas\\io\\html.py:1205\u001b[0m, in \u001b[0;36mread_html\u001b[1;34m(io, match, flavor, header, index_col, skiprows, attrs, parse_dates, thousands, encoding, decimal, converters, na_values, keep_default_na, displayed_only, extract_links)\u001b[0m\n\u001b[0;32m   1201\u001b[0m validate_header_arg(header)\n\u001b[0;32m   1203\u001b[0m io \u001b[38;5;241m=\u001b[39m stringify_path(io)\n\u001b[1;32m-> 1205\u001b[0m \u001b[38;5;28;01mreturn\u001b[39;00m \u001b[43m_parse\u001b[49m\u001b[43m(\u001b[49m\n\u001b[0;32m   1206\u001b[0m \u001b[43m    \u001b[49m\u001b[43mflavor\u001b[49m\u001b[38;5;241;43m=\u001b[39;49m\u001b[43mflavor\u001b[49m\u001b[43m,\u001b[49m\n\u001b[0;32m   1207\u001b[0m \u001b[43m    \u001b[49m\u001b[43mio\u001b[49m\u001b[38;5;241;43m=\u001b[39;49m\u001b[43mio\u001b[49m\u001b[43m,\u001b[49m\n\u001b[0;32m   1208\u001b[0m \u001b[43m    \u001b[49m\u001b[43mmatch\u001b[49m\u001b[38;5;241;43m=\u001b[39;49m\u001b[43mmatch\u001b[49m\u001b[43m,\u001b[49m\n\u001b[0;32m   1209\u001b[0m \u001b[43m    \u001b[49m\u001b[43mheader\u001b[49m\u001b[38;5;241;43m=\u001b[39;49m\u001b[43mheader\u001b[49m\u001b[43m,\u001b[49m\n\u001b[0;32m   1210\u001b[0m \u001b[43m    \u001b[49m\u001b[43mindex_col\u001b[49m\u001b[38;5;241;43m=\u001b[39;49m\u001b[43mindex_col\u001b[49m\u001b[43m,\u001b[49m\n\u001b[0;32m   1211\u001b[0m \u001b[43m    \u001b[49m\u001b[43mskiprows\u001b[49m\u001b[38;5;241;43m=\u001b[39;49m\u001b[43mskiprows\u001b[49m\u001b[43m,\u001b[49m\n\u001b[0;32m   1212\u001b[0m \u001b[43m    \u001b[49m\u001b[43mparse_dates\u001b[49m\u001b[38;5;241;43m=\u001b[39;49m\u001b[43mparse_dates\u001b[49m\u001b[43m,\u001b[49m\n\u001b[0;32m   1213\u001b[0m \u001b[43m    \u001b[49m\u001b[43mthousands\u001b[49m\u001b[38;5;241;43m=\u001b[39;49m\u001b[43mthousands\u001b[49m\u001b[43m,\u001b[49m\n\u001b[0;32m   1214\u001b[0m \u001b[43m    \u001b[49m\u001b[43mattrs\u001b[49m\u001b[38;5;241;43m=\u001b[39;49m\u001b[43mattrs\u001b[49m\u001b[43m,\u001b[49m\n\u001b[0;32m   1215\u001b[0m \u001b[43m    \u001b[49m\u001b[43mencoding\u001b[49m\u001b[38;5;241;43m=\u001b[39;49m\u001b[43mencoding\u001b[49m\u001b[43m,\u001b[49m\n\u001b[0;32m   1216\u001b[0m \u001b[43m    \u001b[49m\u001b[43mdecimal\u001b[49m\u001b[38;5;241;43m=\u001b[39;49m\u001b[43mdecimal\u001b[49m\u001b[43m,\u001b[49m\n\u001b[0;32m   1217\u001b[0m \u001b[43m    \u001b[49m\u001b[43mconverters\u001b[49m\u001b[38;5;241;43m=\u001b[39;49m\u001b[43mconverters\u001b[49m\u001b[43m,\u001b[49m\n\u001b[0;32m   1218\u001b[0m \u001b[43m    \u001b[49m\u001b[43mna_values\u001b[49m\u001b[38;5;241;43m=\u001b[39;49m\u001b[43mna_values\u001b[49m\u001b[43m,\u001b[49m\n\u001b[0;32m   1219\u001b[0m \u001b[43m    \u001b[49m\u001b[43mkeep_default_na\u001b[49m\u001b[38;5;241;43m=\u001b[39;49m\u001b[43mkeep_default_na\u001b[49m\u001b[43m,\u001b[49m\n\u001b[0;32m   1220\u001b[0m \u001b[43m    \u001b[49m\u001b[43mdisplayed_only\u001b[49m\u001b[38;5;241;43m=\u001b[39;49m\u001b[43mdisplayed_only\u001b[49m\u001b[43m,\u001b[49m\n\u001b[0;32m   1221\u001b[0m \u001b[43m    \u001b[49m\u001b[43mextract_links\u001b[49m\u001b[38;5;241;43m=\u001b[39;49m\u001b[43mextract_links\u001b[49m\u001b[43m,\u001b[49m\n\u001b[0;32m   1222\u001b[0m \u001b[43m\u001b[49m\u001b[43m)\u001b[49m\n",
      "File \u001b[1;32m~\\AppData\\Local\\Programs\\Python\\Python311\\Lib\\site-packages\\pandas\\io\\html.py:982\u001b[0m, in \u001b[0;36m_parse\u001b[1;34m(flavor, io, match, attrs, encoding, displayed_only, extract_links, **kwargs)\u001b[0m\n\u001b[0;32m    980\u001b[0m retained \u001b[38;5;241m=\u001b[39m \u001b[38;5;28;01mNone\u001b[39;00m\n\u001b[0;32m    981\u001b[0m \u001b[38;5;28;01mfor\u001b[39;00m flav \u001b[38;5;129;01min\u001b[39;00m flavor:\n\u001b[1;32m--> 982\u001b[0m     parser \u001b[38;5;241m=\u001b[39m \u001b[43m_parser_dispatch\u001b[49m\u001b[43m(\u001b[49m\u001b[43mflav\u001b[49m\u001b[43m)\u001b[49m\n\u001b[0;32m    983\u001b[0m     p \u001b[38;5;241m=\u001b[39m parser(io, compiled_match, attrs, encoding, displayed_only, extract_links)\n\u001b[0;32m    985\u001b[0m     \u001b[38;5;28;01mtry\u001b[39;00m:\n",
      "File \u001b[1;32m~\\AppData\\Local\\Programs\\Python\\Python311\\Lib\\site-packages\\pandas\\io\\html.py:939\u001b[0m, in \u001b[0;36m_parser_dispatch\u001b[1;34m(flavor)\u001b[0m\n\u001b[0;32m    937\u001b[0m \u001b[38;5;28;01melse\u001b[39;00m:\n\u001b[0;32m    938\u001b[0m     \u001b[38;5;28;01mif\u001b[39;00m \u001b[38;5;129;01mnot\u001b[39;00m _HAS_LXML:\n\u001b[1;32m--> 939\u001b[0m         \u001b[38;5;28;01mraise\u001b[39;00m \u001b[38;5;167;01mImportError\u001b[39;00m(\u001b[38;5;124m\"\u001b[39m\u001b[38;5;124mlxml not found, please install it\u001b[39m\u001b[38;5;124m\"\u001b[39m)\n\u001b[0;32m    940\u001b[0m \u001b[38;5;28;01mreturn\u001b[39;00m _valid_parsers[flavor]\n",
      "\u001b[1;31mImportError\u001b[0m: lxml not found, please install it"
     ]
    }
   ],
   "source": [
    "url = 'https://es.wikipedia.org/wiki/Anexo:Pa%C3%ADses_por_PIB_(nominal)'\n",
    "t = pd.read_html(url)\n",
    "len(t)"
   ]
  },
  {
   "cell_type": "code",
   "execution_count": 54,
   "id": "b8d1b00d",
   "metadata": {},
   "outputs": [
    {
     "data": {
      "text/html": [
       "<div>\n",
       "<style scoped>\n",
       "    .dataframe tbody tr th:only-of-type {\n",
       "        vertical-align: middle;\n",
       "    }\n",
       "\n",
       "    .dataframe tbody tr th {\n",
       "        vertical-align: top;\n",
       "    }\n",
       "\n",
       "    .dataframe thead th {\n",
       "        text-align: right;\n",
       "    }\n",
       "</style>\n",
       "<table border=\"1\" class=\"dataframe\">\n",
       "  <thead>\n",
       "    <tr style=\"text-align: right;\">\n",
       "      <th></th>\n",
       "      <th>Pos.</th>\n",
       "      <th>País (o territorio)</th>\n",
       "      <th>PIB nominal (millones  de USD)</th>\n",
       "      <th>Año</th>\n",
       "    </tr>\n",
       "  </thead>\n",
       "  <tbody>\n",
       "    <tr>\n",
       "      <th>0</th>\n",
       "      <td>NaN</td>\n",
       "      <td>Mundo</td>\n",
       "      <td>79 580 000</td>\n",
       "      <td>2017</td>\n",
       "    </tr>\n",
       "    <tr>\n",
       "      <th>1</th>\n",
       "      <td>1.0</td>\n",
       "      <td>Estados Unidos</td>\n",
       "      <td>19 360 000</td>\n",
       "      <td>2017</td>\n",
       "    </tr>\n",
       "    <tr>\n",
       "      <th>2</th>\n",
       "      <td>NaN</td>\n",
       "      <td>Unión Europea</td>\n",
       "      <td>16 520 000</td>\n",
       "      <td>2017</td>\n",
       "    </tr>\n",
       "    <tr>\n",
       "      <th>3</th>\n",
       "      <td>2.0</td>\n",
       "      <td>China</td>\n",
       "      <td>11 940 000</td>\n",
       "      <td>2017</td>\n",
       "    </tr>\n",
       "    <tr>\n",
       "      <th>4</th>\n",
       "      <td>3.0</td>\n",
       "      <td>Japón</td>\n",
       "      <td>4 884 000</td>\n",
       "      <td>2017</td>\n",
       "    </tr>\n",
       "    <tr>\n",
       "      <th>...</th>\n",
       "      <td>...</td>\n",
       "      <td>...</td>\n",
       "      <td>...</td>\n",
       "      <td>...</td>\n",
       "    </tr>\n",
       "    <tr>\n",
       "      <th>214</th>\n",
       "      <td>190.0</td>\n",
       "      <td>Kiribati</td>\n",
       "      <td>186</td>\n",
       "      <td>2017</td>\n",
       "    </tr>\n",
       "    <tr>\n",
       "      <th>215</th>\n",
       "      <td>NaN</td>\n",
       "      <td>Anguila (RU)</td>\n",
       "      <td>1754</td>\n",
       "      <td>2009</td>\n",
       "    </tr>\n",
       "    <tr>\n",
       "      <th>216</th>\n",
       "      <td>NaN</td>\n",
       "      <td>Islas Malvinas[7]​</td>\n",
       "      <td>1645</td>\n",
       "      <td>2007</td>\n",
       "    </tr>\n",
       "    <tr>\n",
       "      <th>217</th>\n",
       "      <td>191.0</td>\n",
       "      <td>Tuvalu</td>\n",
       "      <td>40</td>\n",
       "      <td>2017</td>\n",
       "    </tr>\n",
       "    <tr>\n",
       "      <th>218</th>\n",
       "      <td>NaN</td>\n",
       "      <td>Niue (NZ)</td>\n",
       "      <td>1001</td>\n",
       "      <td>2003</td>\n",
       "    </tr>\n",
       "  </tbody>\n",
       "</table>\n",
       "<p>219 rows × 4 columns</p>\n",
       "</div>"
      ],
      "text/plain": [
       "      Pos. País (o territorio) PIB nominal (millones  de USD)   Año\n",
       "0      NaN               Mundo                     79 580 000  2017\n",
       "1      1.0      Estados Unidos                     19 360 000  2017\n",
       "2      NaN       Unión Europea                     16 520 000  2017\n",
       "3      2.0               China                     11 940 000  2017\n",
       "4      3.0               Japón                      4 884 000  2017\n",
       "..     ...                 ...                            ...   ...\n",
       "214  190.0            Kiribati                            186  2017\n",
       "215    NaN        Anguila (RU)                           1754  2009\n",
       "216    NaN  Islas Malvinas[7]​                           1645  2007\n",
       "217  191.0              Tuvalu                             40  2017\n",
       "218    NaN           Niue (NZ)                           1001  2003\n",
       "\n",
       "[219 rows x 4 columns]"
      ]
     },
     "execution_count": 54,
     "metadata": {},
     "output_type": "execute_result"
    }
   ],
   "source": [
    "t[4]"
   ]
  },
  {
   "cell_type": "code",
   "execution_count": 64,
   "id": "7023765e",
   "metadata": {},
   "outputs": [
    {
     "data": {
      "text/html": [
       "<div>\n",
       "<style scoped>\n",
       "    .dataframe tbody tr th:only-of-type {\n",
       "        vertical-align: middle;\n",
       "    }\n",
       "\n",
       "    .dataframe tbody tr th {\n",
       "        vertical-align: top;\n",
       "    }\n",
       "\n",
       "    .dataframe thead th {\n",
       "        text-align: right;\n",
       "    }\n",
       "</style>\n",
       "<table border=\"1\" class=\"dataframe\">\n",
       "  <thead>\n",
       "    <tr style=\"text-align: right;\">\n",
       "      <th></th>\n",
       "      <th>País</th>\n",
       "      <th>PIB (nominal millones de USD)</th>\n",
       "    </tr>\n",
       "  </thead>\n",
       "  <tbody>\n",
       "    <tr>\n",
       "      <th>0</th>\n",
       "      <td>Estados Unidos</td>\n",
       "      <td>22 997 500</td>\n",
       "    </tr>\n",
       "    <tr>\n",
       "      <th>1</th>\n",
       "      <td>China</td>\n",
       "      <td>17 725 821</td>\n",
       "    </tr>\n",
       "    <tr>\n",
       "      <th>2</th>\n",
       "      <td>Japón</td>\n",
       "      <td>4 938 780</td>\n",
       "    </tr>\n",
       "    <tr>\n",
       "      <th>3</th>\n",
       "      <td>Alemania</td>\n",
       "      <td>4 220 591</td>\n",
       "    </tr>\n",
       "    <tr>\n",
       "      <th>4</th>\n",
       "      <td>India</td>\n",
       "      <td>3 037 901</td>\n",
       "    </tr>\n",
       "    <tr>\n",
       "      <th>5</th>\n",
       "      <td>Reino Unido</td>\n",
       "      <td>3 020 243</td>\n",
       "    </tr>\n",
       "    <tr>\n",
       "      <th>6</th>\n",
       "      <td>Francia</td>\n",
       "      <td>2 935 716</td>\n",
       "    </tr>\n",
       "    <tr>\n",
       "      <th>7</th>\n",
       "      <td>Italia</td>\n",
       "      <td>2 105 462</td>\n",
       "    </tr>\n",
       "    <tr>\n",
       "      <th>8</th>\n",
       "      <td>Canadá</td>\n",
       "      <td>1 990 566</td>\n",
       "    </tr>\n",
       "    <tr>\n",
       "      <th>9</th>\n",
       "      <td>Corea del Sur</td>\n",
       "      <td>1 797 081</td>\n",
       "    </tr>\n",
       "    <tr>\n",
       "      <th>10</th>\n",
       "      <td>Rusia</td>\n",
       "      <td>1 775 036</td>\n",
       "    </tr>\n",
       "    <tr>\n",
       "      <th>11</th>\n",
       "      <td>Australia</td>\n",
       "      <td>1 733 884</td>\n",
       "    </tr>\n",
       "    <tr>\n",
       "      <th>12</th>\n",
       "      <td>Brasil</td>\n",
       "      <td>1 611 864</td>\n",
       "    </tr>\n",
       "    <tr>\n",
       "      <th>13</th>\n",
       "      <td>España</td>\n",
       "      <td>1 421 979</td>\n",
       "    </tr>\n",
       "    <tr>\n",
       "      <th>14</th>\n",
       "      <td>México</td>\n",
       "      <td>1 292 298</td>\n",
       "    </tr>\n",
       "    <tr>\n",
       "      <th>15</th>\n",
       "      <td>Indonesia</td>\n",
       "      <td>1 183 053</td>\n",
       "    </tr>\n",
       "    <tr>\n",
       "      <th>16</th>\n",
       "      <td>Irán</td>\n",
       "      <td>1 081 383</td>\n",
       "    </tr>\n",
       "    <tr>\n",
       "      <th>17</th>\n",
       "      <td>Países Bajos</td>\n",
       "      <td>1 015 563</td>\n",
       "    </tr>\n",
       "    <tr>\n",
       "      <th>18</th>\n",
       "      <td>Arabia Saudita</td>\n",
       "      <td>842 363</td>\n",
       "    </tr>\n",
       "    <tr>\n",
       "      <th>19</th>\n",
       "      <td>Suiza</td>\n",
       "      <td>812 730</td>\n",
       "    </tr>\n",
       "    <tr>\n",
       "      <th>20</th>\n",
       "      <td>Turquía</td>\n",
       "      <td>809 641</td>\n",
       "    </tr>\n",
       "    <tr>\n",
       "      <th>21</th>\n",
       "      <td>Polonia</td>\n",
       "      <td>673 508</td>\n",
       "    </tr>\n",
       "    <tr>\n",
       "      <th>22</th>\n",
       "      <td>Suecia</td>\n",
       "      <td>625 575</td>\n",
       "    </tr>\n",
       "    <tr>\n",
       "      <th>23</th>\n",
       "      <td>Bélgica</td>\n",
       "      <td>599 232</td>\n",
       "    </tr>\n",
       "    <tr>\n",
       "      <th>24</th>\n",
       "      <td>Tailandia</td>\n",
       "      <td>505 666</td>\n",
       "    </tr>\n",
       "    <tr>\n",
       "      <th>25</th>\n",
       "      <td>Irlanda</td>\n",
       "      <td>498 261</td>\n",
       "    </tr>\n",
       "    <tr>\n",
       "      <th>26</th>\n",
       "      <td>Noruega</td>\n",
       "      <td>481 988</td>\n",
       "    </tr>\n",
       "    <tr>\n",
       "      <th>27</th>\n",
       "      <td>Argentina</td>\n",
       "      <td>480 986</td>\n",
       "    </tr>\n",
       "    <tr>\n",
       "      <th>28</th>\n",
       "      <td>Israel</td>\n",
       "      <td>480 904</td>\n",
       "    </tr>\n",
       "    <tr>\n",
       "      <th>29</th>\n",
       "      <td>Austria</td>\n",
       "      <td>476 797</td>\n",
       "    </tr>\n",
       "    <tr>\n",
       "      <th>30</th>\n",
       "      <td>Egipto</td>\n",
       "      <td>438 348</td>\n",
       "    </tr>\n",
       "    <tr>\n",
       "      <th>31</th>\n",
       "      <td>Nigeria</td>\n",
       "      <td>429 976</td>\n",
       "    </tr>\n",
       "    <tr>\n",
       "      <th>32</th>\n",
       "      <td>Sudáfrica</td>\n",
       "      <td>417 836</td>\n",
       "    </tr>\n",
       "    <tr>\n",
       "      <th>33</th>\n",
       "      <td>Emiratos Árabes Unidos</td>\n",
       "      <td>410 158</td>\n",
       "    </tr>\n",
       "    <tr>\n",
       "      <th>34</th>\n",
       "      <td>Dinamarca</td>\n",
       "      <td>395 528</td>\n",
       "    </tr>\n",
       "    <tr>\n",
       "      <th>35</th>\n",
       "      <td>Filipinas</td>\n",
       "      <td>393 440</td>\n",
       "    </tr>\n",
       "    <tr>\n",
       "      <th>36</th>\n",
       "      <td>Singapur</td>\n",
       "      <td>374 147</td>\n",
       "    </tr>\n",
       "    <tr>\n",
       "      <th>37</th>\n",
       "      <td>Vietnam</td>\n",
       "      <td>366 290</td>\n",
       "    </tr>\n",
       "    <tr>\n",
       "      <th>38</th>\n",
       "      <td>Malasia</td>\n",
       "      <td>357 422</td>\n",
       "    </tr>\n",
       "    <tr>\n",
       "      <th>39</th>\n",
       "      <td>Bangladés</td>\n",
       "      <td>354 574</td>\n",
       "    </tr>\n",
       "  </tbody>\n",
       "</table>\n",
       "</div>"
      ],
      "text/plain": [
       "                      País PIB (nominal millones de USD)\n",
       "0           Estados Unidos                    22 997 500\n",
       "1                    China                    17 725 821\n",
       "2                    Japón                     4 938 780\n",
       "3                 Alemania                     4 220 591\n",
       "4                    India                     3 037 901\n",
       "5              Reino Unido                     3 020 243\n",
       "6                  Francia                     2 935 716\n",
       "7                   Italia                     2 105 462\n",
       "8                   Canadá                     1 990 566\n",
       "9            Corea del Sur                     1 797 081\n",
       "10                   Rusia                     1 775 036\n",
       "11               Australia                     1 733 884\n",
       "12                  Brasil                     1 611 864\n",
       "13                  España                     1 421 979\n",
       "14                  México                     1 292 298\n",
       "15               Indonesia                     1 183 053\n",
       "16                    Irán                     1 081 383\n",
       "17            Países Bajos                     1 015 563\n",
       "18          Arabia Saudita                       842 363\n",
       "19                   Suiza                       812 730\n",
       "20                 Turquía                       809 641\n",
       "21                 Polonia                       673 508\n",
       "22                  Suecia                       625 575\n",
       "23                 Bélgica                       599 232\n",
       "24               Tailandia                       505 666\n",
       "25                 Irlanda                       498 261\n",
       "26                 Noruega                       481 988\n",
       "27               Argentina                       480 986\n",
       "28                  Israel                       480 904\n",
       "29                 Austria                       476 797\n",
       "30                  Egipto                       438 348\n",
       "31                 Nigeria                       429 976\n",
       "32               Sudáfrica                       417 836\n",
       "33  Emiratos Árabes Unidos                       410 158\n",
       "34               Dinamarca                       395 528\n",
       "35               Filipinas                       393 440\n",
       "36                Singapur                       374 147\n",
       "37                 Vietnam                       366 290\n",
       "38                 Malasia                       357 422\n",
       "39               Bangladés                       354 574"
      ]
     },
     "execution_count": 64,
     "metadata": {},
     "output_type": "execute_result"
    }
   ],
   "source": [
    "# he creado una tabla excel a partir de los datos de la wikipedia\n",
    "pib = pd.read_excel('PIB_2021.xlsx')\n",
    "pib"
   ]
  },
  {
   "cell_type": "code",
   "execution_count": 77,
   "id": "02239bbd",
   "metadata": {},
   "outputs": [
    {
     "data": {
      "text/html": [
       "<div>\n",
       "<style scoped>\n",
       "    .dataframe tbody tr th:only-of-type {\n",
       "        vertical-align: middle;\n",
       "    }\n",
       "\n",
       "    .dataframe tbody tr th {\n",
       "        vertical-align: top;\n",
       "    }\n",
       "\n",
       "    .dataframe thead th {\n",
       "        text-align: right;\n",
       "    }\n",
       "</style>\n",
       "<table border=\"1\" class=\"dataframe\">\n",
       "  <thead>\n",
       "    <tr style=\"text-align: right;\">\n",
       "      <th></th>\n",
       "      <th>País</th>\n",
       "      <th>PIB (nominal millones de USD)</th>\n",
       "      <th>PIB (float)</th>\n",
       "    </tr>\n",
       "  </thead>\n",
       "  <tbody>\n",
       "    <tr>\n",
       "      <th>0</th>\n",
       "      <td>Estados Unidos</td>\n",
       "      <td>22 997 500</td>\n",
       "      <td>22997500</td>\n",
       "    </tr>\n",
       "    <tr>\n",
       "      <th>1</th>\n",
       "      <td>China</td>\n",
       "      <td>17 725 821</td>\n",
       "      <td>17725821</td>\n",
       "    </tr>\n",
       "    <tr>\n",
       "      <th>2</th>\n",
       "      <td>Japón</td>\n",
       "      <td>4 938 780</td>\n",
       "      <td>4938780</td>\n",
       "    </tr>\n",
       "    <tr>\n",
       "      <th>3</th>\n",
       "      <td>Alemania</td>\n",
       "      <td>4 220 591</td>\n",
       "      <td>4220591</td>\n",
       "    </tr>\n",
       "    <tr>\n",
       "      <th>4</th>\n",
       "      <td>India</td>\n",
       "      <td>3 037 901</td>\n",
       "      <td>3037901</td>\n",
       "    </tr>\n",
       "    <tr>\n",
       "      <th>5</th>\n",
       "      <td>Reino Unido</td>\n",
       "      <td>3 020 243</td>\n",
       "      <td>3020243</td>\n",
       "    </tr>\n",
       "    <tr>\n",
       "      <th>6</th>\n",
       "      <td>Francia</td>\n",
       "      <td>2 935 716</td>\n",
       "      <td>2935716</td>\n",
       "    </tr>\n",
       "    <tr>\n",
       "      <th>7</th>\n",
       "      <td>Italia</td>\n",
       "      <td>2 105 462</td>\n",
       "      <td>2105462</td>\n",
       "    </tr>\n",
       "    <tr>\n",
       "      <th>8</th>\n",
       "      <td>Canadá</td>\n",
       "      <td>1 990 566</td>\n",
       "      <td>1990566</td>\n",
       "    </tr>\n",
       "    <tr>\n",
       "      <th>9</th>\n",
       "      <td>Corea del Sur</td>\n",
       "      <td>1 797 081</td>\n",
       "      <td>1797081</td>\n",
       "    </tr>\n",
       "    <tr>\n",
       "      <th>10</th>\n",
       "      <td>Rusia</td>\n",
       "      <td>1 775 036</td>\n",
       "      <td>1775036</td>\n",
       "    </tr>\n",
       "    <tr>\n",
       "      <th>11</th>\n",
       "      <td>Australia</td>\n",
       "      <td>1 733 884</td>\n",
       "      <td>1733884</td>\n",
       "    </tr>\n",
       "    <tr>\n",
       "      <th>12</th>\n",
       "      <td>Brasil</td>\n",
       "      <td>1 611 864</td>\n",
       "      <td>1611864</td>\n",
       "    </tr>\n",
       "    <tr>\n",
       "      <th>13</th>\n",
       "      <td>España</td>\n",
       "      <td>1 421 979</td>\n",
       "      <td>1421979</td>\n",
       "    </tr>\n",
       "    <tr>\n",
       "      <th>14</th>\n",
       "      <td>México</td>\n",
       "      <td>1 292 298</td>\n",
       "      <td>1292298</td>\n",
       "    </tr>\n",
       "    <tr>\n",
       "      <th>15</th>\n",
       "      <td>Indonesia</td>\n",
       "      <td>1 183 053</td>\n",
       "      <td>1183053</td>\n",
       "    </tr>\n",
       "    <tr>\n",
       "      <th>16</th>\n",
       "      <td>Irán</td>\n",
       "      <td>1 081 383</td>\n",
       "      <td>1081383</td>\n",
       "    </tr>\n",
       "    <tr>\n",
       "      <th>17</th>\n",
       "      <td>Países Bajos</td>\n",
       "      <td>1 015 563</td>\n",
       "      <td>1015563</td>\n",
       "    </tr>\n",
       "    <tr>\n",
       "      <th>18</th>\n",
       "      <td>Arabia Saudita</td>\n",
       "      <td>842 363</td>\n",
       "      <td>842363</td>\n",
       "    </tr>\n",
       "    <tr>\n",
       "      <th>19</th>\n",
       "      <td>Suiza</td>\n",
       "      <td>812 730</td>\n",
       "      <td>812730</td>\n",
       "    </tr>\n",
       "    <tr>\n",
       "      <th>20</th>\n",
       "      <td>Turquía</td>\n",
       "      <td>809 641</td>\n",
       "      <td>809641</td>\n",
       "    </tr>\n",
       "    <tr>\n",
       "      <th>21</th>\n",
       "      <td>Polonia</td>\n",
       "      <td>673 508</td>\n",
       "      <td>673508</td>\n",
       "    </tr>\n",
       "    <tr>\n",
       "      <th>22</th>\n",
       "      <td>Suecia</td>\n",
       "      <td>625 575</td>\n",
       "      <td>625575</td>\n",
       "    </tr>\n",
       "    <tr>\n",
       "      <th>23</th>\n",
       "      <td>Bélgica</td>\n",
       "      <td>599 232</td>\n",
       "      <td>599232</td>\n",
       "    </tr>\n",
       "    <tr>\n",
       "      <th>24</th>\n",
       "      <td>Tailandia</td>\n",
       "      <td>505 666</td>\n",
       "      <td>505666</td>\n",
       "    </tr>\n",
       "    <tr>\n",
       "      <th>25</th>\n",
       "      <td>Irlanda</td>\n",
       "      <td>498 261</td>\n",
       "      <td>498261</td>\n",
       "    </tr>\n",
       "    <tr>\n",
       "      <th>26</th>\n",
       "      <td>Noruega</td>\n",
       "      <td>481 988</td>\n",
       "      <td>481988</td>\n",
       "    </tr>\n",
       "    <tr>\n",
       "      <th>27</th>\n",
       "      <td>Argentina</td>\n",
       "      <td>480 986</td>\n",
       "      <td>480986</td>\n",
       "    </tr>\n",
       "    <tr>\n",
       "      <th>28</th>\n",
       "      <td>Israel</td>\n",
       "      <td>480 904</td>\n",
       "      <td>480904</td>\n",
       "    </tr>\n",
       "    <tr>\n",
       "      <th>29</th>\n",
       "      <td>Austria</td>\n",
       "      <td>476 797</td>\n",
       "      <td>476797</td>\n",
       "    </tr>\n",
       "    <tr>\n",
       "      <th>30</th>\n",
       "      <td>Egipto</td>\n",
       "      <td>438 348</td>\n",
       "      <td>438348</td>\n",
       "    </tr>\n",
       "    <tr>\n",
       "      <th>31</th>\n",
       "      <td>Nigeria</td>\n",
       "      <td>429 976</td>\n",
       "      <td>429976</td>\n",
       "    </tr>\n",
       "    <tr>\n",
       "      <th>32</th>\n",
       "      <td>Sudáfrica</td>\n",
       "      <td>417 836</td>\n",
       "      <td>417836</td>\n",
       "    </tr>\n",
       "    <tr>\n",
       "      <th>33</th>\n",
       "      <td>Emiratos Árabes Unidos</td>\n",
       "      <td>410 158</td>\n",
       "      <td>410158</td>\n",
       "    </tr>\n",
       "    <tr>\n",
       "      <th>34</th>\n",
       "      <td>Dinamarca</td>\n",
       "      <td>395 528</td>\n",
       "      <td>395528</td>\n",
       "    </tr>\n",
       "    <tr>\n",
       "      <th>35</th>\n",
       "      <td>Filipinas</td>\n",
       "      <td>393 440</td>\n",
       "      <td>393440</td>\n",
       "    </tr>\n",
       "    <tr>\n",
       "      <th>36</th>\n",
       "      <td>Singapur</td>\n",
       "      <td>374 147</td>\n",
       "      <td>374147</td>\n",
       "    </tr>\n",
       "    <tr>\n",
       "      <th>37</th>\n",
       "      <td>Vietnam</td>\n",
       "      <td>366 290</td>\n",
       "      <td>366290</td>\n",
       "    </tr>\n",
       "    <tr>\n",
       "      <th>38</th>\n",
       "      <td>Malasia</td>\n",
       "      <td>357 422</td>\n",
       "      <td>357422</td>\n",
       "    </tr>\n",
       "    <tr>\n",
       "      <th>39</th>\n",
       "      <td>Bangladés</td>\n",
       "      <td>354 574</td>\n",
       "      <td>354574</td>\n",
       "    </tr>\n",
       "  </tbody>\n",
       "</table>\n",
       "</div>"
      ],
      "text/plain": [
       "                      País PIB (nominal millones de USD)  PIB (float)\n",
       "0           Estados Unidos                    22 997 500     22997500\n",
       "1                    China                    17 725 821     17725821\n",
       "2                    Japón                     4 938 780      4938780\n",
       "3                 Alemania                     4 220 591      4220591\n",
       "4                    India                     3 037 901      3037901\n",
       "5              Reino Unido                     3 020 243      3020243\n",
       "6                  Francia                     2 935 716      2935716\n",
       "7                   Italia                     2 105 462      2105462\n",
       "8                   Canadá                     1 990 566      1990566\n",
       "9            Corea del Sur                     1 797 081      1797081\n",
       "10                   Rusia                     1 775 036      1775036\n",
       "11               Australia                     1 733 884      1733884\n",
       "12                  Brasil                     1 611 864      1611864\n",
       "13                  España                     1 421 979      1421979\n",
       "14                  México                     1 292 298      1292298\n",
       "15               Indonesia                     1 183 053      1183053\n",
       "16                    Irán                     1 081 383      1081383\n",
       "17            Países Bajos                     1 015 563      1015563\n",
       "18          Arabia Saudita                       842 363       842363\n",
       "19                   Suiza                       812 730       812730\n",
       "20                 Turquía                       809 641       809641\n",
       "21                 Polonia                       673 508       673508\n",
       "22                  Suecia                       625 575       625575\n",
       "23                 Bélgica                       599 232       599232\n",
       "24               Tailandia                       505 666       505666\n",
       "25                 Irlanda                       498 261       498261\n",
       "26                 Noruega                       481 988       481988\n",
       "27               Argentina                       480 986       480986\n",
       "28                  Israel                       480 904       480904\n",
       "29                 Austria                       476 797       476797\n",
       "30                  Egipto                       438 348       438348\n",
       "31                 Nigeria                       429 976       429976\n",
       "32               Sudáfrica                       417 836       417836\n",
       "33  Emiratos Árabes Unidos                       410 158       410158\n",
       "34               Dinamarca                       395 528       395528\n",
       "35               Filipinas                       393 440       393440\n",
       "36                Singapur                       374 147       374147\n",
       "37                 Vietnam                       366 290       366290\n",
       "38                 Malasia                       357 422       357422\n",
       "39               Bangladés                       354 574       354574"
      ]
     },
     "execution_count": 77,
     "metadata": {},
     "output_type": "execute_result"
    }
   ],
   "source": [
    "pib = pd.read_excel('PIB_2021.xlsx')\n",
    "def quitar_espacios_importes(x):\n",
    "    l = x.split()\n",
    "    d = ''.join(x for x in l)    \n",
    "    return int(d)\n",
    "\n",
    "\n",
    "def quitar_espacios_nombres_pais(x):\n",
    "    l = x.strip()    \n",
    "    return l\n",
    "\n",
    "\n",
    "pib['PIB (float)'] = pib['PIB (nominal millones de USD)'].map(quitar_espacios_importes)\n",
    "pib.País = pib.País.map(quitar_espacios_nombres_pais)\n",
    "pib"
   ]
  },
  {
   "cell_type": "code",
   "execution_count": 78,
   "id": "0efeb077",
   "metadata": {},
   "outputs": [],
   "source": [
    "## Cruzamos los datos con los paises del museo"
   ]
  },
  {
   "cell_type": "code",
   "execution_count": 79,
   "id": "3268585a",
   "metadata": {},
   "outputs": [
    {
     "data": {
      "text/plain": [
       "Estados Unidos    1266\n",
       "España            1023\n",
       "Alemania           701\n",
       "Francia            545\n",
       "Reino Unido        386\n",
       "                  ... \n",
       "Uzbekistán           1\n",
       "Sri Lanka            1\n",
       "Mónaco               1\n",
       "Afganistán           1\n",
       "Eritrea              1\n",
       "Name: nacPais, Length: 127, dtype: int64"
      ]
     },
     "execution_count": 79,
     "metadata": {},
     "output_type": "execute_result"
    }
   ],
   "source": [
    "paises"
   ]
  },
  {
   "cell_type": "code",
   "execution_count": 80,
   "id": "2064f232",
   "metadata": {},
   "outputs": [
    {
     "data": {
      "text/plain": [
       "Estados Unidos            1\n",
       "China                     1\n",
       "Suecia                    1\n",
       "Bélgica                   1\n",
       "Tailandia                 1\n",
       "Irlanda                   1\n",
       "Noruega                   1\n",
       "Argentina                 1\n",
       "Israel                    1\n",
       "Austria                   1\n",
       "Egipto                    1\n",
       "Nigeria                   1\n",
       "Sudáfrica                 1\n",
       "Emiratos Árabes Unidos    1\n",
       "Dinamarca                 1\n",
       "Filipinas                 1\n",
       "Singapur                  1\n",
       "Vietnam                   1\n",
       "Malasia                   1\n",
       "Polonia                   1\n",
       "Turquía                   1\n",
       "Suiza                     1\n",
       "Corea del Sur             1\n",
       "Japón                     1\n",
       "Alemania                  1\n",
       "India                     1\n",
       "Reino Unido               1\n",
       "Francia                   1\n",
       "Italia                    1\n",
       "Canadá                    1\n",
       "Rusia                     1\n",
       "Arabia Saudita            1\n",
       "Australia                 1\n",
       "Brasil                    1\n",
       "España                    1\n",
       "México                    1\n",
       "Indonesia                 1\n",
       "Irán                      1\n",
       "Países Bajos              1\n",
       "Bangladés                 1\n",
       "Name: País, dtype: int64"
      ]
     },
     "execution_count": 80,
     "metadata": {},
     "output_type": "execute_result"
    }
   ],
   "source": [
    "pib.País.value_counts()"
   ]
  },
  {
   "cell_type": "code",
   "execution_count": 82,
   "id": "70da3a51",
   "metadata": {},
   "outputs": [
    {
     "data": {
      "text/html": [
       "<div>\n",
       "<style scoped>\n",
       "    .dataframe tbody tr th:only-of-type {\n",
       "        vertical-align: middle;\n",
       "    }\n",
       "\n",
       "    .dataframe tbody tr th {\n",
       "        vertical-align: top;\n",
       "    }\n",
       "\n",
       "    .dataframe thead th {\n",
       "        text-align: right;\n",
       "    }\n",
       "</style>\n",
       "<table border=\"1\" class=\"dataframe\">\n",
       "  <thead>\n",
       "    <tr style=\"text-align: right;\">\n",
       "      <th></th>\n",
       "      <th>nacPais</th>\n",
       "      <th>País</th>\n",
       "      <th>PIB (nominal millones de USD)</th>\n",
       "      <th>PIB (float)</th>\n",
       "    </tr>\n",
       "  </thead>\n",
       "  <tbody>\n",
       "    <tr>\n",
       "      <th>0</th>\n",
       "      <td>1266</td>\n",
       "      <td>Estados Unidos</td>\n",
       "      <td>22 997 500</td>\n",
       "      <td>22997500</td>\n",
       "    </tr>\n",
       "    <tr>\n",
       "      <th>13</th>\n",
       "      <td>1023</td>\n",
       "      <td>España</td>\n",
       "      <td>1 421 979</td>\n",
       "      <td>1421979</td>\n",
       "    </tr>\n",
       "    <tr>\n",
       "      <th>3</th>\n",
       "      <td>701</td>\n",
       "      <td>Alemania</td>\n",
       "      <td>4 220 591</td>\n",
       "      <td>4220591</td>\n",
       "    </tr>\n",
       "    <tr>\n",
       "      <th>6</th>\n",
       "      <td>545</td>\n",
       "      <td>Francia</td>\n",
       "      <td>2 935 716</td>\n",
       "      <td>2935716</td>\n",
       "    </tr>\n",
       "    <tr>\n",
       "      <th>5</th>\n",
       "      <td>386</td>\n",
       "      <td>Reino Unido</td>\n",
       "      <td>3 020 243</td>\n",
       "      <td>3020243</td>\n",
       "    </tr>\n",
       "    <tr>\n",
       "      <th>7</th>\n",
       "      <td>252</td>\n",
       "      <td>Italia</td>\n",
       "      <td>2 105 462</td>\n",
       "      <td>2105462</td>\n",
       "    </tr>\n",
       "    <tr>\n",
       "      <th>29</th>\n",
       "      <td>161</td>\n",
       "      <td>Austria</td>\n",
       "      <td>476 797</td>\n",
       "      <td>476797</td>\n",
       "    </tr>\n",
       "    <tr>\n",
       "      <th>8</th>\n",
       "      <td>160</td>\n",
       "      <td>Canadá</td>\n",
       "      <td>1 990 566</td>\n",
       "      <td>1990566</td>\n",
       "    </tr>\n",
       "    <tr>\n",
       "      <th>19</th>\n",
       "      <td>159</td>\n",
       "      <td>Suiza</td>\n",
       "      <td>812 730</td>\n",
       "      <td>812730</td>\n",
       "    </tr>\n",
       "    <tr>\n",
       "      <th>27</th>\n",
       "      <td>132</td>\n",
       "      <td>Argentina</td>\n",
       "      <td>480 986</td>\n",
       "      <td>480986</td>\n",
       "    </tr>\n",
       "    <tr>\n",
       "      <th>21</th>\n",
       "      <td>129</td>\n",
       "      <td>Polonia</td>\n",
       "      <td>673 508</td>\n",
       "      <td>673508</td>\n",
       "    </tr>\n",
       "    <tr>\n",
       "      <th>17</th>\n",
       "      <td>126</td>\n",
       "      <td>Países Bajos</td>\n",
       "      <td>1 015 563</td>\n",
       "      <td>1015563</td>\n",
       "    </tr>\n",
       "    <tr>\n",
       "      <th>12</th>\n",
       "      <td>117</td>\n",
       "      <td>Brasil</td>\n",
       "      <td>1 611 864</td>\n",
       "      <td>1611864</td>\n",
       "    </tr>\n",
       "    <tr>\n",
       "      <th>22</th>\n",
       "      <td>94</td>\n",
       "      <td>Suecia</td>\n",
       "      <td>625 575</td>\n",
       "      <td>625575</td>\n",
       "    </tr>\n",
       "    <tr>\n",
       "      <th>14</th>\n",
       "      <td>93</td>\n",
       "      <td>México</td>\n",
       "      <td>1 292 298</td>\n",
       "      <td>1292298</td>\n",
       "    </tr>\n",
       "    <tr>\n",
       "      <th>2</th>\n",
       "      <td>87</td>\n",
       "      <td>Japón</td>\n",
       "      <td>4 938 780</td>\n",
       "      <td>4938780</td>\n",
       "    </tr>\n",
       "    <tr>\n",
       "      <th>23</th>\n",
       "      <td>84</td>\n",
       "      <td>Bélgica</td>\n",
       "      <td>599 232</td>\n",
       "      <td>599232</td>\n",
       "    </tr>\n",
       "    <tr>\n",
       "      <th>10</th>\n",
       "      <td>79</td>\n",
       "      <td>Rusia</td>\n",
       "      <td>1 775 036</td>\n",
       "      <td>1775036</td>\n",
       "    </tr>\n",
       "    <tr>\n",
       "      <th>11</th>\n",
       "      <td>60</td>\n",
       "      <td>Australia</td>\n",
       "      <td>1 733 884</td>\n",
       "      <td>1733884</td>\n",
       "    </tr>\n",
       "    <tr>\n",
       "      <th>28</th>\n",
       "      <td>59</td>\n",
       "      <td>Israel</td>\n",
       "      <td>480 904</td>\n",
       "      <td>480904</td>\n",
       "    </tr>\n",
       "    <tr>\n",
       "      <th>26</th>\n",
       "      <td>36</td>\n",
       "      <td>Noruega</td>\n",
       "      <td>481 988</td>\n",
       "      <td>481988</td>\n",
       "    </tr>\n",
       "    <tr>\n",
       "      <th>34</th>\n",
       "      <td>32</td>\n",
       "      <td>Dinamarca</td>\n",
       "      <td>395 528</td>\n",
       "      <td>395528</td>\n",
       "    </tr>\n",
       "    <tr>\n",
       "      <th>25</th>\n",
       "      <td>28</td>\n",
       "      <td>Irlanda</td>\n",
       "      <td>498 261</td>\n",
       "      <td>498261</td>\n",
       "    </tr>\n",
       "    <tr>\n",
       "      <th>4</th>\n",
       "      <td>27</td>\n",
       "      <td>India</td>\n",
       "      <td>3 037 901</td>\n",
       "      <td>3037901</td>\n",
       "    </tr>\n",
       "    <tr>\n",
       "      <th>32</th>\n",
       "      <td>21</td>\n",
       "      <td>Sudáfrica</td>\n",
       "      <td>417 836</td>\n",
       "      <td>417836</td>\n",
       "    </tr>\n",
       "    <tr>\n",
       "      <th>9</th>\n",
       "      <td>18</td>\n",
       "      <td>Corea del Sur</td>\n",
       "      <td>1 797 081</td>\n",
       "      <td>1797081</td>\n",
       "    </tr>\n",
       "    <tr>\n",
       "      <th>16</th>\n",
       "      <td>15</td>\n",
       "      <td>Irán</td>\n",
       "      <td>1 081 383</td>\n",
       "      <td>1081383</td>\n",
       "    </tr>\n",
       "    <tr>\n",
       "      <th>30</th>\n",
       "      <td>14</td>\n",
       "      <td>Egipto</td>\n",
       "      <td>438 348</td>\n",
       "      <td>438348</td>\n",
       "    </tr>\n",
       "    <tr>\n",
       "      <th>20</th>\n",
       "      <td>11</td>\n",
       "      <td>Turquía</td>\n",
       "      <td>809 641</td>\n",
       "      <td>809641</td>\n",
       "    </tr>\n",
       "    <tr>\n",
       "      <th>37</th>\n",
       "      <td>5</td>\n",
       "      <td>Vietnam</td>\n",
       "      <td>366 290</td>\n",
       "      <td>366290</td>\n",
       "    </tr>\n",
       "    <tr>\n",
       "      <th>35</th>\n",
       "      <td>4</td>\n",
       "      <td>Filipinas</td>\n",
       "      <td>393 440</td>\n",
       "      <td>393440</td>\n",
       "    </tr>\n",
       "    <tr>\n",
       "      <th>31</th>\n",
       "      <td>4</td>\n",
       "      <td>Nigeria</td>\n",
       "      <td>429 976</td>\n",
       "      <td>429976</td>\n",
       "    </tr>\n",
       "    <tr>\n",
       "      <th>15</th>\n",
       "      <td>4</td>\n",
       "      <td>Indonesia</td>\n",
       "      <td>1 183 053</td>\n",
       "      <td>1183053</td>\n",
       "    </tr>\n",
       "    <tr>\n",
       "      <th>39</th>\n",
       "      <td>2</td>\n",
       "      <td>Bangladés</td>\n",
       "      <td>354 574</td>\n",
       "      <td>354574</td>\n",
       "    </tr>\n",
       "    <tr>\n",
       "      <th>36</th>\n",
       "      <td>2</td>\n",
       "      <td>Singapur</td>\n",
       "      <td>374 147</td>\n",
       "      <td>374147</td>\n",
       "    </tr>\n",
       "    <tr>\n",
       "      <th>38</th>\n",
       "      <td>1</td>\n",
       "      <td>Malasia</td>\n",
       "      <td>357 422</td>\n",
       "      <td>357422</td>\n",
       "    </tr>\n",
       "    <tr>\n",
       "      <th>24</th>\n",
       "      <td>1</td>\n",
       "      <td>Tailandia</td>\n",
       "      <td>505 666</td>\n",
       "      <td>505666</td>\n",
       "    </tr>\n",
       "    <tr>\n",
       "      <th>18</th>\n",
       "      <td>1</td>\n",
       "      <td>Arabia Saudita</td>\n",
       "      <td>842 363</td>\n",
       "      <td>842363</td>\n",
       "    </tr>\n",
       "    <tr>\n",
       "      <th>33</th>\n",
       "      <td>1</td>\n",
       "      <td>Emiratos Árabes Unidos</td>\n",
       "      <td>410 158</td>\n",
       "      <td>410158</td>\n",
       "    </tr>\n",
       "  </tbody>\n",
       "</table>\n",
       "</div>"
      ],
      "text/plain": [
       "    nacPais                    País PIB (nominal millones de USD)  PIB (float)\n",
       "0      1266          Estados Unidos                    22 997 500     22997500\n",
       "13     1023                  España                     1 421 979      1421979\n",
       "3       701                Alemania                     4 220 591      4220591\n",
       "6       545                 Francia                     2 935 716      2935716\n",
       "5       386             Reino Unido                     3 020 243      3020243\n",
       "7       252                  Italia                     2 105 462      2105462\n",
       "29      161                 Austria                       476 797       476797\n",
       "8       160                  Canadá                     1 990 566      1990566\n",
       "19      159                   Suiza                       812 730       812730\n",
       "27      132               Argentina                       480 986       480986\n",
       "21      129                 Polonia                       673 508       673508\n",
       "17      126            Países Bajos                     1 015 563      1015563\n",
       "12      117                  Brasil                     1 611 864      1611864\n",
       "22       94                  Suecia                       625 575       625575\n",
       "14       93                  México                     1 292 298      1292298\n",
       "2        87                   Japón                     4 938 780      4938780\n",
       "23       84                 Bélgica                       599 232       599232\n",
       "10       79                   Rusia                     1 775 036      1775036\n",
       "11       60               Australia                     1 733 884      1733884\n",
       "28       59                  Israel                       480 904       480904\n",
       "26       36                 Noruega                       481 988       481988\n",
       "34       32               Dinamarca                       395 528       395528\n",
       "25       28                 Irlanda                       498 261       498261\n",
       "4        27                   India                     3 037 901      3037901\n",
       "32       21               Sudáfrica                       417 836       417836\n",
       "9        18           Corea del Sur                     1 797 081      1797081\n",
       "16       15                    Irán                     1 081 383      1081383\n",
       "30       14                  Egipto                       438 348       438348\n",
       "20       11                 Turquía                       809 641       809641\n",
       "37        5                 Vietnam                       366 290       366290\n",
       "35        4               Filipinas                       393 440       393440\n",
       "31        4                 Nigeria                       429 976       429976\n",
       "15        4               Indonesia                     1 183 053      1183053\n",
       "39        2               Bangladés                       354 574       354574\n",
       "36        2                Singapur                       374 147       374147\n",
       "38        1                 Malasia                       357 422       357422\n",
       "24        1               Tailandia                       505 666       505666\n",
       "18        1          Arabia Saudita                       842 363       842363\n",
       "33        1  Emiratos Árabes Unidos                       410 158       410158"
      ]
     },
     "execution_count": 82,
     "metadata": {},
     "output_type": "execute_result"
    }
   ],
   "source": [
    "pib_numero_mujers = pd.merge(paises, pib, left_index = True, right_on = 'País' )\n",
    "pib_numero_mujers"
   ]
  },
  {
   "cell_type": "code",
   "execution_count": 110,
   "id": "718a762f",
   "metadata": {},
   "outputs": [
    {
     "data": {
      "text/html": [
       "        <script type=\"text/javascript\">\n",
       "        window.PlotlyConfig = {MathJaxConfig: 'local'};\n",
       "        if (window.MathJax && window.MathJax.Hub && window.MathJax.Hub.Config) {window.MathJax.Hub.Config({SVG: {font: \"STIX-Web\"}});}\n",
       "        if (typeof require !== 'undefined') {\n",
       "        require.undef(\"plotly\");\n",
       "        requirejs.config({\n",
       "            paths: {\n",
       "                'plotly': ['https://cdn.plot.ly/plotly-2.26.0.min']\n",
       "            }\n",
       "        });\n",
       "        require(['plotly'], function(Plotly) {\n",
       "            window._Plotly = Plotly;\n",
       "        });\n",
       "        }\n",
       "        </script>\n",
       "        "
      ]
     },
     "metadata": {},
     "output_type": "display_data"
    }
   ],
   "source": [
    "import plotly.graph_objs as go\n",
    "\n",
    "from plotly.offline import init_notebook_mode, iplot\n",
    "init_notebook_mode(connected=True)"
   ]
  },
  {
   "cell_type": "code",
   "execution_count": 111,
   "id": "a0c144e5",
   "metadata": {},
   "outputs": [
    {
     "ename": "NameError",
     "evalue": "name 'pib_numero_mujers' is not defined",
     "output_type": "error",
     "traceback": [
      "\u001b[1;31m---------------------------------------------------------------------------\u001b[0m",
      "\u001b[1;31mNameError\u001b[0m                                 Traceback (most recent call last)",
      "Cell \u001b[1;32mIn[111], line 2\u001b[0m\n\u001b[0;32m      1\u001b[0m trace \u001b[38;5;241m=\u001b[39m go\u001b[38;5;241m.\u001b[39mScatter(\n\u001b[1;32m----> 2\u001b[0m     x \u001b[38;5;241m=\u001b[39m \u001b[43mpib_numero_mujers\u001b[49m\u001b[38;5;241m.\u001b[39mnacPais,\n\u001b[0;32m      3\u001b[0m     y \u001b[38;5;241m=\u001b[39m pib_numero_mujers[\u001b[38;5;124m'\u001b[39m\u001b[38;5;124mPIB (float)\u001b[39m\u001b[38;5;124m'\u001b[39m],\n\u001b[0;32m      4\u001b[0m     mode \u001b[38;5;241m=\u001b[39m \u001b[38;5;124m'\u001b[39m\u001b[38;5;124mmarkers\u001b[39m\u001b[38;5;124m'\u001b[39m,\n\u001b[0;32m      5\u001b[0m     text \u001b[38;5;241m=\u001b[39m pib_numero_mujers\u001b[38;5;241m.\u001b[39mPaís,\n\u001b[0;32m      6\u001b[0m     \n\u001b[0;32m      7\u001b[0m )\n\u001b[0;32m      9\u001b[0m data \u001b[38;5;241m=\u001b[39m [trace]\n\u001b[0;32m     11\u001b[0m layout \u001b[38;5;241m=\u001b[39m \u001b[38;5;28mdict\u001b[39m(\n\u001b[0;32m     12\u001b[0m             title\u001b[38;5;241m=\u001b[39m\u001b[38;5;124m'\u001b[39m\u001b[38;5;124mNúmero de artistas mujeres por país \u001b[39m\u001b[38;5;124m'\u001b[39m,\n\u001b[0;32m     13\u001b[0m             yaxis \u001b[38;5;241m=\u001b[39m \u001b[38;5;28mdict\u001b[39m(\n\u001b[1;32m   (...)\u001b[0m\n\u001b[0;32m     18\u001b[0m             )\n\u001b[0;32m     19\u001b[0m          )\n",
      "\u001b[1;31mNameError\u001b[0m: name 'pib_numero_mujers' is not defined"
     ]
    }
   ],
   "source": [
    "trace = go.Scatter(\n",
    "    x = pib_numero_mujers.nacPais,\n",
    "    y = pib_numero_mujers['PIB (float)'],\n",
    "    mode = 'markers',\n",
    "    text = pib_numero_mujers.País,\n",
    "    \n",
    ")\n",
    "\n",
    "data = [trace]\n",
    "\n",
    "layout = dict(\n",
    "            title='Número de artistas mujeres por país ',\n",
    "            yaxis = dict(\n",
    "                title = \"PIB (en USD)\"\n",
    "            ),\n",
    "            xaxis = dict(\n",
    "                title = \"Número de mujeres artistas\"\n",
    "            )\n",
    "         )\n",
    "fig = go.Figure(data=data, layout=layout)\n",
    "iplot(fig)\n",
    "\n"
   ]
  },
  {
   "cell_type": "markdown",
   "id": "27573b43",
   "metadata": {},
   "source": [
    "No parece que el número de artistas aumente si aumenta el pib del país."
   ]
  },
  {
   "cell_type": "markdown",
   "id": "a929234e",
   "metadata": {},
   "source": [
    "# Ocupación"
   ]
  },
  {
   "cell_type": "code",
   "execution_count": 10,
   "id": "a1af8717",
   "metadata": {},
   "outputs": [
    {
     "data": {
      "text/plain": [
       "0        comisaria de exposiciones|conservadora de muse...\n",
       "1                                    arquitecta|diseñadora\n",
       "2                                               arquitecta\n",
       "3          artista de instalaciones|fotógrafa|videoartista\n",
       "4                                    historiadora del arte\n",
       "                               ...                        \n",
       "10096                                            grabadora\n",
       "10097                                            fotógrafa\n",
       "10098                          ceramista|escultora|pintora\n",
       "10099                                 cantante|compositora\n",
       "10100                                              pintora\n",
       "Name: ocupacion, Length: 10101, dtype: object"
      ]
     },
     "execution_count": 10,
     "metadata": {},
     "output_type": "execute_result"
    }
   ],
   "source": [
    "empleos.ocupacion"
   ]
  },
  {
   "cell_type": "code",
   "execution_count": 11,
   "id": "e62b15b0",
   "metadata": {},
   "outputs": [
    {
     "data": {
      "text/plain": [
       "0        [comisaria de exposiciones, conservadora de mu...\n",
       "1                                 [arquitecta, diseñadora]\n",
       "2                                             [arquitecta]\n",
       "3        [artista de instalaciones, fotógrafa, videoart...\n",
       "4                                  [historiadora del arte]\n",
       "                               ...                        \n",
       "10096                                          [grabadora]\n",
       "10097                                          [fotógrafa]\n",
       "10098                      [ceramista, escultora, pintora]\n",
       "10099                              [cantante, compositora]\n",
       "10100                                            [pintora]\n",
       "Name: ocupacion, Length: 10101, dtype: object"
      ]
     },
     "execution_count": 11,
     "metadata": {},
     "output_type": "execute_result"
    }
   ],
   "source": [
    "def ocupaciones(x):\n",
    "    if type(x) == str:\n",
    "        x= x.strip()\n",
    "        x = x.split('|')\n",
    "        return x\n",
    "    else:\n",
    "        return []\n",
    "listas_empleos = empleos.ocupacion.map(ocupaciones)\n",
    "listas_empleos"
   ]
  },
  {
   "cell_type": "code",
   "execution_count": 12,
   "id": "1f4a79c0",
   "metadata": {},
   "outputs": [
    {
     "data": {
      "text/plain": [
       "0        comisaria de exposiciones\n",
       "1            conservadora de museo\n",
       "2            historiadora del arte\n",
       "3                           médica\n",
       "4                       arquitecta\n",
       "                   ...            \n",
       "22611                    escultora\n",
       "22612                      pintora\n",
       "22613                     cantante\n",
       "22614                  compositora\n",
       "22615                      pintora\n",
       "Name: Profesiones, Length: 22616, dtype: object"
      ]
     },
     "execution_count": 12,
     "metadata": {},
     "output_type": "execute_result"
    }
   ],
   "source": [
    "import itertools\n",
    "list2d = listas_empleos.to_list()\n",
    "merged = pd.Series(list(itertools.chain(*list2d)), name = 'Profesiones')\n",
    "merged"
   ]
  },
  {
   "cell_type": "code",
   "execution_count": 13,
   "id": "25c5241e",
   "metadata": {},
   "outputs": [
    {
     "data": {
      "text/plain": [
       "pintora                  2150\n",
       "artista                  1451\n",
       "historiadora del arte    1402\n",
       "escritora                1324\n",
       "fotógrafa                1210\n",
       "                         ... \n",
       "antóloga                    1\n",
       "alto cargo                  1\n",
       "numismática                 1\n",
       "profesora de voz            1\n",
       "cantera                     1\n",
       "Name: Profesiones, Length: 588, dtype: int64"
      ]
     },
     "execution_count": 13,
     "metadata": {},
     "output_type": "execute_result"
    }
   ],
   "source": [
    "profesiones = merged.value_counts()\n",
    "profesiones"
   ]
  },
  {
   "cell_type": "code",
   "execution_count": 14,
   "id": "73188e69",
   "metadata": {},
   "outputs": [
    {
     "data": {
      "text/plain": [
       "pintora                      2150\n",
       "artista                      1451\n",
       "historiadora del arte        1402\n",
       "escritora                    1324\n",
       "fotógrafa                    1210\n",
       "escultora                     954\n",
       "profesora universitaria       826\n",
       "artista visual                749\n",
       "conservadora de museo         506\n",
       "comisaria de exposiciones     448\n",
       "periodista                    444\n",
       "artista de instalaciones      441\n",
       "videoartista                  406\n",
       "poeta                         389\n",
       "actriz                        374\n",
       "dibujante                     350\n",
       "grabadora                     332\n",
       "historiadora                  325\n",
       "actriz de cine                289\n",
       "directora de cine             250\n",
       "traductora                    234\n",
       "crítica de arte               220\n",
       "guionista                     218\n",
       "ilustradora                   210\n",
       "artista de performance        207\n",
       "novelista                     199\n",
       "autora                        186\n",
       "artista gráfico               184\n",
       "diseñadora                    161\n",
       "catedrática                   159\n",
       "Name: Profesiones, dtype: int64"
      ]
     },
     "execution_count": 14,
     "metadata": {},
     "output_type": "execute_result"
    }
   ],
   "source": [
    "profesiones[:30]"
   ]
  },
  {
   "cell_type": "code",
   "execution_count": 16,
   "id": "2c479873",
   "metadata": {},
   "outputs": [
    {
     "data": {
      "image/png": "[encoded data removed]",
      "text/plain": [
       "<Figure size 1000x1000 with 1 Axes>"
      ]
     },
     "metadata": {},
     "output_type": "display_data"
    }
   ],
   "source": [
    "# Gráfico de barras de todas las ocupaciones\n",
    "plt.figure(figsize=(10, 10))\n",
    "profesiones[:20].plot(kind = 'barh', color='#FCD9BC')\n",
    "plt.title('Número de mujeres por ocupación')\n",
    "plt.show()"
   ]
  },
  {
   "cell_type": "code",
   "execution_count": 48,
   "id": "6b0b6e74",
   "metadata": {},
   "outputs": [],
   "source": [
    "profesiones = pd.read_excel(\"visitaok.xls\")"
   ]
  },
  {
   "cell_type": "code",
   "execution_count": 79,
   "id": "3e5e7ff5",
   "metadata": {},
   "outputs": [
    {
     "data": {
      "text/html": [
       "<div>\n",
       "<style scoped>\n",
       "    .dataframe tbody tr th:only-of-type {\n",
       "        vertical-align: middle;\n",
       "    }\n",
       "\n",
       "    .dataframe tbody tr th {\n",
       "        vertical-align: top;\n",
       "    }\n",
       "\n",
       "    .dataframe thead th {\n",
       "        text-align: right;\n",
       "    }\n",
       "</style>\n",
       "<table border=\"1\" class=\"dataframe\">\n",
       "  <thead>\n",
       "    <tr style=\"text-align: right;\">\n",
       "      <th></th>\n",
       "      <th>Encuesta de Hábitos y Prácticas Culturales 2021-2022</th>\n",
       "      <th>Column</th>\n",
       "      <th>Column2</th>\n",
       "      <th>Column3</th>\n",
       "      <th>Column4</th>\n",
       "      <th>Column5</th>\n",
       "      <th>Column6</th>\n",
       "      <th>Column7</th>\n",
       "      <th>Column8</th>\n",
       "      <th>Column9</th>\n",
       "      <th>Column10</th>\n",
       "      <th>Column 12</th>\n",
       "      <th>Column 13</th>\n",
       "      <th>Column 14</th>\n",
       "      <th>Column 15</th>\n",
       "      <th>Column 16</th>\n",
       "      <th>Column 17</th>\n",
       "      <th>Column 18</th>\n",
       "      <th>Column 19</th>\n",
       "    </tr>\n",
       "  </thead>\n",
       "  <tbody>\n",
       "    <tr>\n",
       "      <th>0</th>\n",
       "      <td></td>\n",
       "      <td>Museos</td>\n",
       "      <td>NaN</td>\n",
       "      <td>NaN</td>\n",
       "      <td>Exposiciones</td>\n",
       "      <td>NaN</td>\n",
       "      <td>NaN</td>\n",
       "      <td>Galerías de arte</td>\n",
       "      <td>NaN</td>\n",
       "      <td>NaN</td>\n",
       "      <td>Monumentos</td>\n",
       "      <td>NaN</td>\n",
       "      <td>NaN</td>\n",
       "      <td>Yacimientos arqueológicos</td>\n",
       "      <td>NaN</td>\n",
       "      <td>NaN</td>\n",
       "      <td>Archivos</td>\n",
       "      <td>NaN</td>\n",
       "      <td>NaN</td>\n",
       "    </tr>\n",
       "    <tr>\n",
       "      <th>1</th>\n",
       "      <td></td>\n",
       "      <td>Total han visitado en un año</td>\n",
       "      <td>profesión</td>\n",
       "      <td>ocio</td>\n",
       "      <td>Total han visitado en un año</td>\n",
       "      <td>Por profesión o estudios</td>\n",
       "      <td>Por ocio o entretenimiento</td>\n",
       "      <td>Total han visitado en un año</td>\n",
       "      <td>Por profesión o estudios</td>\n",
       "      <td>Por ocio o entretenimiento</td>\n",
       "      <td>Total han visitado en un año</td>\n",
       "      <td>Por profesión o estudios</td>\n",
       "      <td>Por ocio o entretenimiento</td>\n",
       "      <td>Total han visitado en un año</td>\n",
       "      <td>Por profesión o estudios</td>\n",
       "      <td>Por ocio o entretenimiento</td>\n",
       "      <td>Total han visitado en un año</td>\n",
       "      <td>Por profesión o estudios</td>\n",
       "      <td>Por ocio o entretenimiento</td>\n",
       "    </tr>\n",
       "    <tr>\n",
       "      <th>2</th>\n",
       "      <td></td>\n",
       "      <td>2021-2022</td>\n",
       "      <td>2021-2022</td>\n",
       "      <td>2021-2022</td>\n",
       "      <td>2021-2022</td>\n",
       "      <td>2021-2022</td>\n",
       "      <td>2021-2022</td>\n",
       "      <td>2021-2022</td>\n",
       "      <td>2021-2022</td>\n",
       "      <td>2021-2022</td>\n",
       "      <td>2021-2022</td>\n",
       "      <td>2021-2022</td>\n",
       "      <td>2021-2022</td>\n",
       "      <td>2021-2022</td>\n",
       "      <td>2021-2022</td>\n",
       "      <td>2021-2022</td>\n",
       "      <td>2021-2022</td>\n",
       "      <td>2021-2022</td>\n",
       "      <td>2021-2022</td>\n",
       "    </tr>\n",
       "    <tr>\n",
       "      <th>3</th>\n",
       "      <td>TOTAL</td>\n",
       "      <td>100</td>\n",
       "      <td>6.3</td>\n",
       "      <td>93.7</td>\n",
       "      <td>100</td>\n",
       "      <td>8.6</td>\n",
       "      <td>91.4</td>\n",
       "      <td>100</td>\n",
       "      <td>6.9</td>\n",
       "      <td>93.1</td>\n",
       "      <td>100</td>\n",
       "      <td>4</td>\n",
       "      <td>96</td>\n",
       "      <td>100</td>\n",
       "      <td>5.1</td>\n",
       "      <td>94.9</td>\n",
       "      <td>100</td>\n",
       "      <td>36.7</td>\n",
       "      <td>63.3</td>\n",
       "    </tr>\n",
       "    <tr>\n",
       "      <th>4</th>\n",
       "      <td>Hombres</td>\n",
       "      <td>100</td>\n",
       "      <td>6.3</td>\n",
       "      <td>93.7</td>\n",
       "      <td>100</td>\n",
       "      <td>8.5</td>\n",
       "      <td>91.5</td>\n",
       "      <td>100</td>\n",
       "      <td>6.9</td>\n",
       "      <td>93.1</td>\n",
       "      <td>100</td>\n",
       "      <td>4.8</td>\n",
       "      <td>95.2</td>\n",
       "      <td>100</td>\n",
       "      <td>5.5</td>\n",
       "      <td>94.5</td>\n",
       "      <td>100</td>\n",
       "      <td>33.6</td>\n",
       "      <td>66.4</td>\n",
       "    </tr>\n",
       "    <tr>\n",
       "      <th>5</th>\n",
       "      <td>Mujeres</td>\n",
       "      <td>100</td>\n",
       "      <td>6.3</td>\n",
       "      <td>93.7</td>\n",
       "      <td>100</td>\n",
       "      <td>8.7</td>\n",
       "      <td>91.3</td>\n",
       "      <td>100</td>\n",
       "      <td>7</td>\n",
       "      <td>93</td>\n",
       "      <td>100</td>\n",
       "      <td>3.2</td>\n",
       "      <td>96.8</td>\n",
       "      <td>100</td>\n",
       "      <td>4.6</td>\n",
       "      <td>95.4</td>\n",
       "      <td>100</td>\n",
       "      <td>40</td>\n",
       "      <td>60</td>\n",
       "    </tr>\n",
       "    <tr>\n",
       "      <th>6</th>\n",
       "      <td>De 15 a 24 años</td>\n",
       "      <td>100</td>\n",
       "      <td>14.3</td>\n",
       "      <td>85.7</td>\n",
       "      <td>100</td>\n",
       "      <td>24.5</td>\n",
       "      <td>75.5</td>\n",
       "      <td>100</td>\n",
       "      <td>20.1</td>\n",
       "      <td>79.9</td>\n",
       "      <td>100</td>\n",
       "      <td>10.4</td>\n",
       "      <td>89.6</td>\n",
       "      <td>100</td>\n",
       "      <td>16</td>\n",
       "      <td>84</td>\n",
       "      <td>100</td>\n",
       "      <td>53.5</td>\n",
       "      <td>46.5</td>\n",
       "    </tr>\n",
       "    <tr>\n",
       "      <th>7</th>\n",
       "      <td>De 25 a 34 años</td>\n",
       "      <td>100</td>\n",
       "      <td>5.5</td>\n",
       "      <td>94.5</td>\n",
       "      <td>100</td>\n",
       "      <td>5.5</td>\n",
       "      <td>94.5</td>\n",
       "      <td>100</td>\n",
       "      <td>2.3</td>\n",
       "      <td>97.7</td>\n",
       "      <td>100</td>\n",
       "      <td>2.4</td>\n",
       "      <td>97.6</td>\n",
       "      <td>100</td>\n",
       "      <td>4.6</td>\n",
       "      <td>95.4</td>\n",
       "      <td>100</td>\n",
       "      <td>24.1</td>\n",
       "      <td>75.9</td>\n",
       "    </tr>\n",
       "    <tr>\n",
       "      <th>8</th>\n",
       "      <td>De 35 a 44 años</td>\n",
       "      <td>100</td>\n",
       "      <td>6.2</td>\n",
       "      <td>93.8</td>\n",
       "      <td>100</td>\n",
       "      <td>6.6</td>\n",
       "      <td>93.4</td>\n",
       "      <td>100</td>\n",
       "      <td>6</td>\n",
       "      <td>94</td>\n",
       "      <td>100</td>\n",
       "      <td>3.7</td>\n",
       "      <td>96.3</td>\n",
       "      <td>100</td>\n",
       "      <td>5.3</td>\n",
       "      <td>94.7</td>\n",
       "      <td>100</td>\n",
       "      <td>31.5</td>\n",
       "      <td>68.5</td>\n",
       "    </tr>\n",
       "    <tr>\n",
       "      <th>9</th>\n",
       "      <td>De 45 a 54 años</td>\n",
       "      <td>100</td>\n",
       "      <td>4.4</td>\n",
       "      <td>95.6</td>\n",
       "      <td>100</td>\n",
       "      <td>5.8</td>\n",
       "      <td>94.2</td>\n",
       "      <td>100</td>\n",
       "      <td>4.8</td>\n",
       "      <td>95.2</td>\n",
       "      <td>100</td>\n",
       "      <td>3</td>\n",
       "      <td>97</td>\n",
       "      <td>100</td>\n",
       "      <td>2.8</td>\n",
       "      <td>97.2</td>\n",
       "      <td>100</td>\n",
       "      <td>37.8</td>\n",
       "      <td>62.2</td>\n",
       "    </tr>\n",
       "    <tr>\n",
       "      <th>10</th>\n",
       "      <td>De 55 años en adelante</td>\n",
       "      <td>100</td>\n",
       "      <td>3.7</td>\n",
       "      <td>96.3</td>\n",
       "      <td>100</td>\n",
       "      <td>5.1</td>\n",
       "      <td>94.9</td>\n",
       "      <td>100</td>\n",
       "      <td>4.1</td>\n",
       "      <td>95.9</td>\n",
       "      <td>100</td>\n",
       "      <td>2.5</td>\n",
       "      <td>97.5</td>\n",
       "      <td>100</td>\n",
       "      <td>2.4</td>\n",
       "      <td>97.6</td>\n",
       "      <td>100</td>\n",
       "      <td>34.9</td>\n",
       "      <td>65.1</td>\n",
       "    </tr>\n",
       "    <tr>\n",
       "      <th>11</th>\n",
       "      <td>Notas:</td>\n",
       "      <td>NaN</td>\n",
       "      <td>NaN</td>\n",
       "      <td>NaN</td>\n",
       "      <td>NaN</td>\n",
       "      <td>NaN</td>\n",
       "      <td>NaN</td>\n",
       "      <td>NaN</td>\n",
       "      <td>NaN</td>\n",
       "      <td>NaN</td>\n",
       "      <td>NaN</td>\n",
       "      <td>NaN</td>\n",
       "      <td>NaN</td>\n",
       "      <td>NaN</td>\n",
       "      <td>NaN</td>\n",
       "      <td>NaN</td>\n",
       "      <td>NaN</td>\n",
       "      <td>NaN</td>\n",
       "      <td>NaN</td>\n",
       "    </tr>\n",
       "    <tr>\n",
       "      <th>12</th>\n",
       "      <td>Fuente:</td>\n",
       "      <td>NaN</td>\n",
       "      <td>NaN</td>\n",
       "      <td>NaN</td>\n",
       "      <td>NaN</td>\n",
       "      <td>NaN</td>\n",
       "      <td>NaN</td>\n",
       "      <td>NaN</td>\n",
       "      <td>NaN</td>\n",
       "      <td>NaN</td>\n",
       "      <td>NaN</td>\n",
       "      <td>NaN</td>\n",
       "      <td>NaN</td>\n",
       "      <td>NaN</td>\n",
       "      <td>NaN</td>\n",
       "      <td>NaN</td>\n",
       "      <td>NaN</td>\n",
       "      <td>NaN</td>\n",
       "      <td>NaN</td>\n",
       "    </tr>\n",
       "    <tr>\n",
       "      <th>13</th>\n",
       "      <td>Ministerio de Cultura y Deporte. Encuesta de H...</td>\n",
       "      <td>NaN</td>\n",
       "      <td>NaN</td>\n",
       "      <td>NaN</td>\n",
       "      <td>NaN</td>\n",
       "      <td>NaN</td>\n",
       "      <td>NaN</td>\n",
       "      <td>NaN</td>\n",
       "      <td>NaN</td>\n",
       "      <td>NaN</td>\n",
       "      <td>NaN</td>\n",
       "      <td>NaN</td>\n",
       "      <td>NaN</td>\n",
       "      <td>NaN</td>\n",
       "      <td>NaN</td>\n",
       "      <td>NaN</td>\n",
       "      <td>NaN</td>\n",
       "      <td>NaN</td>\n",
       "      <td>NaN</td>\n",
       "    </tr>\n",
       "  </tbody>\n",
       "</table>\n",
       "</div>"
      ],
      "text/plain": [
       "   Encuesta de Hábitos y Prácticas Culturales 2021-2022  \\\n",
       "0                                                         \n",
       "1                                                         \n",
       "2                                                         \n",
       "3                                               TOTAL     \n",
       "4                                             Hombres     \n",
       "5                                             Mujeres     \n",
       "6                                     De 15 a 24 años     \n",
       "7                                     De 25 a 34 años     \n",
       "8                                     De 35 a 44 años     \n",
       "9                                     De 45 a 54 años     \n",
       "10                             De 55 años en adelante     \n",
       "11                                             Notas:     \n",
       "12                                           Fuente:      \n",
       "13  Ministerio de Cultura y Deporte. Encuesta de H...     \n",
       "\n",
       "                          Column     Column2    Column3  \\\n",
       "0                         Museos         NaN        NaN   \n",
       "1   Total han visitado en un año  profesión       ocio    \n",
       "2                      2021-2022   2021-2022  2021-2022   \n",
       "3                            100         6.3       93.7   \n",
       "4                            100         6.3       93.7   \n",
       "5                            100         6.3       93.7   \n",
       "6                            100        14.3       85.7   \n",
       "7                            100         5.5       94.5   \n",
       "8                            100         6.2       93.8   \n",
       "9                            100         4.4       95.6   \n",
       "10                           100         3.7       96.3   \n",
       "11                           NaN         NaN        NaN   \n",
       "12                           NaN         NaN        NaN   \n",
       "13                           NaN         NaN        NaN   \n",
       "\n",
       "                         Column4                   Column5  \\\n",
       "0                   Exposiciones                       NaN   \n",
       "1   Total han visitado en un año  Por profesión o estudios   \n",
       "2                      2021-2022                 2021-2022   \n",
       "3                            100                       8.6   \n",
       "4                            100                       8.5   \n",
       "5                            100                       8.7   \n",
       "6                            100                      24.5   \n",
       "7                            100                       5.5   \n",
       "8                            100                       6.6   \n",
       "9                            100                       5.8   \n",
       "10                           100                       5.1   \n",
       "11                           NaN                       NaN   \n",
       "12                           NaN                       NaN   \n",
       "13                           NaN                       NaN   \n",
       "\n",
       "                       Column6                       Column7  \\\n",
       "0                          NaN              Galerías de arte   \n",
       "1   Por ocio o entretenimiento  Total han visitado en un año   \n",
       "2                    2021-2022                     2021-2022   \n",
       "3                         91.4                           100   \n",
       "4                         91.5                           100   \n",
       "5                         91.3                           100   \n",
       "6                         75.5                           100   \n",
       "7                         94.5                           100   \n",
       "8                         93.4                           100   \n",
       "9                         94.2                           100   \n",
       "10                        94.9                           100   \n",
       "11                         NaN                           NaN   \n",
       "12                         NaN                           NaN   \n",
       "13                         NaN                           NaN   \n",
       "\n",
       "                     Column8                     Column9  \\\n",
       "0                        NaN                         NaN   \n",
       "1   Por profesión o estudios  Por ocio o entretenimiento   \n",
       "2                  2021-2022                   2021-2022   \n",
       "3                        6.9                        93.1   \n",
       "4                        6.9                        93.1   \n",
       "5                          7                          93   \n",
       "6                       20.1                        79.9   \n",
       "7                        2.3                        97.7   \n",
       "8                          6                          94   \n",
       "9                        4.8                        95.2   \n",
       "10                       4.1                        95.9   \n",
       "11                       NaN                         NaN   \n",
       "12                       NaN                         NaN   \n",
       "13                       NaN                         NaN   \n",
       "\n",
       "                        Column10                 Column 12  \\\n",
       "0                     Monumentos                       NaN   \n",
       "1   Total han visitado en un año  Por profesión o estudios   \n",
       "2                      2021-2022                 2021-2022   \n",
       "3                            100                         4   \n",
       "4                            100                       4.8   \n",
       "5                            100                       3.2   \n",
       "6                            100                      10.4   \n",
       "7                            100                       2.4   \n",
       "8                            100                       3.7   \n",
       "9                            100                         3   \n",
       "10                           100                       2.5   \n",
       "11                           NaN                       NaN   \n",
       "12                           NaN                       NaN   \n",
       "13                           NaN                       NaN   \n",
       "\n",
       "                     Column 13                     Column 14  \\\n",
       "0                          NaN     Yacimientos arqueológicos   \n",
       "1   Por ocio o entretenimiento  Total han visitado en un año   \n",
       "2                    2021-2022                     2021-2022   \n",
       "3                           96                           100   \n",
       "4                         95.2                           100   \n",
       "5                         96.8                           100   \n",
       "6                         89.6                           100   \n",
       "7                         97.6                           100   \n",
       "8                         96.3                           100   \n",
       "9                           97                           100   \n",
       "10                        97.5                           100   \n",
       "11                         NaN                           NaN   \n",
       "12                         NaN                           NaN   \n",
       "13                         NaN                           NaN   \n",
       "\n",
       "                   Column 15                   Column 16  \\\n",
       "0                        NaN                         NaN   \n",
       "1   Por profesión o estudios  Por ocio o entretenimiento   \n",
       "2                  2021-2022                   2021-2022   \n",
       "3                        5.1                        94.9   \n",
       "4                        5.5                        94.5   \n",
       "5                        4.6                        95.4   \n",
       "6                         16                          84   \n",
       "7                        4.6                        95.4   \n",
       "8                        5.3                        94.7   \n",
       "9                        2.8                        97.2   \n",
       "10                       2.4                        97.6   \n",
       "11                       NaN                         NaN   \n",
       "12                       NaN                         NaN   \n",
       "13                       NaN                         NaN   \n",
       "\n",
       "                       Column 17                 Column 18  \\\n",
       "0                       Archivos                       NaN   \n",
       "1   Total han visitado en un año  Por profesión o estudios   \n",
       "2                      2021-2022                 2021-2022   \n",
       "3                            100                      36.7   \n",
       "4                            100                      33.6   \n",
       "5                            100                        40   \n",
       "6                            100                      53.5   \n",
       "7                            100                      24.1   \n",
       "8                            100                      31.5   \n",
       "9                            100                      37.8   \n",
       "10                           100                      34.9   \n",
       "11                           NaN                       NaN   \n",
       "12                           NaN                       NaN   \n",
       "13                           NaN                       NaN   \n",
       "\n",
       "                     Column 19  \n",
       "0                          NaN  \n",
       "1   Por ocio o entretenimiento  \n",
       "2                    2021-2022  \n",
       "3                         63.3  \n",
       "4                         66.4  \n",
       "5                           60  \n",
       "6                         46.5  \n",
       "7                         75.9  \n",
       "8                         68.5  \n",
       "9                         62.2  \n",
       "10                        65.1  \n",
       "11                         NaN  \n",
       "12                         NaN  \n",
       "13                         NaN  "
      ]
     },
     "execution_count": 79,
     "metadata": {},
     "output_type": "execute_result"
    }
   ],
   "source": [
    "profesiones"
   ]
  },
  {
   "cell_type": "code",
   "execution_count": 80,
   "id": "70b9963f",
   "metadata": {},
   "outputs": [],
   "source": [
    "ocio = profesiones.loc[3, 'Column2']\n",
    "profesion = profesiones.loc[3, 'Column3']"
   ]
  },
  {
   "cell_type": "code",
   "execution_count": 81,
   "id": "3d44c9ed",
   "metadata": {},
   "outputs": [],
   "source": [
    "datos = [ocio, profesion]\n",
    "etiquetas = ['Ocio', 'Profesión']\n",
    "colores = ['#B68B67', '#FCD9BC']"
   ]
  },
  {
   "cell_type": "code",
   "execution_count": 82,
   "id": "640b10db",
   "metadata": {},
   "outputs": [
    {
     "data": {
      "image/png": "[encoded data removed]",
      "text/plain": [
       "<Figure size 640x480 with 1 Axes>"
      ]
     },
     "metadata": {},
     "output_type": "display_data"
    }
   ],
   "source": [
    "\n",
    "plt.pie(datos, labels=etiquetas, colors=colores, autopct='%1.1f%%')\n",
    "plt.title('Visitas a los museos por motivación')\n",
    "\n",
    "\n",
    "\n",
    "plt.show()\n"
   ]
  },
  {
   "cell_type": "markdown",
   "id": "faa7a2f6",
   "metadata": {},
   "source": [
    "# Línea del tiempo"
   ]
  },
  {
   "cell_type": "code",
   "execution_count": 14,
   "id": "c432c1fc",
   "metadata": {},
   "outputs": [],
   "source": [
    "import matplotlib.pyplot as plt"
   ]
  },
  {
   "cell_type": "code",
   "execution_count": 112,
   "id": "1aea0293",
   "metadata": {},
   "outputs": [],
   "source": [
    "import plotly.graph_objects as go\n",
    "\n"
   ]
  },
  {
   "cell_type": "code",
   "execution_count": 121,
   "id": "0a722824",
   "metadata": {},
   "outputs": [],
   "source": [
    "# Datos de la línea de tiempo\n",
    "eventos = [\n",
    "    {'nombre': 'Inauguración del Museo del Prado', 'año': 1819},\n",
    "    {'nombre': 'Primera exposición dedicada a una mujer', 'año': 2016},\n",
    "    {'nombre': 'Segunda exposición dedicada a una mujer', 'año': 2019},\n",
    "    {'nombre': 'Tercera exposición dedicada a una mujer', 'año': 2021}\n",
    "]\n",
    "\n"
   ]
  },
  {
   "cell_type": "code",
   "execution_count": 122,
   "id": "7bfe1a04",
   "metadata": {},
   "outputs": [],
   "source": [
    "# Crear las listas de años y nombres de los eventos\n",
    "años = [evento['año'] for evento in eventos]\n",
    "nombres = [evento['nombre'] for evento in eventos]\n",
    "\n"
   ]
  },
  {
   "cell_type": "code",
   "execution_count": 123,
   "id": "42425585",
   "metadata": {},
   "outputs": [],
   "source": [
    "\n",
    "# Crear la figura de la línea de tiempo\n",
    "fig = go.Figure()\n"
   ]
  },
  {
   "cell_type": "code",
   "execution_count": 124,
   "id": "fdd978ab",
   "metadata": {},
   "outputs": [
    {
     "data": {
      "application/vnd.plotly.v1+json": {
       "config": {
        "plotlyServerURL": "https://plot.ly"
       },
       "data": [
        {
         "hovertemplate": "%{text}<extra></extra>",
         "line": {
          "shape": "hv",
          "width": 2
         },
         "marker": {
          "size": 10
         },
         "mode": "lines+markers",
         "text": [
          "Inauguración del Museo del Prado",
          "Primera exposición dedicada a una mujer",
          "Segunda exposición dedicada a una mujer",
          "Tercera exposición dedicada a una mujer"
         ],
         "type": "scatter",
         "x": [
          1819,
          2016,
          2019,
          2021
         ],
         "y": [
          1,
          1,
          1,
          1
         ]
        }
       ],
       "layout": {
        "hovermode": "closest",
        "template": {
         "data": {
          "bar": [
           {
            "error_x": {
             "color": "#2a3f5f"
            },
            "error_y": {
             "color": "#2a3f5f"
            },
            "marker": {
             "line": {
              "color": "#E5ECF6",
              "width": 0.5
             },
             "pattern": {
              "fillmode": "overlay",
              "size": 10,
              "solidity": 0.2
             }
            },
            "type": "bar"
           }
          ],
          "barpolar": [
           {
            "marker": {
             "line": {
              "color": "#E5ECF6",
              "width": 0.5
             },
             "pattern": {
              "fillmode": "overlay",
              "size": 10,
              "solidity": 0.2
             }
            },
            "type": "barpolar"
           }
          ],
          "carpet": [
           {
            "aaxis": {
             "endlinecolor": "#2a3f5f",
             "gridcolor": "white",
             "linecolor": "white",
             "minorgridcolor": "white",
             "startlinecolor": "#2a3f5f"
            },
            "baxis": {
             "endlinecolor": "#2a3f5f",
             "gridcolor": "white",
             "linecolor": "white",
             "minorgridcolor": "white",
             "startlinecolor": "#2a3f5f"
            },
            "type": "carpet"
           }
          ],
          "choropleth": [
           {
            "colorbar": {
             "outlinewidth": 0,
             "ticks": ""
            },
            "type": "choropleth"
           }
          ],
          "contour": [
           {
            "colorbar": {
             "outlinewidth": 0,
             "ticks": ""
            },
            "colorscale": [
             [
              0,
              "#0d0887"
             ],
             [
              0.1111111111111111,
              "#46039f"
             ],
             [
              0.2222222222222222,
              "#7201a8"
             ],
             [
              0.3333333333333333,
              "#9c179e"
             ],
             [
              0.4444444444444444,
              "#bd3786"
             ],
             [
              0.5555555555555556,
              "#d8576b"
             ],
             [
              0.6666666666666666,
              "#ed7953"
             ],
             [
              0.7777777777777778,
              "#fb9f3a"
             ],
             [
              0.8888888888888888,
              "#fdca26"
             ],
             [
              1,
              "#f0f921"
             ]
            ],
            "type": "contour"
           }
          ],
          "contourcarpet": [
           {
            "colorbar": {
             "outlinewidth": 0,
             "ticks": ""
            },
            "type": "contourcarpet"
           }
          ],
          "heatmap": [
           {
            "colorbar": {
             "outlinewidth": 0,
             "ticks": ""
            },
            "colorscale": [
             [
              0,
              "#0d0887"
             ],
             [
              0.1111111111111111,
              "#46039f"
             ],
             [
              0.2222222222222222,
              "#7201a8"
             ],
             [
              0.3333333333333333,
              "#9c179e"
             ],
             [
              0.4444444444444444,
              "#bd3786"
             ],
             [
              0.5555555555555556,
              "#d8576b"
             ],
             [
              0.6666666666666666,
              "#ed7953"
             ],
             [
              0.7777777777777778,
              "#fb9f3a"
             ],
             [
              0.8888888888888888,
              "#fdca26"
             ],
             [
              1,
              "#f0f921"
             ]
            ],
            "type": "heatmap"
           }
          ],
          "heatmapgl": [
           {
            "colorbar": {
             "outlinewidth": 0,
             "ticks": ""
            },
            "colorscale": [
             [
              0,
              "#0d0887"
             ],
             [
              0.1111111111111111,
              "#46039f"
             ],
             [
              0.2222222222222222,
              "#7201a8"
             ],
             [
              0.3333333333333333,
              "#9c179e"
             ],
             [
              0.4444444444444444,
              "#bd3786"
             ],
             [
              0.5555555555555556,
              "#d8576b"
             ],
             [
              0.6666666666666666,
              "#ed7953"
             ],
             [
              0.7777777777777778,
              "#fb9f3a"
             ],
             [
              0.8888888888888888,
              "#fdca26"
             ],
             [
              1,
              "#f0f921"
             ]
            ],
            "type": "heatmapgl"
           }
          ],
          "histogram": [
           {
            "marker": {
             "pattern": {
              "fillmode": "overlay",
              "size": 10,
              "solidity": 0.2
             }
            },
            "type": "histogram"
           }
          ],
          "histogram2d": [
           {
            "colorbar": {
             "outlinewidth": 0,
             "ticks": ""
            },
            "colorscale": [
             [
              0,
              "#0d0887"
             ],
             [
              0.1111111111111111,
              "#46039f"
             ],
             [
              0.2222222222222222,
              "#7201a8"
             ],
             [
              0.3333333333333333,
              "#9c179e"
             ],
             [
              0.4444444444444444,
              "#bd3786"
             ],
             [
              0.5555555555555556,
              "#d8576b"
             ],
             [
              0.6666666666666666,
              "#ed7953"
             ],
             [
              0.7777777777777778,
              "#fb9f3a"
             ],
             [
              0.8888888888888888,
              "#fdca26"
             ],
             [
              1,
              "#f0f921"
             ]
            ],
            "type": "histogram2d"
           }
          ],
          "histogram2dcontour": [
           {
            "colorbar": {
             "outlinewidth": 0,
             "ticks": ""
            },
            "colorscale": [
             [
              0,
              "#0d0887"
             ],
             [
              0.1111111111111111,
              "#46039f"
             ],
             [
              0.2222222222222222,
              "#7201a8"
             ],
             [
              0.3333333333333333,
              "#9c179e"
             ],
             [
              0.4444444444444444,
              "#bd3786"
             ],
             [
              0.5555555555555556,
              "#d8576b"
             ],
             [
              0.6666666666666666,
              "#ed7953"
             ],
             [
              0.7777777777777778,
              "#fb9f3a"
             ],
             [
              0.8888888888888888,
              "#fdca26"
             ],
             [
              1,
              "#f0f921"
             ]
            ],
            "type": "histogram2dcontour"
           }
          ],
          "mesh3d": [
           {
            "colorbar": {
             "outlinewidth": 0,
             "ticks": ""
            },
            "type": "mesh3d"
           }
          ],
          "parcoords": [
           {
            "line": {
             "colorbar": {
              "outlinewidth": 0,
              "ticks": ""
             }
            },
            "type": "parcoords"
           }
          ],
          "pie": [
           {
            "automargin": true,
            "type": "pie"
           }
          ],
          "scatter": [
           {
            "fillpattern": {
             "fillmode": "overlay",
             "size": 10,
             "solidity": 0.2
            },
            "type": "scatter"
           }
          ],
          "scatter3d": [
           {
            "line": {
             "colorbar": {
              "outlinewidth": 0,
              "ticks": ""
             }
            },
            "marker": {
             "colorbar": {
              "outlinewidth": 0,
              "ticks": ""
             }
            },
            "type": "scatter3d"
           }
          ],
          "scattercarpet": [
           {
            "marker": {
             "colorbar": {
              "outlinewidth": 0,
              "ticks": ""
             }
            },
            "type": "scattercarpet"
           }
          ],
          "scattergeo": [
           {
            "marker": {
             "colorbar": {
              "outlinewidth": 0,
              "ticks": ""
             }
            },
            "type": "scattergeo"
           }
          ],
          "scattergl": [
           {
            "marker": {
             "colorbar": {
              "outlinewidth": 0,
              "ticks": ""
             }
            },
            "type": "scattergl"
           }
          ],
          "scattermapbox": [
           {
            "marker": {
             "colorbar": {
              "outlinewidth": 0,
              "ticks": ""
             }
            },
            "type": "scattermapbox"
           }
          ],
          "scatterpolar": [
           {
            "marker": {
             "colorbar": {
              "outlinewidth": 0,
              "ticks": ""
             }
            },
            "type": "scatterpolar"
           }
          ],
          "scatterpolargl": [
           {
            "marker": {
             "colorbar": {
              "outlinewidth": 0,
              "ticks": ""
             }
            },
            "type": "scatterpolargl"
           }
          ],
          "scatterternary": [
           {
            "marker": {
             "colorbar": {
              "outlinewidth": 0,
              "ticks": ""
             }
            },
            "type": "scatterternary"
           }
          ],
          "surface": [
           {
            "colorbar": {
             "outlinewidth": 0,
             "ticks": ""
            },
            "colorscale": [
             [
              0,
              "#0d0887"
             ],
             [
              0.1111111111111111,
              "#46039f"
             ],
             [
              0.2222222222222222,
              "#7201a8"
             ],
             [
              0.3333333333333333,
              "#9c179e"
             ],
             [
              0.4444444444444444,
              "#bd3786"
             ],
             [
              0.5555555555555556,
              "#d8576b"
             ],
             [
              0.6666666666666666,
              "#ed7953"
             ],
             [
              0.7777777777777778,
              "#fb9f3a"
             ],
             [
              0.8888888888888888,
              "#fdca26"
             ],
             [
              1,
              "#f0f921"
             ]
            ],
            "type": "surface"
           }
          ],
          "table": [
           {
            "cells": {
             "fill": {
              "color": "#EBF0F8"
             },
             "line": {
              "color": "white"
             }
            },
            "header": {
             "fill": {
              "color": "#C8D4E3"
             },
             "line": {
              "color": "white"
             }
            },
            "type": "table"
           }
          ]
         },
         "layout": {
          "annotationdefaults": {
           "arrowcolor": "#2a3f5f",
           "arrowhead": 0,
           "arrowwidth": 1
          },
          "autotypenumbers": "strict",
          "coloraxis": {
           "colorbar": {
            "outlinewidth": 0,
            "ticks": ""
           }
          },
          "colorscale": {
           "diverging": [
            [
             0,
             "#8e0152"
            ],
            [
             0.1,
             "#c51b7d"
            ],
            [
             0.2,
             "#de77ae"
            ],
            [
             0.3,
             "#f1b6da"
            ],
            [
             0.4,
             "#fde0ef"
            ],
            [
             0.5,
             "#f7f7f7"
            ],
            [
             0.6,
             "#e6f5d0"
            ],
            [
             0.7,
             "#b8e186"
            ],
            [
             0.8,
             "#7fbc41"
            ],
            [
             0.9,
             "#4d9221"
            ],
            [
             1,
             "#276419"
            ]
           ],
           "sequential": [
            [
             0,
             "#0d0887"
            ],
            [
             0.1111111111111111,
             "#46039f"
            ],
            [
             0.2222222222222222,
             "#7201a8"
            ],
            [
             0.3333333333333333,
             "#9c179e"
            ],
            [
             0.4444444444444444,
             "#bd3786"
            ],
            [
             0.5555555555555556,
             "#d8576b"
            ],
            [
             0.6666666666666666,
             "#ed7953"
            ],
            [
             0.7777777777777778,
             "#fb9f3a"
            ],
            [
             0.8888888888888888,
             "#fdca26"
            ],
            [
             1,
             "#f0f921"
            ]
           ],
           "sequentialminus": [
            [
             0,
             "#0d0887"
            ],
            [
             0.1111111111111111,
             "#46039f"
            ],
            [
             0.2222222222222222,
             "#7201a8"
            ],
            [
             0.3333333333333333,
             "#9c179e"
            ],
            [
             0.4444444444444444,
             "#bd3786"
            ],
            [
             0.5555555555555556,
             "#d8576b"
            ],
            [
             0.6666666666666666,
             "#ed7953"
            ],
            [
             0.7777777777777778,
             "#fb9f3a"
            ],
            [
             0.8888888888888888,
             "#fdca26"
            ],
            [
             1,
             "#f0f921"
            ]
           ]
          },
          "colorway": [
           "#636efa",
           "#EF553B",
           "#00cc96",
           "#ab63fa",
           "#FFA15A",
           "#19d3f3",
           "#FF6692",
           "#B6E880",
           "#FF97FF",
           "#FECB52"
          ],
          "font": {
           "color": "#2a3f5f"
          },
          "geo": {
           "bgcolor": "white",
           "lakecolor": "white",
           "landcolor": "#E5ECF6",
           "showlakes": true,
           "showland": true,
           "subunitcolor": "white"
          },
          "hoverlabel": {
           "align": "left"
          },
          "hovermode": "closest",
          "mapbox": {
           "style": "light"
          },
          "paper_bgcolor": "white",
          "plot_bgcolor": "#E5ECF6",
          "polar": {
           "angularaxis": {
            "gridcolor": "white",
            "linecolor": "white",
            "ticks": ""
           },
           "bgcolor": "#E5ECF6",
           "radialaxis": {
            "gridcolor": "white",
            "linecolor": "white",
            "ticks": ""
           }
          },
          "scene": {
           "xaxis": {
            "backgroundcolor": "#E5ECF6",
            "gridcolor": "white",
            "gridwidth": 2,
            "linecolor": "white",
            "showbackground": true,
            "ticks": "",
            "zerolinecolor": "white"
           },
           "yaxis": {
            "backgroundcolor": "#E5ECF6",
            "gridcolor": "white",
            "gridwidth": 2,
            "linecolor": "white",
            "showbackground": true,
            "ticks": "",
            "zerolinecolor": "white"
           },
           "zaxis": {
            "backgroundcolor": "#E5ECF6",
            "gridcolor": "white",
            "gridwidth": 2,
            "linecolor": "white",
            "showbackground": true,
            "ticks": "",
            "zerolinecolor": "white"
           }
          },
          "shapedefaults": {
           "line": {
            "color": "#2a3f5f"
           }
          },
          "ternary": {
           "aaxis": {
            "gridcolor": "white",
            "linecolor": "white",
            "ticks": ""
           },
           "baxis": {
            "gridcolor": "white",
            "linecolor": "white",
            "ticks": ""
           },
           "bgcolor": "#E5ECF6",
           "caxis": {
            "gridcolor": "white",
            "linecolor": "white",
            "ticks": ""
           }
          },
          "title": {
           "x": 0.05
          },
          "xaxis": {
           "automargin": true,
           "gridcolor": "white",
           "linecolor": "white",
           "ticks": "",
           "title": {
            "standoff": 15
           },
           "zerolinecolor": "white",
           "zerolinewidth": 2
          },
          "yaxis": {
           "automargin": true,
           "gridcolor": "white",
           "linecolor": "white",
           "ticks": "",
           "title": {
            "standoff": 15
           },
           "zerolinecolor": "white",
           "zerolinewidth": 2
          }
         }
        },
        "title": {
         "text": "Exposiciones dedicadas a mujeres en el Prado"
        },
        "xaxis": {
         "dtick": 40,
         "range": [
          1819,
          2023
         ],
         "tickmode": "linear",
         "title": {
          "text": "Año"
         }
        },
        "yaxis": {
         "showgrid": false,
         "showticklabels": false
        }
       }
      },
      "text/html": [
       "<div>                            <div id=\"b0a3f816-76a1-47cf-843d-7e5b7331946c\" class=\"plotly-graph-div\" style=\"height:525px; width:100%;\"></div>            <script type=\"text/javascript\">                require([\"plotly\"], function(Plotly) {                    window.PLOTLYENV=window.PLOTLYENV || {};                                    if (document.getElementById(\"b0a3f816-76a1-47cf-843d-7e5b7331946c\")) {                    Plotly.newPlot(                        \"b0a3f816-76a1-47cf-843d-7e5b7331946c\",                        [{\"hovertemplate\":\"%{text}\\u003cextra\\u003e\\u003c\\u002fextra\\u003e\",\"line\":{\"shape\":\"hv\",\"width\":2},\"marker\":{\"size\":10},\"mode\":\"lines+markers\",\"text\":[\"Inauguraci\\u00f3n del Museo del Prado\",\"Primera exposici\\u00f3n dedicada a una mujer\",\"Segunda exposici\\u00f3n dedicada a una mujer\",\"Tercera exposici\\u00f3n dedicada a una mujer\"],\"x\":[1819,2016,2019,2021],\"y\":[1,1,1,1],\"type\":\"scatter\"}],                        {\"template\":{\"data\":{\"histogram2dcontour\":[{\"type\":\"histogram2dcontour\",\"colorbar\":{\"outlinewidth\":0,\"ticks\":\"\"},\"colorscale\":[[0.0,\"#0d0887\"],[0.1111111111111111,\"#46039f\"],[0.2222222222222222,\"#7201a8\"],[0.3333333333333333,\"#9c179e\"],[0.4444444444444444,\"#bd3786\"],[0.5555555555555556,\"#d8576b\"],[0.6666666666666666,\"#ed7953\"],[0.7777777777777778,\"#fb9f3a\"],[0.8888888888888888,\"#fdca26\"],[1.0,\"#f0f921\"]]}],\"choropleth\":[{\"type\":\"choropleth\",\"colorbar\":{\"outlinewidth\":0,\"ticks\":\"\"}}],\"histogram2d\":[{\"type\":\"histogram2d\",\"colorbar\":{\"outlinewidth\":0,\"ticks\":\"\"},\"colorscale\":[[0.0,\"#0d0887\"],[0.1111111111111111,\"#46039f\"],[0.2222222222222222,\"#7201a8\"],[0.3333333333333333,\"#9c179e\"],[0.4444444444444444,\"#bd3786\"],[0.5555555555555556,\"#d8576b\"],[0.6666666666666666,\"#ed7953\"],[0.7777777777777778,\"#fb9f3a\"],[0.8888888888888888,\"#fdca26\"],[1.0,\"#f0f921\"]]}],\"heatmap\":[{\"type\":\"heatmap\",\"colorbar\":{\"outlinewidth\":0,\"ticks\":\"\"},\"colorscale\":[[0.0,\"#0d0887\"],[0.1111111111111111,\"#46039f\"],[0.2222222222222222,\"#7201a8\"],[0.3333333333333333,\"#9c179e\"],[0.4444444444444444,\"#bd3786\"],[0.5555555555555556,\"#d8576b\"],[0.6666666666666666,\"#ed7953\"],[0.7777777777777778,\"#fb9f3a\"],[0.8888888888888888,\"#fdca26\"],[1.0,\"#f0f921\"]]}],\"heatmapgl\":[{\"type\":\"heatmapgl\",\"colorbar\":{\"outlinewidth\":0,\"ticks\":\"\"},\"colorscale\":[[0.0,\"#0d0887\"],[0.1111111111111111,\"#46039f\"],[0.2222222222222222,\"#7201a8\"],[0.3333333333333333,\"#9c179e\"],[0.4444444444444444,\"#bd3786\"],[0.5555555555555556,\"#d8576b\"],[0.6666666666666666,\"#ed7953\"],[0.7777777777777778,\"#fb9f3a\"],[0.8888888888888888,\"#fdca26\"],[1.0,\"#f0f921\"]]}],\"contourcarpet\":[{\"type\":\"contourcarpet\",\"colorbar\":{\"outlinewidth\":0,\"ticks\":\"\"}}],\"contour\":[{\"type\":\"contour\",\"colorbar\":{\"outlinewidth\":0,\"ticks\":\"\"},\"colorscale\":[[0.0,\"#0d0887\"],[0.1111111111111111,\"#46039f\"],[0.2222222222222222,\"#7201a8\"],[0.3333333333333333,\"#9c179e\"],[0.4444444444444444,\"#bd3786\"],[0.5555555555555556,\"#d8576b\"],[0.6666666666666666,\"#ed7953\"],[0.7777777777777778,\"#fb9f3a\"],[0.8888888888888888,\"#fdca26\"],[1.0,\"#f0f921\"]]}],\"surface\":[{\"type\":\"surface\",\"colorbar\":{\"outlinewidth\":0,\"ticks\":\"\"},\"colorscale\":[[0.0,\"#0d0887\"],[0.1111111111111111,\"#46039f\"],[0.2222222222222222,\"#7201a8\"],[0.3333333333333333,\"#9c179e\"],[0.4444444444444444,\"#bd3786\"],[0.5555555555555556,\"#d8576b\"],[0.6666666666666666,\"#ed7953\"],[0.7777777777777778,\"#fb9f3a\"],[0.8888888888888888,\"#fdca26\"],[1.0,\"#f0f921\"]]}],\"mesh3d\":[{\"type\":\"mesh3d\",\"colorbar\":{\"outlinewidth\":0,\"ticks\":\"\"}}],\"scatter\":[{\"fillpattern\":{\"fillmode\":\"overlay\",\"size\":10,\"solidity\":0.2},\"type\":\"scatter\"}],\"parcoords\":[{\"type\":\"parcoords\",\"line\":{\"colorbar\":{\"outlinewidth\":0,\"ticks\":\"\"}}}],\"scatterpolargl\":[{\"type\":\"scatterpolargl\",\"marker\":{\"colorbar\":{\"outlinewidth\":0,\"ticks\":\"\"}}}],\"bar\":[{\"error_x\":{\"color\":\"#2a3f5f\"},\"error_y\":{\"color\":\"#2a3f5f\"},\"marker\":{\"line\":{\"color\":\"#E5ECF6\",\"width\":0.5},\"pattern\":{\"fillmode\":\"overlay\",\"size\":10,\"solidity\":0.2}},\"type\":\"bar\"}],\"scattergeo\":[{\"type\":\"scattergeo\",\"marker\":{\"colorbar\":{\"outlinewidth\":0,\"ticks\":\"\"}}}],\"scatterpolar\":[{\"type\":\"scatterpolar\",\"marker\":{\"colorbar\":{\"outlinewidth\":0,\"ticks\":\"\"}}}],\"histogram\":[{\"marker\":{\"pattern\":{\"fillmode\":\"overlay\",\"size\":10,\"solidity\":0.2}},\"type\":\"histogram\"}],\"scattergl\":[{\"type\":\"scattergl\",\"marker\":{\"colorbar\":{\"outlinewidth\":0,\"ticks\":\"\"}}}],\"scatter3d\":[{\"type\":\"scatter3d\",\"line\":{\"colorbar\":{\"outlinewidth\":0,\"ticks\":\"\"}},\"marker\":{\"colorbar\":{\"outlinewidth\":0,\"ticks\":\"\"}}}],\"scattermapbox\":[{\"type\":\"scattermapbox\",\"marker\":{\"colorbar\":{\"outlinewidth\":0,\"ticks\":\"\"}}}],\"scatterternary\":[{\"type\":\"scatterternary\",\"marker\":{\"colorbar\":{\"outlinewidth\":0,\"ticks\":\"\"}}}],\"scattercarpet\":[{\"type\":\"scattercarpet\",\"marker\":{\"colorbar\":{\"outlinewidth\":0,\"ticks\":\"\"}}}],\"carpet\":[{\"aaxis\":{\"endlinecolor\":\"#2a3f5f\",\"gridcolor\":\"white\",\"linecolor\":\"white\",\"minorgridcolor\":\"white\",\"startlinecolor\":\"#2a3f5f\"},\"baxis\":{\"endlinecolor\":\"#2a3f5f\",\"gridcolor\":\"white\",\"linecolor\":\"white\",\"minorgridcolor\":\"white\",\"startlinecolor\":\"#2a3f5f\"},\"type\":\"carpet\"}],\"table\":[{\"cells\":{\"fill\":{\"color\":\"#EBF0F8\"},\"line\":{\"color\":\"white\"}},\"header\":{\"fill\":{\"color\":\"#C8D4E3\"},\"line\":{\"color\":\"white\"}},\"type\":\"table\"}],\"barpolar\":[{\"marker\":{\"line\":{\"color\":\"#E5ECF6\",\"width\":0.5},\"pattern\":{\"fillmode\":\"overlay\",\"size\":10,\"solidity\":0.2}},\"type\":\"barpolar\"}],\"pie\":[{\"automargin\":true,\"type\":\"pie\"}]},\"layout\":{\"autotypenumbers\":\"strict\",\"colorway\":[\"#636efa\",\"#EF553B\",\"#00cc96\",\"#ab63fa\",\"#FFA15A\",\"#19d3f3\",\"#FF6692\",\"#B6E880\",\"#FF97FF\",\"#FECB52\"],\"font\":{\"color\":\"#2a3f5f\"},\"hovermode\":\"closest\",\"hoverlabel\":{\"align\":\"left\"},\"paper_bgcolor\":\"white\",\"plot_bgcolor\":\"#E5ECF6\",\"polar\":{\"bgcolor\":\"#E5ECF6\",\"angularaxis\":{\"gridcolor\":\"white\",\"linecolor\":\"white\",\"ticks\":\"\"},\"radialaxis\":{\"gridcolor\":\"white\",\"linecolor\":\"white\",\"ticks\":\"\"}},\"ternary\":{\"bgcolor\":\"#E5ECF6\",\"aaxis\":{\"gridcolor\":\"white\",\"linecolor\":\"white\",\"ticks\":\"\"},\"baxis\":{\"gridcolor\":\"white\",\"linecolor\":\"white\",\"ticks\":\"\"},\"caxis\":{\"gridcolor\":\"white\",\"linecolor\":\"white\",\"ticks\":\"\"}},\"coloraxis\":{\"colorbar\":{\"outlinewidth\":0,\"ticks\":\"\"}},\"colorscale\":{\"sequential\":[[0.0,\"#0d0887\"],[0.1111111111111111,\"#46039f\"],[0.2222222222222222,\"#7201a8\"],[0.3333333333333333,\"#9c179e\"],[0.4444444444444444,\"#bd3786\"],[0.5555555555555556,\"#d8576b\"],[0.6666666666666666,\"#ed7953\"],[0.7777777777777778,\"#fb9f3a\"],[0.8888888888888888,\"#fdca26\"],[1.0,\"#f0f921\"]],\"sequentialminus\":[[0.0,\"#0d0887\"],[0.1111111111111111,\"#46039f\"],[0.2222222222222222,\"#7201a8\"],[0.3333333333333333,\"#9c179e\"],[0.4444444444444444,\"#bd3786\"],[0.5555555555555556,\"#d8576b\"],[0.6666666666666666,\"#ed7953\"],[0.7777777777777778,\"#fb9f3a\"],[0.8888888888888888,\"#fdca26\"],[1.0,\"#f0f921\"]],\"diverging\":[[0,\"#8e0152\"],[0.1,\"#c51b7d\"],[0.2,\"#de77ae\"],[0.3,\"#f1b6da\"],[0.4,\"#fde0ef\"],[0.5,\"#f7f7f7\"],[0.6,\"#e6f5d0\"],[0.7,\"#b8e186\"],[0.8,\"#7fbc41\"],[0.9,\"#4d9221\"],[1,\"#276419\"]]},\"xaxis\":{\"gridcolor\":\"white\",\"linecolor\":\"white\",\"ticks\":\"\",\"title\":{\"standoff\":15},\"zerolinecolor\":\"white\",\"automargin\":true,\"zerolinewidth\":2},\"yaxis\":{\"gridcolor\":\"white\",\"linecolor\":\"white\",\"ticks\":\"\",\"title\":{\"standoff\":15},\"zerolinecolor\":\"white\",\"automargin\":true,\"zerolinewidth\":2},\"scene\":{\"xaxis\":{\"backgroundcolor\":\"#E5ECF6\",\"gridcolor\":\"white\",\"linecolor\":\"white\",\"showbackground\":true,\"ticks\":\"\",\"zerolinecolor\":\"white\",\"gridwidth\":2},\"yaxis\":{\"backgroundcolor\":\"#E5ECF6\",\"gridcolor\":\"white\",\"linecolor\":\"white\",\"showbackground\":true,\"ticks\":\"\",\"zerolinecolor\":\"white\",\"gridwidth\":2},\"zaxis\":{\"backgroundcolor\":\"#E5ECF6\",\"gridcolor\":\"white\",\"linecolor\":\"white\",\"showbackground\":true,\"ticks\":\"\",\"zerolinecolor\":\"white\",\"gridwidth\":2}},\"shapedefaults\":{\"line\":{\"color\":\"#2a3f5f\"}},\"annotationdefaults\":{\"arrowcolor\":\"#2a3f5f\",\"arrowhead\":0,\"arrowwidth\":1},\"geo\":{\"bgcolor\":\"white\",\"landcolor\":\"#E5ECF6\",\"subunitcolor\":\"white\",\"showland\":true,\"showlakes\":true,\"lakecolor\":\"white\"},\"title\":{\"x\":0.05},\"mapbox\":{\"style\":\"light\"}}},\"xaxis\":{\"range\":[1819,2023],\"dtick\":40,\"tickmode\":\"linear\",\"title\":{\"text\":\"A\\u00f1o\"}},\"yaxis\":{\"showticklabels\":false,\"showgrid\":false},\"title\":{\"text\":\"Exposiciones dedicadas a mujeres en el Prado\"},\"hovermode\":\"closest\"},                        {\"responsive\": true}                    ).then(function(){\n",
       "                            \n",
       "var gd = document.getElementById('b0a3f816-76a1-47cf-843d-7e5b7331946c');\n",
       "var x = new MutationObserver(function (mutations, observer) {{\n",
       "        var display = window.getComputedStyle(gd).display;\n",
       "        if (!display || display === 'none') {{\n",
       "            console.log([gd, 'removed!']);\n",
       "            Plotly.purge(gd);\n",
       "            observer.disconnect();\n",
       "        }}\n",
       "}});\n",
       "\n",
       "// Listen for the removal of the full notebook cells\n",
       "var notebookContainer = gd.closest('#notebook-container');\n",
       "if (notebookContainer) {{\n",
       "    x.observe(notebookContainer, {childList: true});\n",
       "}}\n",
       "\n",
       "// Listen for the clearing of the current output cell\n",
       "var outputEl = gd.closest('.output');\n",
       "if (outputEl) {{\n",
       "    x.observe(outputEl, {childList: true});\n",
       "}}\n",
       "\n",
       "                        })                };                });            </script>        </div>"
      ]
     },
     "metadata": {},
     "output_type": "display_data"
    }
   ],
   "source": [
    "\n",
    "\n",
    "# Agregar la línea de tiempo como una serie de pasos\n",
    "fig.add_trace(go.Scatter(\n",
    "    x=años,\n",
    "    y=[1] * len(años),  # Utilizamos el valor 1 para la coordenada y\n",
    "    mode='lines+markers',\n",
    "    line=dict(shape='hv', width=2),  # Estilo de línea horizontal y vertical\n",
    "    marker=dict(size=10),\n",
    "    text=nombres,\n",
    "    hovertemplate='%{text}<extra></extra>',  # Mostrar el nombre del evento en el hover\n",
    "))\n",
    "\n",
    "# Personalizar el diseño del gráfico\n",
    "fig.update_layout(\n",
    "    title='Exposiciones dedicadas a mujeres en el Prado',\n",
    "    xaxis=dict(\n",
    "        range=[1819, 2023],  # Rango de años\n",
    "        dtick=40,  # Separación entre los ticks del eje x\n",
    "        tickmode='linear',  # Modo lineal para los ticks del eje x\n",
    "        title='Año'\n",
    "    ),\n",
    "    yaxis=dict(\n",
    "        showticklabels=False,  # No mostrar los ticks del eje y\n",
    "        showgrid=False,  # No mostrar las líneas de la cuadrícula del eje y\n",
    "    ),\n",
    "    hovermode='closest',  # Activar el hover más cercano al punto\n",
    ")\n",
    "\n",
    "# Mostrar la línea de tiempo\n",
    "fig.show()\n",
    "\n"
   ]
  },
  {
   "cell_type": "code",
   "execution_count": null,
   "id": "9bc54556",
   "metadata": {},
   "outputs": [],
   "source": []
  }
 ],
 "metadata": {
  "hide_input": false,
  "kernelspec": {
   "display_name": "Python 3 (ipykernel)",
   "language": "python",
   "name": "python3"
  },
  "language_info": {
   "codemirror_mode": {
    "name": "ipython",
    "version": 3
   },
   "file_extension": ".py",
   "mimetype": "text/x-python",
   "name": "python",
   "nbconvert_exporter": "python",
   "pygments_lexer": "ipython3",
   "version": "3.11.1"
  },
  "nbTranslate": {
   "displayLangs": [
    "en",
    "es"
   ],
   "hotkey": "alt-t",
   "langInMainMenu": true,
   "sourceLang": "es",
   "targetLang": "en",
   "useGoogleTranslate": true
  },
  "toc": {
   "base_numbering": 1,
   "nav_menu": {},
   "number_sections": true,
   "sideBar": true,
   "skip_h1_title": false,
   "title_cell": "Table of Contents",
   "title_sidebar": "Contents",
   "toc_cell": false,
   "toc_position": {},
   "toc_section_display": true,
   "toc_window_display": true
  }
 },
 "nbformat": 4,
 "nbformat_minor": 5
}
