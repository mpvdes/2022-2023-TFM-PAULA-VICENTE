{
 "cells": [
  {
   "cell_type": "markdown",
   "id": "a6b2ba81",
   "metadata": {},
   "source": [
    "# Título grande\n",
    "## Subtítulo\n",
    "### Sección 1\n",
    "Esto es una prueba para comenzar con Jupyter."
   ]
  },
  {
   "cell_type": "code",
   "execution_count": 1,
   "id": "c1c72d1e",
   "metadata": {},
   "outputs": [
    {
     "data": {
      "text/plain": [
       "9"
      ]
     },
     "execution_count": 1,
     "metadata": {},
     "output_type": "execute_result"
    }
   ],
   "source": [
    "4 + 5"
   ]
  },
  {
   "cell_type": "markdown",
   "id": "367dd6ff",
   "metadata": {},
   "source": [
    "## Sección 2"
   ]
  },
  {
   "cell_type": "code",
   "execution_count": 3,
   "id": "8cdc524a",
   "metadata": {},
   "outputs": [
    {
     "data": {
      "text/plain": [
       "49"
      ]
     },
     "execution_count": 3,
     "metadata": {},
     "output_type": "execute_result"
    }
   ],
   "source": [
    "6*9-5"
   ]
  },
  {
   "cell_type": "code",
   "execution_count": 4,
   "id": "cb227992",
   "metadata": {},
   "outputs": [
    {
     "data": {
      "text/plain": [
       "'C:\\\\Users\\\\Paula\\\\Documents\\\\mpvd\\\\UAH2223-paulavicentesiso\\\\primeras-pruebas'"
      ]
     },
     "execution_count": 4,
     "metadata": {},
     "output_type": "execute_result"
    }
   ],
   "source": [
    "%pwd"
   ]
  },
  {
   "cell_type": "code",
   "execution_count": null,
   "id": "bf066bb1",
   "metadata": {},
   "outputs": [],
   "source": []
  }
 ],
 "metadata": {
  "kernelspec": {
   "display_name": "Python 3 (ipykernel)",
   "language": "python",
   "name": "python3"
  },
  "language_info": {
   "codemirror_mode": {
    "name": "ipython",
    "version": 3
   },
   "file_extension": ".py",
   "mimetype": "text/x-python",
   "name": "python",
   "nbconvert_exporter": "python",
   "pygments_lexer": "ipython3",
   "version": "3.11.1"
  }
 },
 "nbformat": 4,
 "nbformat_minor": 5
}
