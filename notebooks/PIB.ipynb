{
 "cells": [
  {
   "cell_type": "code",
   "execution_count": 1,
   "id": "30427ba2",
   "metadata": {},
   "outputs": [],
   "source": [
    "import pandas as pd\n",
    "import matplotlib.pyplot as plt\n",
    "import seaborn as sns #importo la libreria\n",
    "import plotly"
   ]
  },
  {
   "cell_type": "code",
   "execution_count": 3,
   "id": "b67091b6",
   "metadata": {},
   "outputs": [],
   "source": [
    "empleos = pd.read_excel(\"datos/mujeres/mujeres.xlsx\") #cargo los datos"
   ]
  },
  {
   "cell_type": "code",
   "execution_count": 4,
   "id": "f9e51fad",
   "metadata": {},
   "outputs": [
    {
     "data": {
      "text/plain": [
       "array(['femenino', 'mujer trans', 'femenino|masculino', 'no binario',\n",
       "       'femenino|no binario'], dtype=object)"
      ]
     },
     "execution_count": 4,
     "metadata": {},
     "output_type": "execute_result"
    }
   ],
   "source": [
    "empleos.genero.unique()   "
   ]
  },
  {
   "cell_type": "code",
   "execution_count": 4,
   "id": "6e5adea7",
   "metadata": {},
   "outputs": [
    {
     "data": {
      "text/plain": [
       "Index(['autor', 'etiqueta', 'descripcion', 'ocupacion', 'genero', 'nacAño',\n",
       "       'nacLugar', 'nacLat', 'nacLon', 'nacPais', 'morAño', 'morLugar',\n",
       "       'morLat', 'morLon', 'morPais', 'mncarsBib', 'qid', 'wikidataURL',\n",
       "       'viaf', 'viafURL', 'bne', 'bneURL', 'mncars', 'mncarsCatWeb',\n",
       "       'wikipedias', 'wk_ES', 'wkPREF'],\n",
       "      dtype='object')"
      ]
     },
     "execution_count": 4,
     "metadata": {},
     "output_type": "execute_result"
    }
   ],
   "source": [
    "empleos.columns"
   ]
  },
  {
   "cell_type": "markdown",
   "id": "9bcd07bf",
   "metadata": {},
   "source": [
    "# Representación por países "
   ]
  },
  {
   "cell_type": "code",
   "execution_count": 5,
   "id": "4b9617bc",
   "metadata": {},
   "outputs": [
    {
     "data": {
      "text/plain": [
       "array([nan, 'Finlandia', 'España', 'Polonia', 'Estados Unidos',\n",
       "       'Argentina', 'Serbia', 'Reino Unido', 'Alemania', 'Italia',\n",
       "       'República Popular China', 'Bélgica', 'Suecia', 'Suiza', 'Austria',\n",
       "       'Israel', 'Francia', 'Bosnia y Herzegovina', 'México', 'Chile',\n",
       "       'Sudáfrica', 'Irak', 'Canadá', 'Portugal', 'Brasil', 'Egipto',\n",
       "       'Australia', 'Países Bajos', 'Nueva Zelanda', 'Cuba', 'Bahamas',\n",
       "       'Rusia', 'Japón', 'Colombia', 'Perú', 'Venezuela', 'Lituania',\n",
       "       'Noruega', 'Eslovenia', 'ocupación aliada en Alemania',\n",
       "       'Imperio romano', 'Argelia', 'Hungría', 'Marruecos', 'Islandia',\n",
       "       'Dinamarca', 'Ucrania', 'Paraguay', 'India', 'Kenia',\n",
       "       'Reino de los Países Bajos', 'Grecia', 'República Checa',\n",
       "       'Croacia', 'Uruguay', 'Túnez', 'Letonia', 'Corea del Sur',\n",
       "       'Panamá', 'Rumania', 'Indonesia', 'Irlanda', 'Georgia', 'Liberia',\n",
       "       'Vietnam del Sur', 'Turquía', 'Senegal', 'Checoslovaquia',\n",
       "       'Mozambique', 'Líbano', 'Pakistán', 'Zimbabue', 'Eslovaquia',\n",
       "       'Singapur', 'Bolivia', 'Rodesia', 'Filipinas', 'Irán', 'Estonia',\n",
       "       'Moldavia', 'Costa Rica', 'Bangladés', 'Palestina',\n",
       "       'Macedonia del Norte', 'Siria', 'Prusia', 'Camerún', 'Bulgaria',\n",
       "       'Luxemburgo', 'República Democrática del Congo', 'Vietnam',\n",
       "       'República Dominicana', 'Etiopía', 'República Democrática Alemana',\n",
       "       'Guatemala', 'Guinea-Bisáu', 'Camboya', 'Sierra Leona',\n",
       "       'Emiratos Árabes Unidos', 'Uzbekistán', 'Sri Lanka', 'Zambia',\n",
       "       'Mónaco', 'Afganistán', 'Arabia Saudita', 'Reino de Dinamarca',\n",
       "       'Nicaragua', 'Uganda', 'Nigeria', 'República de China', 'Jamaica',\n",
       "       'Chipre', 'Bielorrusia', 'Ecuador', 'Tanzania',\n",
       "       'Antigua y Barbuda', 'Malasia', 'Kazajistán', 'Tailandia',\n",
       "       'Groenlandia', 'Malaui', 'Montenegro', 'Reino de Gran Bretaña',\n",
       "       'Imperio del Japón', 'Reino Unido de Gran Bretaña e Irlanda',\n",
       "       'Kuwait', 'Haití', 'Eritrea'], dtype=object)"
      ]
     },
     "execution_count": 5,
     "metadata": {},
     "output_type": "execute_result"
    }
   ],
   "source": [
    "empleos.nacPais.unique()"
   ]
  },
  {
   "cell_type": "code",
   "execution_count": 19,
   "id": "396961b1",
   "metadata": {},
   "outputs": [
    {
     "name": "stdout",
     "output_type": "stream",
     "text": [
      "<class 'pandas.core.frame.DataFrame'>\n",
      "RangeIndex: 10101 entries, 0 to 10100\n",
      "Data columns (total 27 columns):\n",
      " #   Column        Non-Null Count  Dtype  \n",
      "---  ------        --------------  -----  \n",
      " 0   autor         10101 non-null  object \n",
      " 1   etiqueta      10101 non-null  object \n",
      " 2   descripcion   9342 non-null   object \n",
      " 3   ocupacion     9432 non-null   object \n",
      " 4   genero        10101 non-null  object \n",
      " 5   nacAño        9617 non-null   float64\n",
      " 6   nacLugar      6847 non-null   object \n",
      " 7   nacLat        6826 non-null   float64\n",
      " 8   nacLon        6826 non-null   float64\n",
      " 9   nacPais       6837 non-null   object \n",
      " 10  morAño        3036 non-null   float64\n",
      " 11  morLugar      2330 non-null   object \n",
      " 12  morLat        2322 non-null   float64\n",
      " 13  morLon        2322 non-null   float64\n",
      " 14  morPais       2325 non-null   object \n",
      " 15  mncarsBib     10101 non-null  object \n",
      " 16  qid           10101 non-null  object \n",
      " 17  wikidataURL   10101 non-null  object \n",
      " 18  viaf          9974 non-null   object \n",
      " 19  viafURL       9974 non-null   object \n",
      " 20  bne           2893 non-null   object \n",
      " 21  bneURL        2893 non-null   object \n",
      " 22  mncars        219 non-null    object \n",
      " 23  mncarsCatWeb  219 non-null    object \n",
      " 24  wikipedias    6858 non-null   object \n",
      " 25  wk_ES         2790 non-null   object \n",
      " 26  wkPREF        6858 non-null   object \n",
      "dtypes: float64(6), object(21)\n",
      "memory usage: 2.1+ MB\n"
     ]
    }
   ],
   "source": [
    "empleos.info()"
   ]
  },
  {
   "cell_type": "markdown",
   "id": "a2ee60ec",
   "metadata": {},
   "source": [
    "Hay muchas entradas en las que no aparece el país. Solo 6837 entradas tienen valor en el campo nacPais"
   ]
  },
  {
   "cell_type": "markdown",
   "id": "8b3cef44",
   "metadata": {},
   "source": [
    "# PIB"
   ]
  },
  {
   "cell_type": "code",
   "execution_count": 10,
   "id": "87832665",
   "metadata": {},
   "outputs": [
    {
     "data": {
      "text/plain": [
       "7"
      ]
     },
     "execution_count": 10,
     "metadata": {},
     "output_type": "execute_result"
    }
   ],
   "source": [
    "url = 'https://es.wikipedia.org/wiki/Anexo:Pa%C3%ADses_por_PIB_(nominal)'\n",
    "t = pd.read_html(url)\n",
    "len(t)"
   ]
  },
  {
   "cell_type": "code",
   "execution_count": 54,
   "id": "b8d1b00d",
   "metadata": {},
   "outputs": [
    {
     "data": {
      "text/html": [
       "<div>\n",
       "<style scoped>\n",
       "    .dataframe tbody tr th:only-of-type {\n",
       "        vertical-align: middle;\n",
       "    }\n",
       "\n",
       "    .dataframe tbody tr th {\n",
       "        vertical-align: top;\n",
       "    }\n",
       "\n",
       "    .dataframe thead th {\n",
       "        text-align: right;\n",
       "    }\n",
       "</style>\n",
       "<table border=\"1\" class=\"dataframe\">\n",
       "  <thead>\n",
       "    <tr style=\"text-align: right;\">\n",
       "      <th></th>\n",
       "      <th>Pos.</th>\n",
       "      <th>País (o territorio)</th>\n",
       "      <th>PIB nominal (millones  de USD)</th>\n",
       "      <th>Año</th>\n",
       "    </tr>\n",
       "  </thead>\n",
       "  <tbody>\n",
       "    <tr>\n",
       "      <th>0</th>\n",
       "      <td>NaN</td>\n",
       "      <td>Mundo</td>\n",
       "      <td>79 580 000</td>\n",
       "      <td>2017</td>\n",
       "    </tr>\n",
       "    <tr>\n",
       "      <th>1</th>\n",
       "      <td>1.0</td>\n",
       "      <td>Estados Unidos</td>\n",
       "      <td>19 360 000</td>\n",
       "      <td>2017</td>\n",
       "    </tr>\n",
       "    <tr>\n",
       "      <th>2</th>\n",
       "      <td>NaN</td>\n",
       "      <td>Unión Europea</td>\n",
       "      <td>16 520 000</td>\n",
       "      <td>2017</td>\n",
       "    </tr>\n",
       "    <tr>\n",
       "      <th>3</th>\n",
       "      <td>2.0</td>\n",
       "      <td>China</td>\n",
       "      <td>11 940 000</td>\n",
       "      <td>2017</td>\n",
       "    </tr>\n",
       "    <tr>\n",
       "      <th>4</th>\n",
       "      <td>3.0</td>\n",
       "      <td>Japón</td>\n",
       "      <td>4 884 000</td>\n",
       "      <td>2017</td>\n",
       "    </tr>\n",
       "    <tr>\n",
       "      <th>...</th>\n",
       "      <td>...</td>\n",
       "      <td>...</td>\n",
       "      <td>...</td>\n",
       "      <td>...</td>\n",
       "    </tr>\n",
       "    <tr>\n",
       "      <th>214</th>\n",
       "      <td>190.0</td>\n",
       "      <td>Kiribati</td>\n",
       "      <td>186</td>\n",
       "      <td>2017</td>\n",
       "    </tr>\n",
       "    <tr>\n",
       "      <th>215</th>\n",
       "      <td>NaN</td>\n",
       "      <td>Anguila (RU)</td>\n",
       "      <td>1754</td>\n",
       "      <td>2009</td>\n",
       "    </tr>\n",
       "    <tr>\n",
       "      <th>216</th>\n",
       "      <td>NaN</td>\n",
       "      <td>Islas Malvinas[7]​</td>\n",
       "      <td>1645</td>\n",
       "      <td>2007</td>\n",
       "    </tr>\n",
       "    <tr>\n",
       "      <th>217</th>\n",
       "      <td>191.0</td>\n",
       "      <td>Tuvalu</td>\n",
       "      <td>40</td>\n",
       "      <td>2017</td>\n",
       "    </tr>\n",
       "    <tr>\n",
       "      <th>218</th>\n",
       "      <td>NaN</td>\n",
       "      <td>Niue (NZ)</td>\n",
       "      <td>1001</td>\n",
       "      <td>2003</td>\n",
       "    </tr>\n",
       "  </tbody>\n",
       "</table>\n",
       "<p>219 rows × 4 columns</p>\n",
       "</div>"
      ],
      "text/plain": [
       "      Pos. País (o territorio) PIB nominal (millones  de USD)   Año\n",
       "0      NaN               Mundo                     79 580 000  2017\n",
       "1      1.0      Estados Unidos                     19 360 000  2017\n",
       "2      NaN       Unión Europea                     16 520 000  2017\n",
       "3      2.0               China                     11 940 000  2017\n",
       "4      3.0               Japón                      4 884 000  2017\n",
       "..     ...                 ...                            ...   ...\n",
       "214  190.0            Kiribati                            186  2017\n",
       "215    NaN        Anguila (RU)                           1754  2009\n",
       "216    NaN  Islas Malvinas[7]​                           1645  2007\n",
       "217  191.0              Tuvalu                             40  2017\n",
       "218    NaN           Niue (NZ)                           1001  2003\n",
       "\n",
       "[219 rows x 4 columns]"
      ]
     },
     "execution_count": 54,
     "metadata": {},
     "output_type": "execute_result"
    }
   ],
   "source": [
    "t[4]"
   ]
  },
  {
   "cell_type": "code",
   "execution_count": 64,
   "id": "7023765e",
   "metadata": {},
   "outputs": [
    {
     "data": {
      "text/html": [
       "<div>\n",
       "<style scoped>\n",
       "    .dataframe tbody tr th:only-of-type {\n",
       "        vertical-align: middle;\n",
       "    }\n",
       "\n",
       "    .dataframe tbody tr th {\n",
       "        vertical-align: top;\n",
       "    }\n",
       "\n",
       "    .dataframe thead th {\n",
       "        text-align: right;\n",
       "    }\n",
       "</style>\n",
       "<table border=\"1\" class=\"dataframe\">\n",
       "  <thead>\n",
       "    <tr style=\"text-align: right;\">\n",
       "      <th></th>\n",
       "      <th>País</th>\n",
       "      <th>PIB (nominal millones de USD)</th>\n",
       "    </tr>\n",
       "  </thead>\n",
       "  <tbody>\n",
       "    <tr>\n",
       "      <th>0</th>\n",
       "      <td>Estados Unidos</td>\n",
       "      <td>22 997 500</td>\n",
       "    </tr>\n",
       "    <tr>\n",
       "      <th>1</th>\n",
       "      <td>China</td>\n",
       "      <td>17 725 821</td>\n",
       "    </tr>\n",
       "    <tr>\n",
       "      <th>2</th>\n",
       "      <td>Japón</td>\n",
       "      <td>4 938 780</td>\n",
       "    </tr>\n",
       "    <tr>\n",
       "      <th>3</th>\n",
       "      <td>Alemania</td>\n",
       "      <td>4 220 591</td>\n",
       "    </tr>\n",
       "    <tr>\n",
       "      <th>4</th>\n",
       "      <td>India</td>\n",
       "      <td>3 037 901</td>\n",
       "    </tr>\n",
       "    <tr>\n",
       "      <th>5</th>\n",
       "      <td>Reino Unido</td>\n",
       "      <td>3 020 243</td>\n",
       "    </tr>\n",
       "    <tr>\n",
       "      <th>6</th>\n",
       "      <td>Francia</td>\n",
       "      <td>2 935 716</td>\n",
       "    </tr>\n",
       "    <tr>\n",
       "      <th>7</th>\n",
       "      <td>Italia</td>\n",
       "      <td>2 105 462</td>\n",
       "    </tr>\n",
       "    <tr>\n",
       "      <th>8</th>\n",
       "      <td>Canadá</td>\n",
       "      <td>1 990 566</td>\n",
       "    </tr>\n",
       "    <tr>\n",
       "      <th>9</th>\n",
       "      <td>Corea del Sur</td>\n",
       "      <td>1 797 081</td>\n",
       "    </tr>\n",
       "    <tr>\n",
       "      <th>10</th>\n",
       "      <td>Rusia</td>\n",
       "      <td>1 775 036</td>\n",
       "    </tr>\n",
       "    <tr>\n",
       "      <th>11</th>\n",
       "      <td>Australia</td>\n",
       "      <td>1 733 884</td>\n",
       "    </tr>\n",
       "    <tr>\n",
       "      <th>12</th>\n",
       "      <td>Brasil</td>\n",
       "      <td>1 611 864</td>\n",
       "    </tr>\n",
       "    <tr>\n",
       "      <th>13</th>\n",
       "      <td>España</td>\n",
       "      <td>1 421 979</td>\n",
       "    </tr>\n",
       "    <tr>\n",
       "      <th>14</th>\n",
       "      <td>México</td>\n",
       "      <td>1 292 298</td>\n",
       "    </tr>\n",
       "    <tr>\n",
       "      <th>15</th>\n",
       "      <td>Indonesia</td>\n",
       "      <td>1 183 053</td>\n",
       "    </tr>\n",
       "    <tr>\n",
       "      <th>16</th>\n",
       "      <td>Irán</td>\n",
       "      <td>1 081 383</td>\n",
       "    </tr>\n",
       "    <tr>\n",
       "      <th>17</th>\n",
       "      <td>Países Bajos</td>\n",
       "      <td>1 015 563</td>\n",
       "    </tr>\n",
       "    <tr>\n",
       "      <th>18</th>\n",
       "      <td>Arabia Saudita</td>\n",
       "      <td>842 363</td>\n",
       "    </tr>\n",
       "    <tr>\n",
       "      <th>19</th>\n",
       "      <td>Suiza</td>\n",
       "      <td>812 730</td>\n",
       "    </tr>\n",
       "    <tr>\n",
       "      <th>20</th>\n",
       "      <td>Turquía</td>\n",
       "      <td>809 641</td>\n",
       "    </tr>\n",
       "    <tr>\n",
       "      <th>21</th>\n",
       "      <td>Polonia</td>\n",
       "      <td>673 508</td>\n",
       "    </tr>\n",
       "    <tr>\n",
       "      <th>22</th>\n",
       "      <td>Suecia</td>\n",
       "      <td>625 575</td>\n",
       "    </tr>\n",
       "    <tr>\n",
       "      <th>23</th>\n",
       "      <td>Bélgica</td>\n",
       "      <td>599 232</td>\n",
       "    </tr>\n",
       "    <tr>\n",
       "      <th>24</th>\n",
       "      <td>Tailandia</td>\n",
       "      <td>505 666</td>\n",
       "    </tr>\n",
       "    <tr>\n",
       "      <th>25</th>\n",
       "      <td>Irlanda</td>\n",
       "      <td>498 261</td>\n",
       "    </tr>\n",
       "    <tr>\n",
       "      <th>26</th>\n",
       "      <td>Noruega</td>\n",
       "      <td>481 988</td>\n",
       "    </tr>\n",
       "    <tr>\n",
       "      <th>27</th>\n",
       "      <td>Argentina</td>\n",
       "      <td>480 986</td>\n",
       "    </tr>\n",
       "    <tr>\n",
       "      <th>28</th>\n",
       "      <td>Israel</td>\n",
       "      <td>480 904</td>\n",
       "    </tr>\n",
       "    <tr>\n",
       "      <th>29</th>\n",
       "      <td>Austria</td>\n",
       "      <td>476 797</td>\n",
       "    </tr>\n",
       "    <tr>\n",
       "      <th>30</th>\n",
       "      <td>Egipto</td>\n",
       "      <td>438 348</td>\n",
       "    </tr>\n",
       "    <tr>\n",
       "      <th>31</th>\n",
       "      <td>Nigeria</td>\n",
       "      <td>429 976</td>\n",
       "    </tr>\n",
       "    <tr>\n",
       "      <th>32</th>\n",
       "      <td>Sudáfrica</td>\n",
       "      <td>417 836</td>\n",
       "    </tr>\n",
       "    <tr>\n",
       "      <th>33</th>\n",
       "      <td>Emiratos Árabes Unidos</td>\n",
       "      <td>410 158</td>\n",
       "    </tr>\n",
       "    <tr>\n",
       "      <th>34</th>\n",
       "      <td>Dinamarca</td>\n",
       "      <td>395 528</td>\n",
       "    </tr>\n",
       "    <tr>\n",
       "      <th>35</th>\n",
       "      <td>Filipinas</td>\n",
       "      <td>393 440</td>\n",
       "    </tr>\n",
       "    <tr>\n",
       "      <th>36</th>\n",
       "      <td>Singapur</td>\n",
       "      <td>374 147</td>\n",
       "    </tr>\n",
       "    <tr>\n",
       "      <th>37</th>\n",
       "      <td>Vietnam</td>\n",
       "      <td>366 290</td>\n",
       "    </tr>\n",
       "    <tr>\n",
       "      <th>38</th>\n",
       "      <td>Malasia</td>\n",
       "      <td>357 422</td>\n",
       "    </tr>\n",
       "    <tr>\n",
       "      <th>39</th>\n",
       "      <td>Bangladés</td>\n",
       "      <td>354 574</td>\n",
       "    </tr>\n",
       "  </tbody>\n",
       "</table>\n",
       "</div>"
      ],
      "text/plain": [
       "                      País PIB (nominal millones de USD)\n",
       "0           Estados Unidos                    22 997 500\n",
       "1                    China                    17 725 821\n",
       "2                    Japón                     4 938 780\n",
       "3                 Alemania                     4 220 591\n",
       "4                    India                     3 037 901\n",
       "5              Reino Unido                     3 020 243\n",
       "6                  Francia                     2 935 716\n",
       "7                   Italia                     2 105 462\n",
       "8                   Canadá                     1 990 566\n",
       "9            Corea del Sur                     1 797 081\n",
       "10                   Rusia                     1 775 036\n",
       "11               Australia                     1 733 884\n",
       "12                  Brasil                     1 611 864\n",
       "13                  España                     1 421 979\n",
       "14                  México                     1 292 298\n",
       "15               Indonesia                     1 183 053\n",
       "16                    Irán                     1 081 383\n",
       "17            Países Bajos                     1 015 563\n",
       "18          Arabia Saudita                       842 363\n",
       "19                   Suiza                       812 730\n",
       "20                 Turquía                       809 641\n",
       "21                 Polonia                       673 508\n",
       "22                  Suecia                       625 575\n",
       "23                 Bélgica                       599 232\n",
       "24               Tailandia                       505 666\n",
       "25                 Irlanda                       498 261\n",
       "26                 Noruega                       481 988\n",
       "27               Argentina                       480 986\n",
       "28                  Israel                       480 904\n",
       "29                 Austria                       476 797\n",
       "30                  Egipto                       438 348\n",
       "31                 Nigeria                       429 976\n",
       "32               Sudáfrica                       417 836\n",
       "33  Emiratos Árabes Unidos                       410 158\n",
       "34               Dinamarca                       395 528\n",
       "35               Filipinas                       393 440\n",
       "36                Singapur                       374 147\n",
       "37                 Vietnam                       366 290\n",
       "38                 Malasia                       357 422\n",
       "39               Bangladés                       354 574"
      ]
     },
     "execution_count": 64,
     "metadata": {},
     "output_type": "execute_result"
    }
   ],
   "source": [
    "# creo una tabla excel a partir de los datos de la wikipedia\n",
    "pib = pd.read_excel('PIB_2021.xlsx')\n",
    "pib"
   ]
  },
  {
   "cell_type": "markdown",
   "id": "5e84b241",
   "metadata": {},
   "source": [
    "# Defino dos funciones: quitar_espacios_importes y quitar_espacios_nombres_pais. La primera función divide en palabras y luego une las palabras sin espacios. La segunda función elimina los espacios en blanco al  y al final. "
   ]
  },
  {
   "cell_type": "code",
   "execution_count": 11,
   "id": "02239bbd",
   "metadata": {},
   "outputs": [
    {
     "data": {
      "text/html": [
       "<div>\n",
       "<style scoped>\n",
       "    .dataframe tbody tr th:only-of-type {\n",
       "        vertical-align: middle;\n",
       "    }\n",
       "\n",
       "    .dataframe tbody tr th {\n",
       "        vertical-align: top;\n",
       "    }\n",
       "\n",
       "    .dataframe thead th {\n",
       "        text-align: right;\n",
       "    }\n",
       "</style>\n",
       "<table border=\"1\" class=\"dataframe\">\n",
       "  <thead>\n",
       "    <tr style=\"text-align: right;\">\n",
       "      <th></th>\n",
       "      <th>País</th>\n",
       "      <th>PIB (nominal millones de USD)</th>\n",
       "      <th>PIB (float)</th>\n",
       "    </tr>\n",
       "  </thead>\n",
       "  <tbody>\n",
       "    <tr>\n",
       "      <th>0</th>\n",
       "      <td>Estados Unidos</td>\n",
       "      <td>22 997 500</td>\n",
       "      <td>22997500</td>\n",
       "    </tr>\n",
       "    <tr>\n",
       "      <th>1</th>\n",
       "      <td>China</td>\n",
       "      <td>17 725 821</td>\n",
       "      <td>17725821</td>\n",
       "    </tr>\n",
       "    <tr>\n",
       "      <th>2</th>\n",
       "      <td>Japón</td>\n",
       "      <td>4 938 780</td>\n",
       "      <td>4938780</td>\n",
       "    </tr>\n",
       "    <tr>\n",
       "      <th>3</th>\n",
       "      <td>Alemania</td>\n",
       "      <td>4 220 591</td>\n",
       "      <td>4220591</td>\n",
       "    </tr>\n",
       "    <tr>\n",
       "      <th>4</th>\n",
       "      <td>India</td>\n",
       "      <td>3 037 901</td>\n",
       "      <td>3037901</td>\n",
       "    </tr>\n",
       "    <tr>\n",
       "      <th>5</th>\n",
       "      <td>Reino Unido</td>\n",
       "      <td>3 020 243</td>\n",
       "      <td>3020243</td>\n",
       "    </tr>\n",
       "    <tr>\n",
       "      <th>6</th>\n",
       "      <td>Francia</td>\n",
       "      <td>2 935 716</td>\n",
       "      <td>2935716</td>\n",
       "    </tr>\n",
       "    <tr>\n",
       "      <th>7</th>\n",
       "      <td>Italia</td>\n",
       "      <td>2 105 462</td>\n",
       "      <td>2105462</td>\n",
       "    </tr>\n",
       "    <tr>\n",
       "      <th>8</th>\n",
       "      <td>Canadá</td>\n",
       "      <td>1 990 566</td>\n",
       "      <td>1990566</td>\n",
       "    </tr>\n",
       "    <tr>\n",
       "      <th>9</th>\n",
       "      <td>Corea del Sur</td>\n",
       "      <td>1 797 081</td>\n",
       "      <td>1797081</td>\n",
       "    </tr>\n",
       "    <tr>\n",
       "      <th>10</th>\n",
       "      <td>Rusia</td>\n",
       "      <td>1 775 036</td>\n",
       "      <td>1775036</td>\n",
       "    </tr>\n",
       "    <tr>\n",
       "      <th>11</th>\n",
       "      <td>Australia</td>\n",
       "      <td>1 733 884</td>\n",
       "      <td>1733884</td>\n",
       "    </tr>\n",
       "    <tr>\n",
       "      <th>12</th>\n",
       "      <td>Brasil</td>\n",
       "      <td>1 611 864</td>\n",
       "      <td>1611864</td>\n",
       "    </tr>\n",
       "    <tr>\n",
       "      <th>13</th>\n",
       "      <td>España</td>\n",
       "      <td>1 421 979</td>\n",
       "      <td>1421979</td>\n",
       "    </tr>\n",
       "    <tr>\n",
       "      <th>14</th>\n",
       "      <td>México</td>\n",
       "      <td>1 292 298</td>\n",
       "      <td>1292298</td>\n",
       "    </tr>\n",
       "    <tr>\n",
       "      <th>15</th>\n",
       "      <td>Indonesia</td>\n",
       "      <td>1 183 053</td>\n",
       "      <td>1183053</td>\n",
       "    </tr>\n",
       "    <tr>\n",
       "      <th>16</th>\n",
       "      <td>Irán</td>\n",
       "      <td>1 081 383</td>\n",
       "      <td>1081383</td>\n",
       "    </tr>\n",
       "    <tr>\n",
       "      <th>17</th>\n",
       "      <td>Países Bajos</td>\n",
       "      <td>1 015 563</td>\n",
       "      <td>1015563</td>\n",
       "    </tr>\n",
       "    <tr>\n",
       "      <th>18</th>\n",
       "      <td>Arabia Saudita</td>\n",
       "      <td>842 363</td>\n",
       "      <td>842363</td>\n",
       "    </tr>\n",
       "    <tr>\n",
       "      <th>19</th>\n",
       "      <td>Suiza</td>\n",
       "      <td>812 730</td>\n",
       "      <td>812730</td>\n",
       "    </tr>\n",
       "    <tr>\n",
       "      <th>20</th>\n",
       "      <td>Turquía</td>\n",
       "      <td>809 641</td>\n",
       "      <td>809641</td>\n",
       "    </tr>\n",
       "    <tr>\n",
       "      <th>21</th>\n",
       "      <td>Polonia</td>\n",
       "      <td>673 508</td>\n",
       "      <td>673508</td>\n",
       "    </tr>\n",
       "    <tr>\n",
       "      <th>22</th>\n",
       "      <td>Suecia</td>\n",
       "      <td>625 575</td>\n",
       "      <td>625575</td>\n",
       "    </tr>\n",
       "    <tr>\n",
       "      <th>23</th>\n",
       "      <td>Bélgica</td>\n",
       "      <td>599 232</td>\n",
       "      <td>599232</td>\n",
       "    </tr>\n",
       "    <tr>\n",
       "      <th>24</th>\n",
       "      <td>Tailandia</td>\n",
       "      <td>505 666</td>\n",
       "      <td>505666</td>\n",
       "    </tr>\n",
       "    <tr>\n",
       "      <th>25</th>\n",
       "      <td>Irlanda</td>\n",
       "      <td>498 261</td>\n",
       "      <td>498261</td>\n",
       "    </tr>\n",
       "    <tr>\n",
       "      <th>26</th>\n",
       "      <td>Noruega</td>\n",
       "      <td>481 988</td>\n",
       "      <td>481988</td>\n",
       "    </tr>\n",
       "    <tr>\n",
       "      <th>27</th>\n",
       "      <td>Argentina</td>\n",
       "      <td>480 986</td>\n",
       "      <td>480986</td>\n",
       "    </tr>\n",
       "    <tr>\n",
       "      <th>28</th>\n",
       "      <td>Israel</td>\n",
       "      <td>480 904</td>\n",
       "      <td>480904</td>\n",
       "    </tr>\n",
       "    <tr>\n",
       "      <th>29</th>\n",
       "      <td>Austria</td>\n",
       "      <td>476 797</td>\n",
       "      <td>476797</td>\n",
       "    </tr>\n",
       "    <tr>\n",
       "      <th>30</th>\n",
       "      <td>Egipto</td>\n",
       "      <td>438 348</td>\n",
       "      <td>438348</td>\n",
       "    </tr>\n",
       "    <tr>\n",
       "      <th>31</th>\n",
       "      <td>Nigeria</td>\n",
       "      <td>429 976</td>\n",
       "      <td>429976</td>\n",
       "    </tr>\n",
       "    <tr>\n",
       "      <th>32</th>\n",
       "      <td>Sudáfrica</td>\n",
       "      <td>417 836</td>\n",
       "      <td>417836</td>\n",
       "    </tr>\n",
       "    <tr>\n",
       "      <th>33</th>\n",
       "      <td>Emiratos Árabes Unidos</td>\n",
       "      <td>410 158</td>\n",
       "      <td>410158</td>\n",
       "    </tr>\n",
       "    <tr>\n",
       "      <th>34</th>\n",
       "      <td>Dinamarca</td>\n",
       "      <td>395 528</td>\n",
       "      <td>395528</td>\n",
       "    </tr>\n",
       "    <tr>\n",
       "      <th>35</th>\n",
       "      <td>Filipinas</td>\n",
       "      <td>393 440</td>\n",
       "      <td>393440</td>\n",
       "    </tr>\n",
       "    <tr>\n",
       "      <th>36</th>\n",
       "      <td>Singapur</td>\n",
       "      <td>374 147</td>\n",
       "      <td>374147</td>\n",
       "    </tr>\n",
       "    <tr>\n",
       "      <th>37</th>\n",
       "      <td>Vietnam</td>\n",
       "      <td>366 290</td>\n",
       "      <td>366290</td>\n",
       "    </tr>\n",
       "    <tr>\n",
       "      <th>38</th>\n",
       "      <td>Malasia</td>\n",
       "      <td>357 422</td>\n",
       "      <td>357422</td>\n",
       "    </tr>\n",
       "    <tr>\n",
       "      <th>39</th>\n",
       "      <td>Bangladés</td>\n",
       "      <td>354 574</td>\n",
       "      <td>354574</td>\n",
       "    </tr>\n",
       "  </tbody>\n",
       "</table>\n",
       "</div>"
      ],
      "text/plain": [
       "                      País PIB (nominal millones de USD)  PIB (float)\n",
       "0           Estados Unidos                    22 997 500     22997500\n",
       "1                    China                    17 725 821     17725821\n",
       "2                    Japón                     4 938 780      4938780\n",
       "3                 Alemania                     4 220 591      4220591\n",
       "4                    India                     3 037 901      3037901\n",
       "5              Reino Unido                     3 020 243      3020243\n",
       "6                  Francia                     2 935 716      2935716\n",
       "7                   Italia                     2 105 462      2105462\n",
       "8                   Canadá                     1 990 566      1990566\n",
       "9            Corea del Sur                     1 797 081      1797081\n",
       "10                   Rusia                     1 775 036      1775036\n",
       "11               Australia                     1 733 884      1733884\n",
       "12                  Brasil                     1 611 864      1611864\n",
       "13                  España                     1 421 979      1421979\n",
       "14                  México                     1 292 298      1292298\n",
       "15               Indonesia                     1 183 053      1183053\n",
       "16                    Irán                     1 081 383      1081383\n",
       "17            Países Bajos                     1 015 563      1015563\n",
       "18          Arabia Saudita                       842 363       842363\n",
       "19                   Suiza                       812 730       812730\n",
       "20                 Turquía                       809 641       809641\n",
       "21                 Polonia                       673 508       673508\n",
       "22                  Suecia                       625 575       625575\n",
       "23                 Bélgica                       599 232       599232\n",
       "24               Tailandia                       505 666       505666\n",
       "25                 Irlanda                       498 261       498261\n",
       "26                 Noruega                       481 988       481988\n",
       "27               Argentina                       480 986       480986\n",
       "28                  Israel                       480 904       480904\n",
       "29                 Austria                       476 797       476797\n",
       "30                  Egipto                       438 348       438348\n",
       "31                 Nigeria                       429 976       429976\n",
       "32               Sudáfrica                       417 836       417836\n",
       "33  Emiratos Árabes Unidos                       410 158       410158\n",
       "34               Dinamarca                       395 528       395528\n",
       "35               Filipinas                       393 440       393440\n",
       "36                Singapur                       374 147       374147\n",
       "37                 Vietnam                       366 290       366290\n",
       "38                 Malasia                       357 422       357422\n",
       "39               Bangladés                       354 574       354574"
      ]
     },
     "execution_count": 11,
     "metadata": {},
     "output_type": "execute_result"
    }
   ],
   "source": [
    "pib = pd.read_excel('datos/pib/PIB_2021.xlsx')\n",
    "def quitar_espacios_importes(x):\n",
    "    l = x.split()\n",
    "    d = ''.join(x for x in l)    \n",
    "    return int(d)\n",
    "\n",
    "\n",
    "def quitar_espacios_nombres_pais(x):\n",
    "    l = x.strip()    \n",
    "    return l\n",
    "\n",
    "\n",
    "pib['PIB (float)'] = pib['PIB (nominal millones de USD)'].map(quitar_espacios_importes)\n",
    "pib.País = pib.País.map(quitar_espacios_nombres_pais)\n",
    "pib"
   ]
  },
  {
   "cell_type": "code",
   "execution_count": 12,
   "id": "0efeb077",
   "metadata": {},
   "outputs": [],
   "source": [
    "## Cruzo los datos con los paises del museo"
   ]
  },
  {
   "cell_type": "code",
   "execution_count": 13,
   "id": "3268585a",
   "metadata": {},
   "outputs": [
    {
     "data": {
      "text/plain": [
       "Estados Unidos    1266\n",
       "España            1023\n",
       "Alemania           701\n",
       "Francia            545\n",
       "Reino Unido        386\n",
       "                  ... \n",
       "Uzbekistán           1\n",
       "Sri Lanka            1\n",
       "Mónaco               1\n",
       "Afganistán           1\n",
       "Eritrea              1\n",
       "Name: nacPais, Length: 127, dtype: int64"
      ]
     },
     "execution_count": 13,
     "metadata": {},
     "output_type": "execute_result"
    }
   ],
   "source": [
    "paises"
   ]
  },
  {
   "cell_type": "code",
   "execution_count": 14,
   "id": "2064f232",
   "metadata": {},
   "outputs": [
    {
     "data": {
      "text/plain": [
       "Estados Unidos            1\n",
       "China                     1\n",
       "Suecia                    1\n",
       "Bélgica                   1\n",
       "Tailandia                 1\n",
       "Irlanda                   1\n",
       "Noruega                   1\n",
       "Argentina                 1\n",
       "Israel                    1\n",
       "Austria                   1\n",
       "Egipto                    1\n",
       "Nigeria                   1\n",
       "Sudáfrica                 1\n",
       "Emiratos Árabes Unidos    1\n",
       "Dinamarca                 1\n",
       "Filipinas                 1\n",
       "Singapur                  1\n",
       "Vietnam                   1\n",
       "Malasia                   1\n",
       "Polonia                   1\n",
       "Turquía                   1\n",
       "Suiza                     1\n",
       "Corea del Sur             1\n",
       "Japón                     1\n",
       "Alemania                  1\n",
       "India                     1\n",
       "Reino Unido               1\n",
       "Francia                   1\n",
       "Italia                    1\n",
       "Canadá                    1\n",
       "Rusia                     1\n",
       "Arabia Saudita            1\n",
       "Australia                 1\n",
       "Brasil                    1\n",
       "España                    1\n",
       "México                    1\n",
       "Indonesia                 1\n",
       "Irán                      1\n",
       "Países Bajos              1\n",
       "Bangladés                 1\n",
       "Name: País, dtype: int64"
      ]
     },
     "execution_count": 14,
     "metadata": {},
     "output_type": "execute_result"
    }
   ],
   "source": [
    "pib.País.value_counts() #cuento los valores"
   ]
  },
  {
   "cell_type": "markdown",
   "id": "30bb039e",
   "metadata": {},
   "source": [
    "#  Realizo una fusión entre dos DataFrames: paises y pib, utilizando el índice del DataFrame paises y la columna 'País' del DataFrame pib.  Creo un dataframe llamado pib_numero_mujers."
   ]
  },
  {
   "cell_type": "code",
   "execution_count": 15,
   "id": "70da3a51",
   "metadata": {},
   "outputs": [
    {
     "data": {
      "text/html": [
       "<div>\n",
       "<style scoped>\n",
       "    .dataframe tbody tr th:only-of-type {\n",
       "        vertical-align: middle;\n",
       "    }\n",
       "\n",
       "    .dataframe tbody tr th {\n",
       "        vertical-align: top;\n",
       "    }\n",
       "\n",
       "    .dataframe thead th {\n",
       "        text-align: right;\n",
       "    }\n",
       "</style>\n",
       "<table border=\"1\" class=\"dataframe\">\n",
       "  <thead>\n",
       "    <tr style=\"text-align: right;\">\n",
       "      <th></th>\n",
       "      <th>nacPais</th>\n",
       "      <th>País</th>\n",
       "      <th>PIB (nominal millones de USD)</th>\n",
       "      <th>PIB (float)</th>\n",
       "    </tr>\n",
       "  </thead>\n",
       "  <tbody>\n",
       "    <tr>\n",
       "      <th>0</th>\n",
       "      <td>1266</td>\n",
       "      <td>Estados Unidos</td>\n",
       "      <td>22 997 500</td>\n",
       "      <td>22997500</td>\n",
       "    </tr>\n",
       "    <tr>\n",
       "      <th>13</th>\n",
       "      <td>1023</td>\n",
       "      <td>España</td>\n",
       "      <td>1 421 979</td>\n",
       "      <td>1421979</td>\n",
       "    </tr>\n",
       "    <tr>\n",
       "      <th>3</th>\n",
       "      <td>701</td>\n",
       "      <td>Alemania</td>\n",
       "      <td>4 220 591</td>\n",
       "      <td>4220591</td>\n",
       "    </tr>\n",
       "    <tr>\n",
       "      <th>6</th>\n",
       "      <td>545</td>\n",
       "      <td>Francia</td>\n",
       "      <td>2 935 716</td>\n",
       "      <td>2935716</td>\n",
       "    </tr>\n",
       "    <tr>\n",
       "      <th>5</th>\n",
       "      <td>386</td>\n",
       "      <td>Reino Unido</td>\n",
       "      <td>3 020 243</td>\n",
       "      <td>3020243</td>\n",
       "    </tr>\n",
       "    <tr>\n",
       "      <th>7</th>\n",
       "      <td>252</td>\n",
       "      <td>Italia</td>\n",
       "      <td>2 105 462</td>\n",
       "      <td>2105462</td>\n",
       "    </tr>\n",
       "    <tr>\n",
       "      <th>29</th>\n",
       "      <td>161</td>\n",
       "      <td>Austria</td>\n",
       "      <td>476 797</td>\n",
       "      <td>476797</td>\n",
       "    </tr>\n",
       "    <tr>\n",
       "      <th>8</th>\n",
       "      <td>160</td>\n",
       "      <td>Canadá</td>\n",
       "      <td>1 990 566</td>\n",
       "      <td>1990566</td>\n",
       "    </tr>\n",
       "    <tr>\n",
       "      <th>19</th>\n",
       "      <td>159</td>\n",
       "      <td>Suiza</td>\n",
       "      <td>812 730</td>\n",
       "      <td>812730</td>\n",
       "    </tr>\n",
       "    <tr>\n",
       "      <th>27</th>\n",
       "      <td>132</td>\n",
       "      <td>Argentina</td>\n",
       "      <td>480 986</td>\n",
       "      <td>480986</td>\n",
       "    </tr>\n",
       "    <tr>\n",
       "      <th>21</th>\n",
       "      <td>129</td>\n",
       "      <td>Polonia</td>\n",
       "      <td>673 508</td>\n",
       "      <td>673508</td>\n",
       "    </tr>\n",
       "    <tr>\n",
       "      <th>17</th>\n",
       "      <td>126</td>\n",
       "      <td>Países Bajos</td>\n",
       "      <td>1 015 563</td>\n",
       "      <td>1015563</td>\n",
       "    </tr>\n",
       "    <tr>\n",
       "      <th>12</th>\n",
       "      <td>117</td>\n",
       "      <td>Brasil</td>\n",
       "      <td>1 611 864</td>\n",
       "      <td>1611864</td>\n",
       "    </tr>\n",
       "    <tr>\n",
       "      <th>22</th>\n",
       "      <td>94</td>\n",
       "      <td>Suecia</td>\n",
       "      <td>625 575</td>\n",
       "      <td>625575</td>\n",
       "    </tr>\n",
       "    <tr>\n",
       "      <th>14</th>\n",
       "      <td>93</td>\n",
       "      <td>México</td>\n",
       "      <td>1 292 298</td>\n",
       "      <td>1292298</td>\n",
       "    </tr>\n",
       "    <tr>\n",
       "      <th>2</th>\n",
       "      <td>87</td>\n",
       "      <td>Japón</td>\n",
       "      <td>4 938 780</td>\n",
       "      <td>4938780</td>\n",
       "    </tr>\n",
       "    <tr>\n",
       "      <th>23</th>\n",
       "      <td>84</td>\n",
       "      <td>Bélgica</td>\n",
       "      <td>599 232</td>\n",
       "      <td>599232</td>\n",
       "    </tr>\n",
       "    <tr>\n",
       "      <th>10</th>\n",
       "      <td>79</td>\n",
       "      <td>Rusia</td>\n",
       "      <td>1 775 036</td>\n",
       "      <td>1775036</td>\n",
       "    </tr>\n",
       "    <tr>\n",
       "      <th>11</th>\n",
       "      <td>60</td>\n",
       "      <td>Australia</td>\n",
       "      <td>1 733 884</td>\n",
       "      <td>1733884</td>\n",
       "    </tr>\n",
       "    <tr>\n",
       "      <th>28</th>\n",
       "      <td>59</td>\n",
       "      <td>Israel</td>\n",
       "      <td>480 904</td>\n",
       "      <td>480904</td>\n",
       "    </tr>\n",
       "    <tr>\n",
       "      <th>26</th>\n",
       "      <td>36</td>\n",
       "      <td>Noruega</td>\n",
       "      <td>481 988</td>\n",
       "      <td>481988</td>\n",
       "    </tr>\n",
       "    <tr>\n",
       "      <th>34</th>\n",
       "      <td>32</td>\n",
       "      <td>Dinamarca</td>\n",
       "      <td>395 528</td>\n",
       "      <td>395528</td>\n",
       "    </tr>\n",
       "    <tr>\n",
       "      <th>25</th>\n",
       "      <td>28</td>\n",
       "      <td>Irlanda</td>\n",
       "      <td>498 261</td>\n",
       "      <td>498261</td>\n",
       "    </tr>\n",
       "    <tr>\n",
       "      <th>4</th>\n",
       "      <td>27</td>\n",
       "      <td>India</td>\n",
       "      <td>3 037 901</td>\n",
       "      <td>3037901</td>\n",
       "    </tr>\n",
       "    <tr>\n",
       "      <th>32</th>\n",
       "      <td>21</td>\n",
       "      <td>Sudáfrica</td>\n",
       "      <td>417 836</td>\n",
       "      <td>417836</td>\n",
       "    </tr>\n",
       "    <tr>\n",
       "      <th>9</th>\n",
       "      <td>18</td>\n",
       "      <td>Corea del Sur</td>\n",
       "      <td>1 797 081</td>\n",
       "      <td>1797081</td>\n",
       "    </tr>\n",
       "    <tr>\n",
       "      <th>16</th>\n",
       "      <td>15</td>\n",
       "      <td>Irán</td>\n",
       "      <td>1 081 383</td>\n",
       "      <td>1081383</td>\n",
       "    </tr>\n",
       "    <tr>\n",
       "      <th>30</th>\n",
       "      <td>14</td>\n",
       "      <td>Egipto</td>\n",
       "      <td>438 348</td>\n",
       "      <td>438348</td>\n",
       "    </tr>\n",
       "    <tr>\n",
       "      <th>20</th>\n",
       "      <td>11</td>\n",
       "      <td>Turquía</td>\n",
       "      <td>809 641</td>\n",
       "      <td>809641</td>\n",
       "    </tr>\n",
       "    <tr>\n",
       "      <th>37</th>\n",
       "      <td>5</td>\n",
       "      <td>Vietnam</td>\n",
       "      <td>366 290</td>\n",
       "      <td>366290</td>\n",
       "    </tr>\n",
       "    <tr>\n",
       "      <th>35</th>\n",
       "      <td>4</td>\n",
       "      <td>Filipinas</td>\n",
       "      <td>393 440</td>\n",
       "      <td>393440</td>\n",
       "    </tr>\n",
       "    <tr>\n",
       "      <th>31</th>\n",
       "      <td>4</td>\n",
       "      <td>Nigeria</td>\n",
       "      <td>429 976</td>\n",
       "      <td>429976</td>\n",
       "    </tr>\n",
       "    <tr>\n",
       "      <th>15</th>\n",
       "      <td>4</td>\n",
       "      <td>Indonesia</td>\n",
       "      <td>1 183 053</td>\n",
       "      <td>1183053</td>\n",
       "    </tr>\n",
       "    <tr>\n",
       "      <th>39</th>\n",
       "      <td>2</td>\n",
       "      <td>Bangladés</td>\n",
       "      <td>354 574</td>\n",
       "      <td>354574</td>\n",
       "    </tr>\n",
       "    <tr>\n",
       "      <th>36</th>\n",
       "      <td>2</td>\n",
       "      <td>Singapur</td>\n",
       "      <td>374 147</td>\n",
       "      <td>374147</td>\n",
       "    </tr>\n",
       "    <tr>\n",
       "      <th>38</th>\n",
       "      <td>1</td>\n",
       "      <td>Malasia</td>\n",
       "      <td>357 422</td>\n",
       "      <td>357422</td>\n",
       "    </tr>\n",
       "    <tr>\n",
       "      <th>24</th>\n",
       "      <td>1</td>\n",
       "      <td>Tailandia</td>\n",
       "      <td>505 666</td>\n",
       "      <td>505666</td>\n",
       "    </tr>\n",
       "    <tr>\n",
       "      <th>18</th>\n",
       "      <td>1</td>\n",
       "      <td>Arabia Saudita</td>\n",
       "      <td>842 363</td>\n",
       "      <td>842363</td>\n",
       "    </tr>\n",
       "    <tr>\n",
       "      <th>33</th>\n",
       "      <td>1</td>\n",
       "      <td>Emiratos Árabes Unidos</td>\n",
       "      <td>410 158</td>\n",
       "      <td>410158</td>\n",
       "    </tr>\n",
       "  </tbody>\n",
       "</table>\n",
       "</div>"
      ],
      "text/plain": [
       "    nacPais                    País PIB (nominal millones de USD)  PIB (float)\n",
       "0      1266          Estados Unidos                    22 997 500     22997500\n",
       "13     1023                  España                     1 421 979      1421979\n",
       "3       701                Alemania                     4 220 591      4220591\n",
       "6       545                 Francia                     2 935 716      2935716\n",
       "5       386             Reino Unido                     3 020 243      3020243\n",
       "7       252                  Italia                     2 105 462      2105462\n",
       "29      161                 Austria                       476 797       476797\n",
       "8       160                  Canadá                     1 990 566      1990566\n",
       "19      159                   Suiza                       812 730       812730\n",
       "27      132               Argentina                       480 986       480986\n",
       "21      129                 Polonia                       673 508       673508\n",
       "17      126            Países Bajos                     1 015 563      1015563\n",
       "12      117                  Brasil                     1 611 864      1611864\n",
       "22       94                  Suecia                       625 575       625575\n",
       "14       93                  México                     1 292 298      1292298\n",
       "2        87                   Japón                     4 938 780      4938780\n",
       "23       84                 Bélgica                       599 232       599232\n",
       "10       79                   Rusia                     1 775 036      1775036\n",
       "11       60               Australia                     1 733 884      1733884\n",
       "28       59                  Israel                       480 904       480904\n",
       "26       36                 Noruega                       481 988       481988\n",
       "34       32               Dinamarca                       395 528       395528\n",
       "25       28                 Irlanda                       498 261       498261\n",
       "4        27                   India                     3 037 901      3037901\n",
       "32       21               Sudáfrica                       417 836       417836\n",
       "9        18           Corea del Sur                     1 797 081      1797081\n",
       "16       15                    Irán                     1 081 383      1081383\n",
       "30       14                  Egipto                       438 348       438348\n",
       "20       11                 Turquía                       809 641       809641\n",
       "37        5                 Vietnam                       366 290       366290\n",
       "35        4               Filipinas                       393 440       393440\n",
       "31        4                 Nigeria                       429 976       429976\n",
       "15        4               Indonesia                     1 183 053      1183053\n",
       "39        2               Bangladés                       354 574       354574\n",
       "36        2                Singapur                       374 147       374147\n",
       "38        1                 Malasia                       357 422       357422\n",
       "24        1               Tailandia                       505 666       505666\n",
       "18        1          Arabia Saudita                       842 363       842363\n",
       "33        1  Emiratos Árabes Unidos                       410 158       410158"
      ]
     },
     "execution_count": 15,
     "metadata": {},
     "output_type": "execute_result"
    }
   ],
   "source": [
    "pib_numero_mujers = pd.merge(paises, pib, left_index = True, right_on = 'País' )\n",
    "pib_numero_mujers"
   ]
  },
  {
   "cell_type": "markdown",
   "id": "d9a5eca7",
   "metadata": {},
   "source": [
    "# Creo un gráfico de dispersión (scatter plot) utilizando los datos del DataFrame pib_numero_mujers. Las coordenadas x corresponden a la columna 'nacPais', las coordenadas y corresponden a la columna 'PIB (float)', y las etiquetas de texto se toman de la columna 'País'."
   ]
  },
  {
   "cell_type": "code",
   "execution_count": 16,
   "id": "718a762f",
   "metadata": {},
   "outputs": [
    {
     "data": {
      "text/html": [
       "        <script type=\"text/javascript\">\n",
       "        window.PlotlyConfig = {MathJaxConfig: 'local'};\n",
       "        if (window.MathJax && window.MathJax.Hub && window.MathJax.Hub.Config) {window.MathJax.Hub.Config({SVG: {font: \"STIX-Web\"}});}\n",
       "        if (typeof require !== 'undefined') {\n",
       "        require.undef(\"plotly\");\n",
       "        requirejs.config({\n",
       "            paths: {\n",
       "                'plotly': ['https://cdn.plot.ly/plotly-2.26.0.min']\n",
       "            }\n",
       "        });\n",
       "        require(['plotly'], function(Plotly) {\n",
       "            window._Plotly = Plotly;\n",
       "        });\n",
       "        }\n",
       "        </script>\n",
       "        "
      ]
     },
     "metadata": {},
     "output_type": "display_data"
    }
   ],
   "source": [
    "import plotly.graph_objs as go\n",
    "\n",
    "from plotly.offline import init_notebook_mode, iplot\n",
    "init_notebook_mode(connected=True)"
   ]
  },
  {
   "cell_type": "code",
   "execution_count": 18,
   "id": "a0c144e5",
   "metadata": {},
   "outputs": [
    {
     "data": {
      "application/vnd.plotly.v1+json": {
       "config": {
        "linkText": "Export to plot.ly",
        "plotlyServerURL": "https://plot.ly",
        "showLink": false
       },
       "data": [
        {
         "mode": "markers",
         "text": [
          "Estados Unidos",
          "España",
          "Alemania",
          "Francia",
          "Reino Unido",
          "Italia",
          "Austria",
          "Canadá",
          "Suiza",
          "Argentina",
          "Polonia",
          "Países Bajos",
          "Brasil",
          "Suecia",
          "México",
          "Japón",
          "Bélgica",
          "Rusia",
          "Australia",
          "Israel",
          "Noruega",
          "Dinamarca",
          "Irlanda",
          "India",
          "Sudáfrica",
          "Corea del Sur",
          "Irán",
          "Egipto",
          "Turquía",
          "Vietnam",
          "Filipinas",
          "Nigeria",
          "Indonesia",
          "Bangladés",
          "Singapur",
          "Malasia",
          "Tailandia",
          "Arabia Saudita",
          "Emiratos Árabes Unidos"
         ],
         "type": "scatter",
         "x": [
          1266,
          1023,
          701,
          545,
          386,
          252,
          161,
          160,
          159,
          132,
          129,
          126,
          117,
          94,
          93,
          87,
          84,
          79,
          60,
          59,
          36,
          32,
          28,
          27,
          21,
          18,
          15,
          14,
          11,
          5,
          4,
          4,
          4,
          2,
          2,
          1,
          1,
          1,
          1
         ],
         "y": [
          22997500,
          1421979,
          4220591,
          2935716,
          3020243,
          2105462,
          476797,
          1990566,
          812730,
          480986,
          673508,
          1015563,
          1611864,
          625575,
          1292298,
          4938780,
          599232,
          1775036,
          1733884,
          480904,
          481988,
          395528,
          498261,
          3037901,
          417836,
          1797081,
          1081383,
          438348,
          809641,
          366290,
          393440,
          429976,
          1183053,
          354574,
          374147,
          357422,
          505666,
          842363,
          410158
         ]
        }
       ],
       "layout": {
        "template": {
         "data": {
          "bar": [
           {
            "error_x": {
             "color": "#2a3f5f"
            },
            "error_y": {
             "color": "#2a3f5f"
            },
            "marker": {
             "line": {
              "color": "#E5ECF6",
              "width": 0.5
             },
             "pattern": {
              "fillmode": "overlay",
              "size": 10,
              "solidity": 0.2
             }
            },
            "type": "bar"
           }
          ],
          "barpolar": [
           {
            "marker": {
             "line": {
              "color": "#E5ECF6",
              "width": 0.5
             },
             "pattern": {
              "fillmode": "overlay",
              "size": 10,
              "solidity": 0.2
             }
            },
            "type": "barpolar"
           }
          ],
          "carpet": [
           {
            "aaxis": {
             "endlinecolor": "#2a3f5f",
             "gridcolor": "white",
             "linecolor": "white",
             "minorgridcolor": "white",
             "startlinecolor": "#2a3f5f"
            },
            "baxis": {
             "endlinecolor": "#2a3f5f",
             "gridcolor": "white",
             "linecolor": "white",
             "minorgridcolor": "white",
             "startlinecolor": "#2a3f5f"
            },
            "type": "carpet"
           }
          ],
          "choropleth": [
           {
            "colorbar": {
             "outlinewidth": 0,
             "ticks": ""
            },
            "type": "choropleth"
           }
          ],
          "contour": [
           {
            "colorbar": {
             "outlinewidth": 0,
             "ticks": ""
            },
            "colorscale": [
             [
              0,
              "#0d0887"
             ],
             [
              0.1111111111111111,
              "#46039f"
             ],
             [
              0.2222222222222222,
              "#7201a8"
             ],
             [
              0.3333333333333333,
              "#9c179e"
             ],
             [
              0.4444444444444444,
              "#bd3786"
             ],
             [
              0.5555555555555556,
              "#d8576b"
             ],
             [
              0.6666666666666666,
              "#ed7953"
             ],
             [
              0.7777777777777778,
              "#fb9f3a"
             ],
             [
              0.8888888888888888,
              "#fdca26"
             ],
             [
              1,
              "#f0f921"
             ]
            ],
            "type": "contour"
           }
          ],
          "contourcarpet": [
           {
            "colorbar": {
             "outlinewidth": 0,
             "ticks": ""
            },
            "type": "contourcarpet"
           }
          ],
          "heatmap": [
           {
            "colorbar": {
             "outlinewidth": 0,
             "ticks": ""
            },
            "colorscale": [
             [
              0,
              "#0d0887"
             ],
             [
              0.1111111111111111,
              "#46039f"
             ],
             [
              0.2222222222222222,
              "#7201a8"
             ],
             [
              0.3333333333333333,
              "#9c179e"
             ],
             [
              0.4444444444444444,
              "#bd3786"
             ],
             [
              0.5555555555555556,
              "#d8576b"
             ],
             [
              0.6666666666666666,
              "#ed7953"
             ],
             [
              0.7777777777777778,
              "#fb9f3a"
             ],
             [
              0.8888888888888888,
              "#fdca26"
             ],
             [
              1,
              "#f0f921"
             ]
            ],
            "type": "heatmap"
           }
          ],
          "heatmapgl": [
           {
            "colorbar": {
             "outlinewidth": 0,
             "ticks": ""
            },
            "colorscale": [
             [
              0,
              "#0d0887"
             ],
             [
              0.1111111111111111,
              "#46039f"
             ],
             [
              0.2222222222222222,
              "#7201a8"
             ],
             [
              0.3333333333333333,
              "#9c179e"
             ],
             [
              0.4444444444444444,
              "#bd3786"
             ],
             [
              0.5555555555555556,
              "#d8576b"
             ],
             [
              0.6666666666666666,
              "#ed7953"
             ],
             [
              0.7777777777777778,
              "#fb9f3a"
             ],
             [
              0.8888888888888888,
              "#fdca26"
             ],
             [
              1,
              "#f0f921"
             ]
            ],
            "type": "heatmapgl"
           }
          ],
          "histogram": [
           {
            "marker": {
             "pattern": {
              "fillmode": "overlay",
              "size": 10,
              "solidity": 0.2
             }
            },
            "type": "histogram"
           }
          ],
          "histogram2d": [
           {
            "colorbar": {
             "outlinewidth": 0,
             "ticks": ""
            },
            "colorscale": [
             [
              0,
              "#0d0887"
             ],
             [
              0.1111111111111111,
              "#46039f"
             ],
             [
              0.2222222222222222,
              "#7201a8"
             ],
             [
              0.3333333333333333,
              "#9c179e"
             ],
             [
              0.4444444444444444,
              "#bd3786"
             ],
             [
              0.5555555555555556,
              "#d8576b"
             ],
             [
              0.6666666666666666,
              "#ed7953"
             ],
             [
              0.7777777777777778,
              "#fb9f3a"
             ],
             [
              0.8888888888888888,
              "#fdca26"
             ],
             [
              1,
              "#f0f921"
             ]
            ],
            "type": "histogram2d"
           }
          ],
          "histogram2dcontour": [
           {
            "colorbar": {
             "outlinewidth": 0,
             "ticks": ""
            },
            "colorscale": [
             [
              0,
              "#0d0887"
             ],
             [
              0.1111111111111111,
              "#46039f"
             ],
             [
              0.2222222222222222,
              "#7201a8"
             ],
             [
              0.3333333333333333,
              "#9c179e"
             ],
             [
              0.4444444444444444,
              "#bd3786"
             ],
             [
              0.5555555555555556,
              "#d8576b"
             ],
             [
              0.6666666666666666,
              "#ed7953"
             ],
             [
              0.7777777777777778,
              "#fb9f3a"
             ],
             [
              0.8888888888888888,
              "#fdca26"
             ],
             [
              1,
              "#f0f921"
             ]
            ],
            "type": "histogram2dcontour"
           }
          ],
          "mesh3d": [
           {
            "colorbar": {
             "outlinewidth": 0,
             "ticks": ""
            },
            "type": "mesh3d"
           }
          ],
          "parcoords": [
           {
            "line": {
             "colorbar": {
              "outlinewidth": 0,
              "ticks": ""
             }
            },
            "type": "parcoords"
           }
          ],
          "pie": [
           {
            "automargin": true,
            "type": "pie"
           }
          ],
          "scatter": [
           {
            "fillpattern": {
             "fillmode": "overlay",
             "size": 10,
             "solidity": 0.2
            },
            "type": "scatter"
           }
          ],
          "scatter3d": [
           {
            "line": {
             "colorbar": {
              "outlinewidth": 0,
              "ticks": ""
             }
            },
            "marker": {
             "colorbar": {
              "outlinewidth": 0,
              "ticks": ""
             }
            },
            "type": "scatter3d"
           }
          ],
          "scattercarpet": [
           {
            "marker": {
             "colorbar": {
              "outlinewidth": 0,
              "ticks": ""
             }
            },
            "type": "scattercarpet"
           }
          ],
          "scattergeo": [
           {
            "marker": {
             "colorbar": {
              "outlinewidth": 0,
              "ticks": ""
             }
            },
            "type": "scattergeo"
           }
          ],
          "scattergl": [
           {
            "marker": {
             "colorbar": {
              "outlinewidth": 0,
              "ticks": ""
             }
            },
            "type": "scattergl"
           }
          ],
          "scattermapbox": [
           {
            "marker": {
             "colorbar": {
              "outlinewidth": 0,
              "ticks": ""
             }
            },
            "type": "scattermapbox"
           }
          ],
          "scatterpolar": [
           {
            "marker": {
             "colorbar": {
              "outlinewidth": 0,
              "ticks": ""
             }
            },
            "type": "scatterpolar"
           }
          ],
          "scatterpolargl": [
           {
            "marker": {
             "colorbar": {
              "outlinewidth": 0,
              "ticks": ""
             }
            },
            "type": "scatterpolargl"
           }
          ],
          "scatterternary": [
           {
            "marker": {
             "colorbar": {
              "outlinewidth": 0,
              "ticks": ""
             }
            },
            "type": "scatterternary"
           }
          ],
          "surface": [
           {
            "colorbar": {
             "outlinewidth": 0,
             "ticks": ""
            },
            "colorscale": [
             [
              0,
              "#0d0887"
             ],
             [
              0.1111111111111111,
              "#46039f"
             ],
             [
              0.2222222222222222,
              "#7201a8"
             ],
             [
              0.3333333333333333,
              "#9c179e"
             ],
             [
              0.4444444444444444,
              "#bd3786"
             ],
             [
              0.5555555555555556,
              "#d8576b"
             ],
             [
              0.6666666666666666,
              "#ed7953"
             ],
             [
              0.7777777777777778,
              "#fb9f3a"
             ],
             [
              0.8888888888888888,
              "#fdca26"
             ],
             [
              1,
              "#f0f921"
             ]
            ],
            "type": "surface"
           }
          ],
          "table": [
           {
            "cells": {
             "fill": {
              "color": "#EBF0F8"
             },
             "line": {
              "color": "white"
             }
            },
            "header": {
             "fill": {
              "color": "#C8D4E3"
             },
             "line": {
              "color": "white"
             }
            },
            "type": "table"
           }
          ]
         },
         "layout": {
          "annotationdefaults": {
           "arrowcolor": "#2a3f5f",
           "arrowhead": 0,
           "arrowwidth": 1
          },
          "autotypenumbers": "strict",
          "coloraxis": {
           "colorbar": {
            "outlinewidth": 0,
            "ticks": ""
           }
          },
          "colorscale": {
           "diverging": [
            [
             0,
             "#8e0152"
            ],
            [
             0.1,
             "#c51b7d"
            ],
            [
             0.2,
             "#de77ae"
            ],
            [
             0.3,
             "#f1b6da"
            ],
            [
             0.4,
             "#fde0ef"
            ],
            [
             0.5,
             "#f7f7f7"
            ],
            [
             0.6,
             "#e6f5d0"
            ],
            [
             0.7,
             "#b8e186"
            ],
            [
             0.8,
             "#7fbc41"
            ],
            [
             0.9,
             "#4d9221"
            ],
            [
             1,
             "#276419"
            ]
           ],
           "sequential": [
            [
             0,
             "#0d0887"
            ],
            [
             0.1111111111111111,
             "#46039f"
            ],
            [
             0.2222222222222222,
             "#7201a8"
            ],
            [
             0.3333333333333333,
             "#9c179e"
            ],
            [
             0.4444444444444444,
             "#bd3786"
            ],
            [
             0.5555555555555556,
             "#d8576b"
            ],
            [
             0.6666666666666666,
             "#ed7953"
            ],
            [
             0.7777777777777778,
             "#fb9f3a"
            ],
            [
             0.8888888888888888,
             "#fdca26"
            ],
            [
             1,
             "#f0f921"
            ]
           ],
           "sequentialminus": [
            [
             0,
             "#0d0887"
            ],
            [
             0.1111111111111111,
             "#46039f"
            ],
            [
             0.2222222222222222,
             "#7201a8"
            ],
            [
             0.3333333333333333,
             "#9c179e"
            ],
            [
             0.4444444444444444,
             "#bd3786"
            ],
            [
             0.5555555555555556,
             "#d8576b"
            ],
            [
             0.6666666666666666,
             "#ed7953"
            ],
            [
             0.7777777777777778,
             "#fb9f3a"
            ],
            [
             0.8888888888888888,
             "#fdca26"
            ],
            [
             1,
             "#f0f921"
            ]
           ]
          },
          "colorway": [
           "#636efa",
           "#EF553B",
           "#00cc96",
           "#ab63fa",
           "#FFA15A",
           "#19d3f3",
           "#FF6692",
           "#B6E880",
           "#FF97FF",
           "#FECB52"
          ],
          "font": {
           "color": "#2a3f5f"
          },
          "geo": {
           "bgcolor": "white",
           "lakecolor": "white",
           "landcolor": "#E5ECF6",
           "showlakes": true,
           "showland": true,
           "subunitcolor": "white"
          },
          "hoverlabel": {
           "align": "left"
          },
          "hovermode": "closest",
          "mapbox": {
           "style": "light"
          },
          "paper_bgcolor": "white",
          "plot_bgcolor": "#E5ECF6",
          "polar": {
           "angularaxis": {
            "gridcolor": "white",
            "linecolor": "white",
            "ticks": ""
           },
           "bgcolor": "#E5ECF6",
           "radialaxis": {
            "gridcolor": "white",
            "linecolor": "white",
            "ticks": ""
           }
          },
          "scene": {
           "xaxis": {
            "backgroundcolor": "#E5ECF6",
            "gridcolor": "white",
            "gridwidth": 2,
            "linecolor": "white",
            "showbackground": true,
            "ticks": "",
            "zerolinecolor": "white"
           },
           "yaxis": {
            "backgroundcolor": "#E5ECF6",
            "gridcolor": "white",
            "gridwidth": 2,
            "linecolor": "white",
            "showbackground": true,
            "ticks": "",
            "zerolinecolor": "white"
           },
           "zaxis": {
            "backgroundcolor": "#E5ECF6",
            "gridcolor": "white",
            "gridwidth": 2,
            "linecolor": "white",
            "showbackground": true,
            "ticks": "",
            "zerolinecolor": "white"
           }
          },
          "shapedefaults": {
           "line": {
            "color": "#2a3f5f"
           }
          },
          "ternary": {
           "aaxis": {
            "gridcolor": "white",
            "linecolor": "white",
            "ticks": ""
           },
           "baxis": {
            "gridcolor": "white",
            "linecolor": "white",
            "ticks": ""
           },
           "bgcolor": "#E5ECF6",
           "caxis": {
            "gridcolor": "white",
            "linecolor": "white",
            "ticks": ""
           }
          },
          "title": {
           "x": 0.05
          },
          "xaxis": {
           "automargin": true,
           "gridcolor": "white",
           "linecolor": "white",
           "ticks": "",
           "title": {
            "standoff": 15
           },
           "zerolinecolor": "white",
           "zerolinewidth": 2
          },
          "yaxis": {
           "automargin": true,
           "gridcolor": "white",
           "linecolor": "white",
           "ticks": "",
           "title": {
            "standoff": 15
           },
           "zerolinecolor": "white",
           "zerolinewidth": 2
          }
         }
        },
        "title": {
         "text": "Número de artistas mujeres por país "
        },
        "xaxis": {
         "title": {
          "text": "Número de mujeres artistas"
         }
        },
        "yaxis": {
         "title": {
          "text": "PIB (en USD)"
         }
        }
       }
      },
      "text/html": [
       "<div>                            <div id=\"0234e75e-a68d-4d6b-ac3d-bfdd3c530f24\" class=\"plotly-graph-div\" style=\"height:525px; width:100%;\"></div>            <script type=\"text/javascript\">                require([\"plotly\"], function(Plotly) {                    window.PLOTLYENV=window.PLOTLYENV || {};                                    if (document.getElementById(\"0234e75e-a68d-4d6b-ac3d-bfdd3c530f24\")) {                    Plotly.newPlot(                        \"0234e75e-a68d-4d6b-ac3d-bfdd3c530f24\",                        [{\"mode\":\"markers\",\"text\":[\"Estados Unidos\",\"Espa\\u00f1a\",\"Alemania\",\"Francia\",\"Reino Unido\",\"Italia\",\"Austria\",\"Canad\\u00e1\",\"Suiza\",\"Argentina\",\"Polonia\",\"Pa\\u00edses Bajos\",\"Brasil\",\"Suecia\",\"M\\u00e9xico\",\"Jap\\u00f3n\",\"B\\u00e9lgica\",\"Rusia\",\"Australia\",\"Israel\",\"Noruega\",\"Dinamarca\",\"Irlanda\",\"India\",\"Sud\\u00e1frica\",\"Corea del Sur\",\"Ir\\u00e1n\",\"Egipto\",\"Turqu\\u00eda\",\"Vietnam\",\"Filipinas\",\"Nigeria\",\"Indonesia\",\"Banglad\\u00e9s\",\"Singapur\",\"Malasia\",\"Tailandia\",\"Arabia Saudita\",\"Emiratos \\u00c1rabes Unidos\"],\"x\":[1266,1023,701,545,386,252,161,160,159,132,129,126,117,94,93,87,84,79,60,59,36,32,28,27,21,18,15,14,11,5,4,4,4,2,2,1,1,1,1],\"y\":[22997500,1421979,4220591,2935716,3020243,2105462,476797,1990566,812730,480986,673508,1015563,1611864,625575,1292298,4938780,599232,1775036,1733884,480904,481988,395528,498261,3037901,417836,1797081,1081383,438348,809641,366290,393440,429976,1183053,354574,374147,357422,505666,842363,410158],\"type\":\"scatter\"}],                        {\"template\":{\"data\":{\"barpolar\":[{\"marker\":{\"line\":{\"color\":\"#E5ECF6\",\"width\":0.5},\"pattern\":{\"fillmode\":\"overlay\",\"size\":10,\"solidity\":0.2}},\"type\":\"barpolar\"}],\"bar\":[{\"error_x\":{\"color\":\"#2a3f5f\"},\"error_y\":{\"color\":\"#2a3f5f\"},\"marker\":{\"line\":{\"color\":\"#E5ECF6\",\"width\":0.5},\"pattern\":{\"fillmode\":\"overlay\",\"size\":10,\"solidity\":0.2}},\"type\":\"bar\"}],\"carpet\":[{\"aaxis\":{\"endlinecolor\":\"#2a3f5f\",\"gridcolor\":\"white\",\"linecolor\":\"white\",\"minorgridcolor\":\"white\",\"startlinecolor\":\"#2a3f5f\"},\"baxis\":{\"endlinecolor\":\"#2a3f5f\",\"gridcolor\":\"white\",\"linecolor\":\"white\",\"minorgridcolor\":\"white\",\"startlinecolor\":\"#2a3f5f\"},\"type\":\"carpet\"}],\"choropleth\":[{\"colorbar\":{\"outlinewidth\":0,\"ticks\":\"\"},\"type\":\"choropleth\"}],\"contourcarpet\":[{\"colorbar\":{\"outlinewidth\":0,\"ticks\":\"\"},\"type\":\"contourcarpet\"}],\"contour\":[{\"colorbar\":{\"outlinewidth\":0,\"ticks\":\"\"},\"colorscale\":[[0.0,\"#0d0887\"],[0.1111111111111111,\"#46039f\"],[0.2222222222222222,\"#7201a8\"],[0.3333333333333333,\"#9c179e\"],[0.4444444444444444,\"#bd3786\"],[0.5555555555555556,\"#d8576b\"],[0.6666666666666666,\"#ed7953\"],[0.7777777777777778,\"#fb9f3a\"],[0.8888888888888888,\"#fdca26\"],[1.0,\"#f0f921\"]],\"type\":\"contour\"}],\"heatmapgl\":[{\"colorbar\":{\"outlinewidth\":0,\"ticks\":\"\"},\"colorscale\":[[0.0,\"#0d0887\"],[0.1111111111111111,\"#46039f\"],[0.2222222222222222,\"#7201a8\"],[0.3333333333333333,\"#9c179e\"],[0.4444444444444444,\"#bd3786\"],[0.5555555555555556,\"#d8576b\"],[0.6666666666666666,\"#ed7953\"],[0.7777777777777778,\"#fb9f3a\"],[0.8888888888888888,\"#fdca26\"],[1.0,\"#f0f921\"]],\"type\":\"heatmapgl\"}],\"heatmap\":[{\"colorbar\":{\"outlinewidth\":0,\"ticks\":\"\"},\"colorscale\":[[0.0,\"#0d0887\"],[0.1111111111111111,\"#46039f\"],[0.2222222222222222,\"#7201a8\"],[0.3333333333333333,\"#9c179e\"],[0.4444444444444444,\"#bd3786\"],[0.5555555555555556,\"#d8576b\"],[0.6666666666666666,\"#ed7953\"],[0.7777777777777778,\"#fb9f3a\"],[0.8888888888888888,\"#fdca26\"],[1.0,\"#f0f921\"]],\"type\":\"heatmap\"}],\"histogram2dcontour\":[{\"colorbar\":{\"outlinewidth\":0,\"ticks\":\"\"},\"colorscale\":[[0.0,\"#0d0887\"],[0.1111111111111111,\"#46039f\"],[0.2222222222222222,\"#7201a8\"],[0.3333333333333333,\"#9c179e\"],[0.4444444444444444,\"#bd3786\"],[0.5555555555555556,\"#d8576b\"],[0.6666666666666666,\"#ed7953\"],[0.7777777777777778,\"#fb9f3a\"],[0.8888888888888888,\"#fdca26\"],[1.0,\"#f0f921\"]],\"type\":\"histogram2dcontour\"}],\"histogram2d\":[{\"colorbar\":{\"outlinewidth\":0,\"ticks\":\"\"},\"colorscale\":[[0.0,\"#0d0887\"],[0.1111111111111111,\"#46039f\"],[0.2222222222222222,\"#7201a8\"],[0.3333333333333333,\"#9c179e\"],[0.4444444444444444,\"#bd3786\"],[0.5555555555555556,\"#d8576b\"],[0.6666666666666666,\"#ed7953\"],[0.7777777777777778,\"#fb9f3a\"],[0.8888888888888888,\"#fdca26\"],[1.0,\"#f0f921\"]],\"type\":\"histogram2d\"}],\"histogram\":[{\"marker\":{\"pattern\":{\"fillmode\":\"overlay\",\"size\":10,\"solidity\":0.2}},\"type\":\"histogram\"}],\"mesh3d\":[{\"colorbar\":{\"outlinewidth\":0,\"ticks\":\"\"},\"type\":\"mesh3d\"}],\"parcoords\":[{\"line\":{\"colorbar\":{\"outlinewidth\":0,\"ticks\":\"\"}},\"type\":\"parcoords\"}],\"pie\":[{\"automargin\":true,\"type\":\"pie\"}],\"scatter3d\":[{\"line\":{\"colorbar\":{\"outlinewidth\":0,\"ticks\":\"\"}},\"marker\":{\"colorbar\":{\"outlinewidth\":0,\"ticks\":\"\"}},\"type\":\"scatter3d\"}],\"scattercarpet\":[{\"marker\":{\"colorbar\":{\"outlinewidth\":0,\"ticks\":\"\"}},\"type\":\"scattercarpet\"}],\"scattergeo\":[{\"marker\":{\"colorbar\":{\"outlinewidth\":0,\"ticks\":\"\"}},\"type\":\"scattergeo\"}],\"scattergl\":[{\"marker\":{\"colorbar\":{\"outlinewidth\":0,\"ticks\":\"\"}},\"type\":\"scattergl\"}],\"scattermapbox\":[{\"marker\":{\"colorbar\":{\"outlinewidth\":0,\"ticks\":\"\"}},\"type\":\"scattermapbox\"}],\"scatterpolargl\":[{\"marker\":{\"colorbar\":{\"outlinewidth\":0,\"ticks\":\"\"}},\"type\":\"scatterpolargl\"}],\"scatterpolar\":[{\"marker\":{\"colorbar\":{\"outlinewidth\":0,\"ticks\":\"\"}},\"type\":\"scatterpolar\"}],\"scatter\":[{\"fillpattern\":{\"fillmode\":\"overlay\",\"size\":10,\"solidity\":0.2},\"type\":\"scatter\"}],\"scatterternary\":[{\"marker\":{\"colorbar\":{\"outlinewidth\":0,\"ticks\":\"\"}},\"type\":\"scatterternary\"}],\"surface\":[{\"colorbar\":{\"outlinewidth\":0,\"ticks\":\"\"},\"colorscale\":[[0.0,\"#0d0887\"],[0.1111111111111111,\"#46039f\"],[0.2222222222222222,\"#7201a8\"],[0.3333333333333333,\"#9c179e\"],[0.4444444444444444,\"#bd3786\"],[0.5555555555555556,\"#d8576b\"],[0.6666666666666666,\"#ed7953\"],[0.7777777777777778,\"#fb9f3a\"],[0.8888888888888888,\"#fdca26\"],[1.0,\"#f0f921\"]],\"type\":\"surface\"}],\"table\":[{\"cells\":{\"fill\":{\"color\":\"#EBF0F8\"},\"line\":{\"color\":\"white\"}},\"header\":{\"fill\":{\"color\":\"#C8D4E3\"},\"line\":{\"color\":\"white\"}},\"type\":\"table\"}]},\"layout\":{\"annotationdefaults\":{\"arrowcolor\":\"#2a3f5f\",\"arrowhead\":0,\"arrowwidth\":1},\"autotypenumbers\":\"strict\",\"coloraxis\":{\"colorbar\":{\"outlinewidth\":0,\"ticks\":\"\"}},\"colorscale\":{\"diverging\":[[0,\"#8e0152\"],[0.1,\"#c51b7d\"],[0.2,\"#de77ae\"],[0.3,\"#f1b6da\"],[0.4,\"#fde0ef\"],[0.5,\"#f7f7f7\"],[0.6,\"#e6f5d0\"],[0.7,\"#b8e186\"],[0.8,\"#7fbc41\"],[0.9,\"#4d9221\"],[1,\"#276419\"]],\"sequential\":[[0.0,\"#0d0887\"],[0.1111111111111111,\"#46039f\"],[0.2222222222222222,\"#7201a8\"],[0.3333333333333333,\"#9c179e\"],[0.4444444444444444,\"#bd3786\"],[0.5555555555555556,\"#d8576b\"],[0.6666666666666666,\"#ed7953\"],[0.7777777777777778,\"#fb9f3a\"],[0.8888888888888888,\"#fdca26\"],[1.0,\"#f0f921\"]],\"sequentialminus\":[[0.0,\"#0d0887\"],[0.1111111111111111,\"#46039f\"],[0.2222222222222222,\"#7201a8\"],[0.3333333333333333,\"#9c179e\"],[0.4444444444444444,\"#bd3786\"],[0.5555555555555556,\"#d8576b\"],[0.6666666666666666,\"#ed7953\"],[0.7777777777777778,\"#fb9f3a\"],[0.8888888888888888,\"#fdca26\"],[1.0,\"#f0f921\"]]},\"colorway\":[\"#636efa\",\"#EF553B\",\"#00cc96\",\"#ab63fa\",\"#FFA15A\",\"#19d3f3\",\"#FF6692\",\"#B6E880\",\"#FF97FF\",\"#FECB52\"],\"font\":{\"color\":\"#2a3f5f\"},\"geo\":{\"bgcolor\":\"white\",\"lakecolor\":\"white\",\"landcolor\":\"#E5ECF6\",\"showlakes\":true,\"showland\":true,\"subunitcolor\":\"white\"},\"hoverlabel\":{\"align\":\"left\"},\"hovermode\":\"closest\",\"mapbox\":{\"style\":\"light\"},\"paper_bgcolor\":\"white\",\"plot_bgcolor\":\"#E5ECF6\",\"polar\":{\"angularaxis\":{\"gridcolor\":\"white\",\"linecolor\":\"white\",\"ticks\":\"\"},\"bgcolor\":\"#E5ECF6\",\"radialaxis\":{\"gridcolor\":\"white\",\"linecolor\":\"white\",\"ticks\":\"\"}},\"scene\":{\"xaxis\":{\"backgroundcolor\":\"#E5ECF6\",\"gridcolor\":\"white\",\"gridwidth\":2,\"linecolor\":\"white\",\"showbackground\":true,\"ticks\":\"\",\"zerolinecolor\":\"white\"},\"yaxis\":{\"backgroundcolor\":\"#E5ECF6\",\"gridcolor\":\"white\",\"gridwidth\":2,\"linecolor\":\"white\",\"showbackground\":true,\"ticks\":\"\",\"zerolinecolor\":\"white\"},\"zaxis\":{\"backgroundcolor\":\"#E5ECF6\",\"gridcolor\":\"white\",\"gridwidth\":2,\"linecolor\":\"white\",\"showbackground\":true,\"ticks\":\"\",\"zerolinecolor\":\"white\"}},\"shapedefaults\":{\"line\":{\"color\":\"#2a3f5f\"}},\"ternary\":{\"aaxis\":{\"gridcolor\":\"white\",\"linecolor\":\"white\",\"ticks\":\"\"},\"baxis\":{\"gridcolor\":\"white\",\"linecolor\":\"white\",\"ticks\":\"\"},\"bgcolor\":\"#E5ECF6\",\"caxis\":{\"gridcolor\":\"white\",\"linecolor\":\"white\",\"ticks\":\"\"}},\"title\":{\"x\":0.05},\"xaxis\":{\"automargin\":true,\"gridcolor\":\"white\",\"linecolor\":\"white\",\"ticks\":\"\",\"title\":{\"standoff\":15},\"zerolinecolor\":\"white\",\"zerolinewidth\":2},\"yaxis\":{\"automargin\":true,\"gridcolor\":\"white\",\"linecolor\":\"white\",\"ticks\":\"\",\"title\":{\"standoff\":15},\"zerolinecolor\":\"white\",\"zerolinewidth\":2}}},\"title\":{\"text\":\"N\\u00famero de artistas mujeres por pa\\u00eds \"},\"xaxis\":{\"title\":{\"text\":\"N\\u00famero de mujeres artistas\"}},\"yaxis\":{\"title\":{\"text\":\"PIB (en USD)\"}}},                        {\"responsive\": true}                    ).then(function(){\n",
       "                            \n",
       "var gd = document.getElementById('0234e75e-a68d-4d6b-ac3d-bfdd3c530f24');\n",
       "var x = new MutationObserver(function (mutations, observer) {{\n",
       "        var display = window.getComputedStyle(gd).display;\n",
       "        if (!display || display === 'none') {{\n",
       "            console.log([gd, 'removed!']);\n",
       "            Plotly.purge(gd);\n",
       "            observer.disconnect();\n",
       "        }}\n",
       "}});\n",
       "\n",
       "// Listen for the removal of the full notebook cells\n",
       "var notebookContainer = gd.closest('#notebook-container');\n",
       "if (notebookContainer) {{\n",
       "    x.observe(notebookContainer, {childList: true});\n",
       "}}\n",
       "\n",
       "// Listen for the clearing of the current output cell\n",
       "var outputEl = gd.closest('.output');\n",
       "if (outputEl) {{\n",
       "    x.observe(outputEl, {childList: true});\n",
       "}}\n",
       "\n",
       "                        })                };                });            </script>        </div>"
      ]
     },
     "metadata": {},
     "output_type": "display_data"
    }
   ],
   "source": [
    "trace = go.Scatter(\n",
    "    x = pib_numero_mujers.nacPais,\n",
    "    y = pib_numero_mujers['PIB (float)'],\n",
    "    mode = 'markers',\n",
    "    text = pib_numero_mujers.País,\n",
    "    \n",
    ")\n",
    "\n",
    "data = [trace]\n",
    "\n",
    "layout = dict(\n",
    "            title='Número de artistas mujeres por país ',\n",
    "            yaxis = dict(\n",
    "                title = \"PIB (en USD)\"\n",
    "            ),\n",
    "            xaxis = dict(\n",
    "                title = \"Número de mujeres artistas\"\n",
    "            )\n",
    "         )\n",
    "fig = go.Figure(data=data, layout=layout)\n",
    "iplot(fig)\n",
    "\n"
   ]
  },
  {
   "cell_type": "markdown",
   "id": "a479720a",
   "metadata": {},
   "source": [
    "No parece que el número de artistas aumente si aumenta el pib del país."
   ]
  }
 ],
 "metadata": {
  "hide_input": false,
  "kernelspec": {
   "display_name": "Python 3 (ipykernel)",
   "language": "python",
   "name": "python3"
  },
  "language_info": {
   "codemirror_mode": {
    "name": "ipython",
    "version": 3
   },
   "file_extension": ".py",
   "mimetype": "text/x-python",
   "name": "python",
   "nbconvert_exporter": "python",
   "pygments_lexer": "ipython3",
   "version": "3.11.1"
  },
  "nbTranslate": {
   "displayLangs": [
    "en",
    "es"
   ],
   "hotkey": "alt-t",
   "langInMainMenu": true,
   "sourceLang": "es",
   "targetLang": "en",
   "useGoogleTranslate": true
  },
  "toc": {
   "base_numbering": 1,
   "nav_menu": {},
   "number_sections": true,
   "sideBar": true,
   "skip_h1_title": false,
   "title_cell": "Table of Contents",
   "title_sidebar": "Contents",
   "toc_cell": false,
   "toc_position": {},
   "toc_section_display": true,
   "toc_window_display": true
  }
 },
 "nbformat": 4,
 "nbformat_minor": 5
}
